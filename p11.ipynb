{
 "cells": [
  {
   "cell_type": "code",
   "execution_count": 1,
   "id": "4677ce4b",
   "metadata": {
    "cell_type": "code",
    "deletable": false,
    "editable": false
   },
   "outputs": [],
   "source": [
    "# import and initialize otter\n",
    "import otter\n",
    "grader = otter.Notebook(\"p11.ipynb\")"
   ]
  },
  {
   "cell_type": "code",
   "execution_count": 2,
   "id": "73b10e60",
   "metadata": {
    "deletable": false,
    "editable": false,
    "execution": {
     "iopub.execute_input": "2024-04-10T02:29:57.849606Z",
     "iopub.status.busy": "2024-04-10T02:29:57.848847Z",
     "iopub.status.idle": "2024-04-10T02:29:58.278091Z",
     "shell.execute_reply": "2024-04-10T02:29:58.277853Z"
    }
   },
   "outputs": [],
   "source": [
    "import public_tests"
   ]
  },
  {
   "cell_type": "code",
   "execution_count": 3,
   "id": "db59b584",
   "metadata": {
    "execution": {
     "iopub.execute_input": "2024-04-10T02:29:58.279812Z",
     "iopub.status.busy": "2024-04-10T02:29:58.279512Z",
     "iopub.status.idle": "2024-04-10T02:29:58.281113Z",
     "shell.execute_reply": "2024-04-10T02:29:58.280920Z"
    }
   },
   "outputs": [],
   "source": [
    "# PLEASE FILL IN THE DETAILS\n",
    "# Enter none if you don't have a project partner\n",
    "# You will have to add your partner as a group member on Gradescope even after you fill this\n",
    "\n",
    "# project: p11\n",
    "# submitter: nwray2\n",
    "# partner: jjgartner\n",
    "# hours: ???"
   ]
  },
  {
   "cell_type": "markdown",
   "id": "6840bc51",
   "metadata": {
    "deletable": false,
    "editable": false
   },
   "source": [
    "# Project 11: Analyzing Stars and Planets"
   ]
  },
  {
   "cell_type": "markdown",
   "id": "42b6b6a4",
   "metadata": {
    "deletable": false,
    "editable": false
   },
   "source": [
    "# Learning Objectives:\n",
    "\n",
    "In this project, you will demonstrate how to:\n",
    "    \n",
    "* analyze the data from P10,\n",
    "* make scatter plots using `matplotlib`,\n",
    "* remove outliers to make the plots more useful,\n",
    "* use recursion to gather new data.\n",
    "\n",
    "**Please go through [Lab-P11](https://git.doit.wisc.edu/cdis/cs/courses/cs220/cs220-s24-projects/-/tree/main/lab-p11) before working on this project.** The lab introduces some important techniques related to this project."
   ]
  },
  {
   "cell_type": "markdown",
   "id": "c0792bd3",
   "metadata": {
    "deletable": false,
    "editable": false
   },
   "source": [
    "<h2 style=\"color:red\">Warning (Note on Academic Misconduct):</h2>\n",
    "\n",
    "**IMPORTANT**: **P10 and P11 are two parts of the same data analysis.** You **cannot** switch project partners between these two projects. That is, if you partnered up with someone for P10, you have to sustain that partnership until the end of P11. Now may be a good time to review [our course policies](https://cs220.cs.wisc.edu/s24/syllabus.html).\n",
    "\n",
    "Under any circumstances, **no more than two students are allowed to work together on a project** as mentioned in the course policies. If your code is flagged by our code similarity detection tools, **both partners will be responsible** for sharing/copying the code, even if the code is shared/copied by one of the partners with/from other non-partner student(s). Note that each case of plagiarism will be reported to the Dean of Students with a zero grade on the project. **If you think that someone cannot be your project partner then don’t make that student your lab partner.**\n",
    "\n",
    "**<font color = \"red\">Project partners must submit only one copy of their project on Gradescope, but they must include the names of both partners.</font>**"
   ]
  },
  {
   "cell_type": "markdown",
   "id": "9352e285",
   "metadata": {
    "deletable": false,
    "editable": false
   },
   "source": [
    "## Testing your code:\n",
    "\n",
    "Along with this notebook, you must have downloaded the files `public_tests.py` and `expected_plots.json`. If you are curious about how we test your code, you can explore this file, and specifically the output of the function `get_expected_json`, to understand the expected answers to the questions.\n",
    "\n",
    "**Important:** `public_tests.py` **cannot** verify your answers when the output is an image. Your **plots** will be **checked** by the Gradescope autograder, so you must **manually** confirm that your plots look correct by comparing with the images provided in the notebook."
   ]
  },
  {
   "cell_type": "markdown",
   "id": "ae904646",
   "metadata": {
    "deletable": false,
    "editable": false
   },
   "source": [
    "## Setup:\n",
    "\n",
    "In P11, you will be analyzing the same dataset that you parsed in P10. You can either copy/paste the `data` directory to your P11 directory, or download the `data.zip` file provided with this project, and extract it. In addition to the `data` directory, you will also need to download additional datasets for P11. You must download `broken_data.zip` and extract it. You must extract the contents of the directory `broken_data` into the same directory which contains the `data` directory, `p11.ipynb`, `public_tests.py`, and `expected_plots.json`.\n",
    "\n",
    "You need to make sure that the project files are stored in the following structure:\n",
    "\n",
    "```\n",
    "+-- p11.ipynb\n",
    "+-- public_tests.py\n",
    "+-- expected_plots.json\n",
    "+-- data\n",
    "|   +-- .DS_Store\n",
    "|   +-- .ipynb_checkpoints\n",
    "|   +-- mapping_1.json\n",
    "|   +-- mapping_2.json\n",
    "|   +-- mapping_3.json\n",
    "|   +-- mapping_4.json\n",
    "|   +-- mapping_5.json\n",
    "|   +-- planets_1.csv\n",
    "|   +-- planets_2.csv\n",
    "|   +-- planets_3.csv\n",
    "|   +-- planets_4.csv\n",
    "|   +-- planets_5.csv\n",
    "|   +-- stars_1.csv\n",
    "|   +-- stars_2.csv\n",
    "|   +-- stars_3.csv\n",
    "|   +-- stars_4.csv\n",
    "|   +-- stars_5.csv\n",
    "+-- broken_data\n",
    "|   +-- .DS_Store\n",
    "|   +-- k2s.json\n",
    "|   +-- others.json\n",
    "|   +-- gj\n",
    "|   |   +-- .ipynb_checkpoints\n",
    "|   |   +-- .DS_Store\n",
    "|   |   +-- gjs.json\n",
    "|   +-- hd\n",
    "|   |   +-- 10000\n",
    "|   |   |   +-- .ipynb_checkpoints\n",
    "|   |   |   +-- 10000s.json\n",
    "|   |   +-- other\n",
    "|   |   |   +-- .DS_Store\n",
    "|   |   |   +-- others.json\n",
    "|   +-- kepler\n",
    "|   |   +-- 10\n",
    "|   |   |   +-- 30\n",
    "|   |   |   |   +-- 30s.json\n",
    "|   |   |   +-- 20s.json\n",
    "|   |   |   +-- 80s.json\n",
    "|   |   |   +-- others.json\n",
    "|   |   +-- 100\n",
    "|   |   |   +-- 100\n",
    "|   |   |   |   +-- .DS_Store\n",
    "|   |   |   |   +-- 100s.json\n",
    "|   |   |   |   +-- others.json\n",
    "|   |   |   +-- 200\n",
    "|   |   |   |   +-- .DS_Store\n",
    "|   |   |   |   +-- 220s.json\n",
    "|   |   |   |   +-- others.json\n",
    "|   |   |   |   +-- 290\n",
    "|   |   |   |   |   +-- .DS_Store\n",
    "|   |   |   |   |   +-- .ipynb_checkpoints\n",
    "|   |   |   |   |   +-- 290s.json\n",
    "|   |   |   |   +-- other\n",
    "|   |   |   |   |   +-- .ipynb_checkpoints\n",
    "|   |   |   +-- other\n",
    "|   |   |   |   +-- .ipynb_checkpoints\n",
    "|   |   |   |   +-- others.json\n",
    "|   |   +-- other\n",
    "|   |   |   +-- others.json\n",
    "|   +-- toi\n",
    "|   |   +-- .DS_Store\n",
    "|   |   +-- tois.json\n",
    "```\n",
    "\n",
    "Make sure that **all** files are stored in this **exact** file structure. Otherwise, then there is a possibility that your code will **fail on Gradescope** even after passing local tests."
   ]
  },
  {
   "cell_type": "markdown",
   "id": "d4dc2fd9",
   "metadata": {
    "deletable": false,
    "editable": false
   },
   "source": [
    "## Project Description:\n",
    "\n",
    "You have already parsed the data in the `data` directory in P10. You will now dive deeper by analyzing this data and arrive at some exciting conclusions about various planets and stars outside our Solar System. You will also use recursion to retrieve data from the broken JSON file in the `data` directory, and ask some interesting questions about the data."
   ]
  },
  {
   "cell_type": "markdown",
   "id": "1b7ab261",
   "metadata": {
    "deletable": false,
    "editable": false
   },
   "source": [
    "## Project Requirements:\n",
    "\n",
    "You **may not** hardcode indices in your code, unless the question explicitly says so. If you open your `.csv` files with Excel, manually count through the rows and use this number to loop through the dataset, this is also considered as hardcoding. If any instances of hardcoding are found during code review, the Gradescope autograder will **deduct** points from your public score.\n",
    "\n",
    "**Store** your final answer for each question in the **variable specified for each question**. This step is important because Otter grades your work by comparing the value of this variable against the correct answer.\n",
    "\n",
    "For some of the questions, we'll ask you to write (then use) a function to compute the answer. If you compute the answer **without** creating the function we ask you to write, the Gradescope autograder will **deduct** points from your public test score, even if the way you did it produced the correct answer.\n",
    "\n",
    "#### Required Functions:\n",
    "- `star_cell`\n",
    "- `get_stars`\n",
    "- `planet_cell`\n",
    "- `get_planets`\n",
    "- `plot_scatter`\n",
    "- `plot_scatter_multiple`\n",
    "- `get_all_paths_in`\n",
    "- `get_surface_gravity`\n",
    "- `get_distances_to_star`\n",
    "- `get_liquid_water_distances`\n",
    "- `get_surface_temperatures`\n",
    "\n",
    "In this project, you will also be required to define certain **data structures**. If you do not create these data structures exactly as specified, the Gradescope autograder will **deduct** points from your public test score, even if the way you did it produced the correct answer.\n",
    "\n",
    "#### Required Data Structures:\n",
    "- `Star` (**namedtuple**)\n",
    "- `stars_dict` (**dictionary** mapping **strings** to `Star` objects)\n",
    "- `Planet` (**namedtuple**)\n",
    "- `planets_list` (**list** of `Planet` objects)\n",
    "- `star_classes` (**dictionary**)\n",
    "- `all_planets_list` (**list** of `Planet` objects)\n",
    "\n",
    "In addition, you are also **required** to follow the requirements below:\n",
    "\n",
    "* You **must** never use the output of the `os.listdir` function directly. You **must** always first remove all files and directories that start with `\".\"`, and **explicitly sort** the list before doing anything with it.\n",
    "* You are **not** allowed to use **modules** like `pandas` to answer the questions in this project.\n",
    "* You **must** properly **label** the axes of all your **plots**.\n",
    "* Do **not** define multiple functions with the same name or define multiple versions of one function with different names. Just keep the best version.\n",
    "* Do **not** leave in irrelevant output or test code that we didn't ask for.\n",
    "\n",
    "Otherwise, the Gradescope autograder will **deduct** points from your public score.\n",
    "\n",
    "For more details on what will cause you to lose points during code review and specific requirements, please take a look at the [Grading rubric](https://git.doit.wisc.edu/cdis/cs/courses/cs220/cs220-s24-projects/-/blob/main/p11/rubric.md)."
   ]
  },
  {
   "cell_type": "markdown",
   "id": "deb1cc46",
   "metadata": {
    "deletable": false,
    "editable": false
   },
   "source": [
    "## Questions and Functions:\n",
    "\n",
    "Let us start by importing all the modules we will need for this project."
   ]
  },
  {
   "cell_type": "code",
   "execution_count": 4,
   "id": "3c7058fc",
   "metadata": {
    "execution": {
     "iopub.execute_input": "2024-04-10T02:29:58.282799Z",
     "iopub.status.busy": "2024-04-10T02:29:58.282723Z",
     "iopub.status.idle": "2024-04-10T02:29:58.463186Z",
     "shell.execute_reply": "2024-04-10T02:29:58.462862Z"
    },
    "tags": []
   },
   "outputs": [],
   "source": [
    "# it is considered a good coding practice to place all import statements at the top of the notebook\n",
    "# please place all your import statements in this cell if you need to import any more modules for this project\n",
    "import os\n",
    "import json\n",
    "from collections import namedtuple\n",
    "import matplotlib.pyplot as plt\n",
    "import csv\n",
    "import statistics\n",
    "import math\n",
    "import copy\n"
   ]
  },
  {
   "cell_type": "markdown",
   "id": "f803a52b",
   "metadata": {
    "deletable": false,
    "editable": false
   },
   "source": [
    "### Loading in the Stars and Planets:\n",
    "\n",
    "Before we can analyze the data in the `data` directory, you must first copy/paste all the functions and data strucutres you created in P10 to parse the data."
   ]
  },
  {
   "cell_type": "code",
   "execution_count": 5,
   "id": "d8f07acf",
   "metadata": {
    "execution": {
     "iopub.execute_input": "2024-04-10T02:29:58.464893Z",
     "iopub.status.busy": "2024-04-10T02:29:58.464683Z",
     "iopub.status.idle": "2024-04-10T02:29:58.466809Z",
     "shell.execute_reply": "2024-04-10T02:29:58.466569Z"
    },
    "tags": []
   },
   "outputs": [],
   "source": [
    "# copy/paste the definition of the namedtuple 'Star' here\n",
    "star_attributes = [\"spectral_type\", \"stellar_effective_temperature\", \"stellar_radius\", \n",
    "                \"stellar_mass\", \"stellar_luminosity\", \"stellar_surface_gravity\", \n",
    "                \"stellar_age\"]\n",
    "\n",
    "Star = namedtuple(\"Star\", star_attributes)"
   ]
  },
  {
   "cell_type": "code",
   "execution_count": 6,
   "id": "0b58c510",
   "metadata": {
    "deletable": false,
    "editable": false
   },
   "outputs": [
    {
     "data": {
      "text/html": [
       "<p><strong><pre style='display: inline;'>Star</pre></strong> passed! 🍀</p>"
      ],
      "text/plain": [
       "Star results: All test cases passed!"
      ]
     },
     "execution_count": 6,
     "metadata": {},
     "output_type": "execute_result"
    }
   ],
   "source": [
    "grader.check(\"Star\")"
   ]
  },
  {
   "cell_type": "code",
   "execution_count": 7,
   "id": "d055f32e",
   "metadata": {
    "execution": {
     "iopub.execute_input": "2024-04-10T02:29:58.470811Z",
     "iopub.status.busy": "2024-04-10T02:29:58.470735Z",
     "iopub.status.idle": "2024-04-10T02:29:58.472347Z",
     "shell.execute_reply": "2024-04-10T02:29:58.472140Z"
    },
    "tags": []
   },
   "outputs": [],
   "source": [
    "def process_csv(filename):\n",
    "    example_file = open(filename, encoding=\"utf-8\")\n",
    "    example_reader = csv.reader(example_file)\n",
    "    example_data = list(example_reader)\n",
    "    example_file.close()\n",
    "    return example_data\n"
   ]
  },
  {
   "cell_type": "code",
   "execution_count": 8,
   "id": "3e9faed4",
   "metadata": {
    "execution": {
     "iopub.execute_input": "2024-04-10T02:29:58.473435Z",
     "iopub.status.busy": "2024-04-10T02:29:58.473367Z",
     "iopub.status.idle": "2024-04-10T02:29:58.476860Z",
     "shell.execute_reply": "2024-04-10T02:29:58.476651Z"
    },
    "tags": []
   },
   "outputs": [],
   "source": [
    "# copy/paste the definition of the function 'star_cell' here\n",
    "stars_1_csv = process_csv(os.path.join(\"data\", \"stars_1.csv\"))\n",
    "stars_header = stars_1_csv[0]\n",
    "stars_1_rows = stars_1_csv[1:]\n",
    "def star_cell(row_idx, col_name, stars_rows, header=stars_header):\n",
    "    col_idx = header.index(col_name)\n",
    "    val = stars_rows[row_idx][col_idx]\n",
    "    if val == '':\n",
    "        return None\n",
    "    if col_name.endswith('[K]') or col_name.endswith('[log10(cm/s**2)]'):\n",
    "        return float(val)\n",
    "    elif col_name.endswith('[Solar Radius]') or col_name.endswith('[log(Solar)]') or col_name.endswith('[Solar Mass]'):\n",
    "        return float(val) if val != '' else None\n",
    "    elif col_name.endswith('[Gyr]'):\n",
    "        return float(val) if val != '' else None\n",
    "    else:\n",
    "        return val\n"
   ]
  },
  {
   "cell_type": "code",
   "execution_count": 9,
   "id": "fd8f3750",
   "metadata": {
    "deletable": false,
    "editable": false
   },
   "outputs": [
    {
     "data": {
      "text/html": [
       "<p><strong><pre style='display: inline;'>star_cell</pre></strong> passed! 🌈</p>"
      ],
      "text/plain": [
       "star_cell results: All test cases passed!"
      ]
     },
     "execution_count": 9,
     "metadata": {},
     "output_type": "execute_result"
    }
   ],
   "source": [
    "grader.check(\"star_cell\")"
   ]
  },
  {
   "cell_type": "code",
   "execution_count": 10,
   "id": "84ff604d",
   "metadata": {
    "execution": {
     "iopub.execute_input": "2024-04-10T02:29:58.480611Z",
     "iopub.status.busy": "2024-04-10T02:29:58.480530Z",
     "iopub.status.idle": "2024-04-10T02:29:58.482691Z",
     "shell.execute_reply": "2024-04-10T02:29:58.482471Z"
    },
    "tags": []
   },
   "outputs": [],
   "source": [
    "def get_stars(star_file):\n",
    "    stars_dict = {}\n",
    "    \n",
    "    star_processed = process_csv(star_file)\n",
    "    header = star_processed[0]\n",
    "    stars_rows = star_processed[1:]\n",
    "    for row_idx in range(len(stars_rows)):\n",
    "        star_name = star_cell(row_idx,'Star Name', stars_rows)\n",
    "        spectral_type = star_cell(row_idx,'Spectral Type', stars_rows)\n",
    "        stellar_effective_temperature = star_cell(row_idx,'Stellar Effective Temperature [K]', stars_rows)\n",
    "        stellar_radius = star_cell(row_idx,'Stellar Radius [Solar Radius]', stars_rows)\n",
    "        stellar_mass = star_cell(row_idx,'Stellar Mass [Solar mass]', stars_rows)\n",
    "        stellar_luminosity = star_cell(row_idx,'Stellar Luminosity [log(Solar)]', stars_rows)\n",
    "        stellar_surface_gravity = star_cell(row_idx,'Stellar Surface Gravity [log10(cm/s**2)]', stars_rows)\n",
    "        stellar_age = star_cell(row_idx,'Stellar Age [Gyr]', stars_rows)\n",
    "        \n",
    "        star = Star(spectral_type, stellar_effective_temperature, stellar_radius, \n",
    "                    stellar_mass, stellar_luminosity, \n",
    "                   stellar_surface_gravity, stellar_age)\n",
    "        \n",
    "        stars_dict[star_name] = star\n",
    "        \n",
    "    return stars_dict"
   ]
  },
  {
   "cell_type": "code",
   "execution_count": 11,
   "id": "ec23bb32",
   "metadata": {
    "deletable": false,
    "editable": false
   },
   "outputs": [
    {
     "data": {
      "text/html": [
       "<p><strong><pre style='display: inline;'>get_stars</pre></strong> passed! 🌟</p>"
      ],
      "text/plain": [
       "get_stars results: All test cases passed!"
      ]
     },
     "execution_count": 11,
     "metadata": {},
     "output_type": "execute_result"
    }
   ],
   "source": [
    "grader.check(\"get_stars\")"
   ]
  },
  {
   "cell_type": "code",
   "execution_count": 12,
   "id": "4edbb641",
   "metadata": {
    "execution": {
     "iopub.execute_input": "2024-04-10T02:29:58.486433Z",
     "iopub.status.busy": "2024-04-10T02:29:58.486363Z",
     "iopub.status.idle": "2024-04-10T02:29:58.498044Z",
     "shell.execute_reply": "2024-04-10T02:29:58.497831Z"
    },
    "tags": []
   },
   "outputs": [
    {
     "name": "stdout",
     "output_type": "stream",
     "text": [
      "data/stars_2.csv\n",
      "data/stars_3.csv\n",
      "data/stars_4.csv\n",
      "data/stars_5.csv\n"
     ]
    }
   ],
   "source": [
    "\n",
    "files_in_data = os.listdir('data')\n",
    "for n in files_in_data:\n",
    "    if n[0] == ',':\n",
    "        files_in_data.pop(files_in_data.index(n))\n",
    "files_in_data.sort()\n",
    "files_in_data\n",
    "file_paths = []\n",
    "for file in files_in_data:\n",
    "    file_paths.append(os.path.join(\"data\", file))\n",
    "stars_1_dict = get_stars(os.path.join('data', \"stars_1.csv\"))\n",
    "stars_dict = stars_1_dict\n",
    "stars_paths = []\n",
    "for file in file_paths:\n",
    "    if file[5:10] == \"stars\":\n",
    "        stars_paths.append(file)\n",
    "stars_paths\n",
    "for path in stars_paths[1:]:\n",
    "    print(path)\n",
    "    stars_dict.update(get_stars(path))"
   ]
  },
  {
   "cell_type": "code",
   "execution_count": 13,
   "id": "1df728ee",
   "metadata": {
    "deletable": false,
    "editable": false
   },
   "outputs": [
    {
     "data": {
      "text/html": [
       "<p><strong><pre style='display: inline;'>stars_dict</pre></strong> passed! 🍀</p>"
      ],
      "text/plain": [
       "stars_dict results: All test cases passed!"
      ]
     },
     "execution_count": 13,
     "metadata": {},
     "output_type": "execute_result"
    }
   ],
   "source": [
    "grader.check(\"stars_dict\")"
   ]
  },
  {
   "cell_type": "code",
   "execution_count": 14,
   "id": "a29bb092",
   "metadata": {
    "execution": {
     "iopub.execute_input": "2024-04-10T02:29:58.501990Z",
     "iopub.status.busy": "2024-04-10T02:29:58.501920Z",
     "iopub.status.idle": "2024-04-10T02:29:58.503577Z",
     "shell.execute_reply": "2024-04-10T02:29:58.503392Z"
    },
    "tags": []
   },
   "outputs": [],
   "source": [
    "\n",
    "# copy/paste the definition of the namedtuple 'Planet' here\n",
    "Planet = namedtuple(\"Planet\", [\"planet_name\", \"host_name\", \"discovery_method\", \n",
    "                               \"discovery_year\", \"controversial_flag\", \"orbital_period\", \"planet_radius\", \n",
    "                               \"planet_mass\", \"semi_major_radius\", \"eccentricity\", \"equilibrium_temperature\", \"insolation_flux\"])\n",
    "\n",
    "\n",
    "\n",
    "planet_attributes = [\"planet_name\", \"host_name\", \"discovery_method\", \"discovery_year\", \"controversial_flag\", \"orbital_period\", \"planet_radius\", \n",
    "                               \"planet_mass\", \"semi_major_radius\", \"eccentricity\", \"equilibrium_temperature\", \"insolation_flux\"]"
   ]
  },
  {
   "cell_type": "code",
   "execution_count": 15,
   "id": "b52d8301",
   "metadata": {
    "deletable": false,
    "editable": false
   },
   "outputs": [
    {
     "data": {
      "text/html": [
       "<p><strong><pre style='display: inline;'>Planet</pre></strong> passed! ✨</p>"
      ],
      "text/plain": [
       "Planet results: All test cases passed!"
      ]
     },
     "execution_count": 15,
     "metadata": {},
     "output_type": "execute_result"
    }
   ],
   "source": [
    "grader.check(\"Planet\")"
   ]
  },
  {
   "cell_type": "code",
   "execution_count": 16,
   "id": "fc05e373",
   "metadata": {
    "execution": {
     "iopub.execute_input": "2024-04-10T02:29:58.507161Z",
     "iopub.status.busy": "2024-04-10T02:29:58.507097Z",
     "iopub.status.idle": "2024-04-10T02:29:58.508640Z",
     "shell.execute_reply": "2024-04-10T02:29:58.508445Z"
    },
    "tags": []
   },
   "outputs": [],
   "source": [
    "\n",
    "# copy/paste the definition of the function 'read_json' here\n",
    "def read_json(path):\n",
    "    with open(path, encoding=\"utf-8\") as f:\n",
    "        return json.load(f)"
   ]
  },
  {
   "cell_type": "code",
   "execution_count": 17,
   "id": "9d2d74f3",
   "metadata": {
    "execution": {
     "iopub.execute_input": "2024-04-10T02:29:58.509715Z",
     "iopub.status.busy": "2024-04-10T02:29:58.509651Z",
     "iopub.status.idle": "2024-04-10T02:29:58.513314Z",
     "shell.execute_reply": "2024-04-10T02:29:58.513077Z"
    },
    "tags": []
   },
   "outputs": [],
   "source": [
    "# copy/paste the definition of the function 'planet_cell' here\n",
    "planets_1_csv = process_csv(os.path.join('data', 'planets_1.csv'))\n",
    "planets_header = planets_1_csv[0]\n",
    "planets_rows = planets_1_csv[1:]\n",
    "\n",
    "def planet_cell(row_idx, col_name, planets_rows, header=planets_header):\n",
    "    col_idx = header.index(col_name)\n",
    "    val = planets_rows[row_idx][col_idx]\n",
    "    \n",
    "    if val == '':\n",
    "        return None\n",
    "    if col_name in ['Controversial flag']:\n",
    "        if val == '1':\n",
    "            return True\n",
    "        else:\n",
    "            return False\n",
    "    if col_name == 'Discovery year':\n",
    "        return int(val)\n",
    "    elif col_name in [\"Orbital Period [days]\", \"Planet Radius [Earth Radius]\", \"Planet Mass [Earth Mass]\",\n",
    "                     \"Orbit Semi-Major Axis [au]\", \"Eccentricity\", \"Equilibrium Temperature [K]\",\n",
    "                      \"Insolation Flux [Earth Flux]\"]:\n",
    "        return float(val)\n",
    "    else:\n",
    "        return val\n",
    "    \n"
   ]
  },
  {
   "cell_type": "code",
   "execution_count": 18,
   "id": "c75a5e94",
   "metadata": {
    "deletable": false,
    "editable": false
   },
   "outputs": [
    {
     "data": {
      "text/html": [
       "<p><strong><pre style='display: inline;'>planet_cell</pre></strong> passed! 🎉</p>"
      ],
      "text/plain": [
       "planet_cell results: All test cases passed!"
      ]
     },
     "execution_count": 18,
     "metadata": {},
     "output_type": "execute_result"
    }
   ],
   "source": [
    "grader.check(\"planet_cell\")"
   ]
  },
  {
   "cell_type": "code",
   "execution_count": 19,
   "id": "9a3837f3",
   "metadata": {
    "execution": {
     "iopub.execute_input": "2024-04-10T02:29:58.517179Z",
     "iopub.status.busy": "2024-04-10T02:29:58.517105Z",
     "iopub.status.idle": "2024-04-10T02:29:58.519875Z",
     "shell.execute_reply": "2024-04-10T02:29:58.519680Z"
    },
    "tags": []
   },
   "outputs": [],
   "source": [
    "# copy/paste the definition of the function 'get_planets' here\n",
    "def get_planets(planet_file, mapping_file):\n",
    "    with open(planet_file, 'r') as f:\n",
    "        planet_data = [line.strip().split(',') for line in f.readlines()]\n",
    "        planets_header = planet_data[0]\n",
    "        planets_rows = planet_data[1:]\n",
    "    mapping_data = []\n",
    "    \n",
    "    try:\n",
    "        with open(mapping_file, 'r') as f:\n",
    "            mapping_data = json.load(f)\n",
    "    except json.JSONDecodeError as e:\n",
    "        print(f\"Error loading mapping file {mapping_file}: {e}\")\n",
    "        return []\n",
    "    planets = []\n",
    "    \n",
    "    for row_idx in range(len(planets_rows)):\n",
    "        try:\n",
    "            planet_name = planet_cell(row_idx, \"Planet Name\", planets_rows, header=planets_header)\n",
    "            host_name = mapping_data[planet_name]\n",
    "            discovery_method = planet_cell(row_idx, \"Discovery Method\", planets_rows, header=planets_header)\n",
    "            discovery_year = planet_cell(row_idx, \"Discovery Year\", planets_rows, header=planets_header)\n",
    "            controversial_flag = planet_cell(row_idx, \"Controversial Flag\", planets_rows, header=planets_header)\n",
    "            orbital_period = planet_cell(row_idx, \"Orbital Period [days]\", planets_rows, header=planets_header)\n",
    "            planet_radius = planet_cell(row_idx, \"Planet Radius [Earth Radius]\", planets_rows, header=planets_header)\n",
    "            planet_mass = planet_cell(row_idx, \"Planet Mass [Earth Mass]\", planets_rows, header=planets_header)\n",
    "            semi_major_radius = planet_cell(row_idx, \"Orbit Semi-Major Axis [au]\", planets_rows, header=planets_header)\n",
    "            eccentricity = planet_cell(row_idx, \"Eccentricity\", planets_rows, header=planets_header)\n",
    "            equilibrium_temperature = planet_cell(row_idx, \"Equilibrium Temperature [K]\", planets_rows, header=planets_header)\n",
    "            insolation_flux = planet_cell(row_idx, \"Insolation Flux [Earth Flux]\", planets_rows, header=planets_header)\n",
    "            \n",
    "            planet = Planet(planet_name=planet_name, host_name=host_name, discovery_method=discovery_method,\n",
    "                           discovery_year=discovery_year, controversial_flag=controversial_flag, orbital_period=orbital_period,\n",
    "                           planet_radius=planet_radius, planet_mass=planet_mass, semi_major_radius=semi_major_radius, eccentricity=eccentricity, equilibrium_temperature=equilibrium_temperature, \n",
    "                            insolation_flux=insolation_flux)\n",
    "            planets.append(planet)\n",
    "        except IndexError:\n",
    "                continue\n",
    "        except ValueError:\n",
    "                continue\n",
    "        except KeyError:\n",
    "                continue\n",
    "    return planets"
   ]
  },
  {
   "cell_type": "code",
   "execution_count": 20,
   "id": "4e92b9e5",
   "metadata": {
    "deletable": false,
    "editable": false
   },
   "outputs": [
    {
     "data": {
      "text/html": [
       "<p><strong><pre style='display: inline;'>get_planets</pre></strong> passed! 🎉</p>"
      ],
      "text/plain": [
       "get_planets results: All test cases passed!"
      ]
     },
     "execution_count": 20,
     "metadata": {},
     "output_type": "execute_result"
    }
   ],
   "source": [
    "grader.check(\"get_planets\")"
   ]
  },
  {
   "cell_type": "code",
   "execution_count": 21,
   "id": "48873401",
   "metadata": {
    "execution": {
     "iopub.execute_input": "2024-04-10T02:29:58.523615Z",
     "iopub.status.busy": "2024-04-10T02:29:58.523554Z",
     "iopub.status.idle": "2024-04-10T02:29:58.574619Z",
     "shell.execute_reply": "2024-04-10T02:29:58.574388Z"
    },
    "tags": []
   },
   "outputs": [
    {
     "name": "stdout",
     "output_type": "stream",
     "text": [
      "Error loading mapping file data/mapping_5.json: Expecting property name enclosed in double quotes: line 1 column 6710 (char 6709)\n"
     ]
    }
   ],
   "source": [
    "\n",
    "planets_list = []\n",
    "for idx in range(1, 6):\n",
    "    planets_idx = get_planets(os.path.join(\"data\", f\"planets_{idx}.csv\"), os.path.join(\"data\", f\"mapping_{idx}.json\"))\n",
    "    planets_list.extend(planets_idx)\n"
   ]
  },
  {
   "cell_type": "code",
   "execution_count": 22,
   "id": "c9931d03",
   "metadata": {
    "deletable": false,
    "editable": false
   },
   "outputs": [
    {
     "data": {
      "text/html": [
       "<p><strong><pre style='display: inline;'>planets_list</pre></strong> passed! 💯</p>"
      ],
      "text/plain": [
       "planets_list results: All test cases passed!"
      ]
     },
     "execution_count": 22,
     "metadata": {},
     "output_type": "execute_result"
    }
   ],
   "source": [
    "grader.check(\"planets_list\")"
   ]
  },
  {
   "cell_type": "markdown",
   "id": "15549220",
   "metadata": {
    "deletable": false,
    "editable": false
   },
   "source": [
    "You used two functions `plot_scatter` and `plot_scatter_multiple` in Lab-P11 to create your **scatter plots**. These functions are again provided for you here to use in P11."
   ]
  },
  {
   "cell_type": "code",
   "execution_count": 23,
   "id": "82659dd6",
   "metadata": {
    "execution": {
     "iopub.execute_input": "2024-04-10T02:29:58.578654Z",
     "iopub.status.busy": "2024-04-10T02:29:58.578585Z",
     "iopub.status.idle": "2024-04-10T02:29:58.580243Z",
     "shell.execute_reply": "2024-04-10T02:29:58.580044Z"
    },
    "tags": []
   },
   "outputs": [],
   "source": [
    "# remember to import matplotlib.pyplot as plt at the top of the notebook to make this functions work\n",
    "\n",
    "def plot_scatter(x_data, y_data, x_label='x axis', y_label='y axis', c=None, s=7):\n",
    "    plt.scatter(x_data, y_data, c=c, s=s)\n",
    "    plt.xlabel(x_label)\n",
    "    plt.ylabel(y_label)"
   ]
  },
  {
   "cell_type": "code",
   "execution_count": 24,
   "id": "a99b1814",
   "metadata": {
    "deletable": false,
    "editable": false
   },
   "outputs": [
    {
     "data": {
      "text/html": [
       "<p><strong><pre style='display: inline;'>plot_scatter</pre></strong> passed! ✨</p>"
      ],
      "text/plain": [
       "plot_scatter results: All test cases passed!"
      ]
     },
     "execution_count": 24,
     "metadata": {},
     "output_type": "execute_result"
    }
   ],
   "source": [
    "grader.check(\"plot_scatter\")"
   ]
  },
  {
   "cell_type": "code",
   "execution_count": 25,
   "id": "9e6ac2ea",
   "metadata": {
    "execution": {
     "iopub.execute_input": "2024-04-10T02:29:58.584134Z",
     "iopub.status.busy": "2024-04-10T02:29:58.584062Z",
     "iopub.status.idle": "2024-04-10T02:29:58.585878Z",
     "shell.execute_reply": "2024-04-10T02:29:58.585662Z"
    },
    "tags": []
   },
   "outputs": [],
   "source": [
    "def plot_scatter_multiple(x_data_dict, y_data_dict, x_label='x axis', y_label='y axis'):\n",
    "    legend_values = list(x_data_dict.keys())\n",
    "    for key in x_data_dict:\n",
    "        plt.scatter(x_data_dict[key], y_data_dict[key], s=7)\n",
    "    plt.xlabel(x_label)\n",
    "    plt.ylabel(y_label)\n",
    "    plt.legend(legend_values)"
   ]
  },
  {
   "cell_type": "code",
   "execution_count": 26,
   "id": "79a578fe",
   "metadata": {
    "deletable": false,
    "editable": false
   },
   "outputs": [
    {
     "data": {
      "text/html": [
       "<p><strong><pre style='display: inline;'>plot_scatter_multiple</pre></strong> passed! ✨</p>"
      ],
      "text/plain": [
       "plot_scatter_multiple results: All test cases passed!"
      ]
     },
     "execution_count": 26,
     "metadata": {},
     "output_type": "execute_result"
    }
   ],
   "source": [
    "grader.check(\"plot_scatter_multiple\")"
   ]
  },
  {
   "cell_type": "markdown",
   "id": "369a9948",
   "metadata": {
    "deletable": false,
    "editable": false
   },
   "source": [
    "### Verifying Laws of Nature:\n",
    "\n",
    "We will now use our dataset to verify some well-known laws of nature. Unless specified otherwise, you **must** use `stars_dict` and `planets_list` to access all data."
   ]
  },
  {
   "cell_type": "markdown",
   "id": "38cd2cae",
   "metadata": {
    "deletable": false,
    "editable": false
   },
   "source": [
    "#### Kepler's Third Law:\n",
    "\n",
    "We will first verify [Kepler's Third Law](https://en.wikipedia.org/wiki/Kepler%27s_laws_of_planetary_motion#Third_law). This law states that the **square** of the `orbital_period` of each planet in a solar system is directly proportional to the **cube** of the `semi_major_radius` of its orbit around its host star.\n",
    "\n",
    "Since this law relates only to planets that orbit the same host star, we will verify this law using the several planets orbiting around a star named *GJ 9827*."
   ]
  },
  {
   "cell_type": "markdown",
   "id": "ff516734",
   "metadata": {
    "deletable": false,
    "editable": false
   },
   "source": [
    "**Question 1:** Compute the **ratio** of the **square** of the `orbital_period` to the **cube** of the `semi_major_radius` of each planet orbiting the star *GJ 9827*.\n",
    "\n",
    "Your output **must** be a **list** of **floats**. You may **assume** that the planets orbiting this star do not have any missing `orbital_period` or `semi_major_radius` data."
   ]
  },
  {
   "cell_type": "code",
   "execution_count": 27,
   "id": "3c5fdc49",
   "metadata": {
    "execution": {
     "iopub.execute_input": "2024-04-10T02:29:58.590060Z",
     "iopub.status.busy": "2024-04-10T02:29:58.589996Z",
     "iopub.status.idle": "2024-04-10T02:29:58.592328Z",
     "shell.execute_reply": "2024-04-10T02:29:58.592115Z"
    },
    "tags": []
   },
   "outputs": [
    {
     "data": {
      "text/plain": [
       "[216495.31853581898, 215944.87249258577, 215532.12435359438]"
      ]
     },
     "execution_count": 27,
     "metadata": {},
     "output_type": "execute_result"
    }
   ],
   "source": [
    "\n",
    "# compute and store the answer in the variable 'ratios_gj9827', then display it\n",
    "# Assuming 'planets_list' contains all the planets and is a list of Planet namedtuples\n",
    "ratios_gj9827 = []\n",
    "for planet in planets_list:\n",
    "    if planet.host_name == \"GJ 9827\":\n",
    "        ratio = planet.orbital_period**2 / planet.semi_major_radius**3\n",
    "        ratios_gj9827.append(ratio)\n",
    "        \n",
    "ratios_gj9827"
   ]
  },
  {
   "cell_type": "code",
   "execution_count": 28,
   "id": "3f295f3a",
   "metadata": {
    "deletable": false,
    "editable": false
   },
   "outputs": [
    {
     "data": {
      "text/html": [
       "<p><strong><pre style='display: inline;'>q1</pre></strong> passed! 💯</p><p><strong><pre style='display: inline;'>q1 - 2</pre> message:</strong> Note that the Gradescope autograder will deduct points if your code fails the following rubric point - 'incorrect logic is used to answer (-1)'.The public tests cannot determine if your code satisfies these requirements. Verify your code manually.</p><p><strong><pre style='display: inline;'>q1 - 3</pre> message:</strong> Note that the Gradescope autograder will deduct points if your code fails the following rubric point - '`planets_list` data structure is not used to answer (-1)'.The public tests cannot determine if your code satisfies these requirements. Verify your code manually.</p>"
      ],
      "text/plain": [
       "q1 results: All test cases passed!\n",
       "q1 - 2 message: Note that the Gradescope autograder will deduct points if your code fails the following rubric point - 'incorrect logic is used to answer (-1)'.The public tests cannot determine if your code satisfies these requirements. Verify your code manually.\n",
       "q1 - 3 message: Note that the Gradescope autograder will deduct points if your code fails the following rubric point - '`planets_list` data structure is not used to answer (-1)'.The public tests cannot determine if your code satisfies these requirements. Verify your code manually."
      ]
     },
     "execution_count": 28,
     "metadata": {},
     "output_type": "execute_result"
    }
   ],
   "source": [
    "grader.check(\"q1\")"
   ]
  },
  {
   "cell_type": "markdown",
   "id": "af99d856",
   "metadata": {
    "deletable": false,
    "editable": false
   },
   "source": [
    "The **ratios** of the three stars in this system appear to be very close to each other. It will be useful if we could quantify exactly how close these ratios are to each other. One way to do that would to be compute the [coefficient of variance](https://en.wikipedia.org/wiki/Coefficient_of_variation), which is defined as the **standard deviation** divided by the **mean** of a sequence of numbers. A low value would imply that the numbers are very **close** to each other."
   ]
  },
  {
   "cell_type": "markdown",
   "id": "0bab2002",
   "metadata": {
    "deletable": false,
    "editable": false
   },
   "source": [
    "**Question 2:** Compute the **coefficient of variance** of the **list** `ratios_gj9827`.\n",
    "\n",
    "**Hint:** You can compute the **standard deviation** and the **mean** of a **list** of numbers using the `statistics.stdev` and `statistics.mean` functions inside the `statistics` module. To do this, you must first **import** the `statistics` module. You can read the documentation for the `statistics.stdev` and `statistics.mean` functions by creating a new cell and using `help(statistics.mean)` and `help(statistics.mean)`."
   ]
  },
  {
   "cell_type": "code",
   "execution_count": 29,
   "id": "ccc96a1d",
   "metadata": {
    "execution": {
     "iopub.execute_input": "2024-04-10T02:29:58.817146Z",
     "iopub.status.busy": "2024-04-10T02:29:58.817079Z",
     "iopub.status.idle": "2024-04-10T02:29:58.819166Z",
     "shell.execute_reply": "2024-04-10T02:29:58.818948Z"
    },
    "tags": []
   },
   "outputs": [
    {
     "data": {
      "text/plain": [
       "0.002237293472030457"
      ]
     },
     "execution_count": 29,
     "metadata": {},
     "output_type": "execute_result"
    }
   ],
   "source": [
    "# compute and store the answer in the variable 'coeff_gj9827', then display it\n",
    "coeff_gj9827 = statistics.stdev(ratios_gj9827) / statistics.mean(ratios_gj9827)\n",
    "\n",
    "coeff_gj9827"
   ]
  },
  {
   "cell_type": "code",
   "execution_count": 30,
   "id": "6c65f948",
   "metadata": {
    "deletable": false,
    "editable": false
   },
   "outputs": [
    {
     "data": {
      "text/html": [
       "<p><strong><pre style='display: inline;'>q2</pre></strong> passed! 🍀</p><p><strong><pre style='display: inline;'>q2 - 2</pre> message:</strong> Note that the Gradescope autograder will deduct points if your code fails the following rubric point - 'incorrect logic is used to answer (-1)'.The public tests cannot determine if your code satisfies these requirements. Verify your code manually.</p><p><strong><pre style='display: inline;'>q2 - 3</pre> message:</strong> Note that the Gradescope autograder will deduct points if your code fails the following rubric point - 'recomputed variable defined in Question 1 (-1)'.The public tests cannot determine if your code satisfies these requirements. Verify your code manually.</p>"
      ],
      "text/plain": [
       "q2 results: All test cases passed!\n",
       "q2 - 2 message: Note that the Gradescope autograder will deduct points if your code fails the following rubric point - 'incorrect logic is used to answer (-1)'.The public tests cannot determine if your code satisfies these requirements. Verify your code manually.\n",
       "q2 - 3 message: Note that the Gradescope autograder will deduct points if your code fails the following rubric point - 'recomputed variable defined in Question 1 (-1)'.The public tests cannot determine if your code satisfies these requirements. Verify your code manually."
      ]
     },
     "execution_count": 30,
     "metadata": {},
     "output_type": "execute_result"
    }
   ],
   "source": [
    "grader.check(\"q2\")"
   ]
  },
  {
   "cell_type": "markdown",
   "id": "dccf3b68",
   "metadata": {
    "deletable": false,
    "editable": false
   },
   "source": [
    "As we can see, the **coefficient of variance** is indeed very low. This lends credibility to Kepler's Third Law. However, there is yet more we can do with this data. After we adjust for the units used in our dataset, we find that Kepler's Third Law predicts the following:\n",
    "\n",
    "$$\\texttt{stellar mass} = \\frac{133408}{\\texttt{ratio}}$$\n",
    "\n",
    "where $\\texttt{ratio}$ is the **mean** of the ratios of the **square** of the `orbital_period` to the **cube** of the `semi_major_radius` computed above, and $\\texttt{stellar mass}$ is the mass of the planets' host star.\n",
    "\n",
    "We can therefore check how close this **predicted** `stellar_mass` is to the **actual** `stellar_mass` of the star."
   ]
  },
  {
   "cell_type": "markdown",
   "id": "b3439173",
   "metadata": {
    "deletable": false,
    "editable": false
   },
   "source": [
    "**Question 3:** Compute the percentage change of the **predicted** `stellar_mass` from the **actual** `stellar_mass` of the star *GJ 9827*.\n",
    "\n",
    "You **must** compute the **predicted** `stellar_mass` as the number *133408* divided by the **mean** of the ratios of the three planets computed in Question 1. You **must** find the **actual** `stellar_mass` by accessing the correct attribute of the `Star` object of *GJ 9827*. The percentage change can be computed as:\n",
    "\n",
    "$$\\texttt{percent change} = \\frac{\\texttt{predicted stellar mass} - \\texttt{actual stellar mass}}{\\texttt{actual stellar mass}} \\times 100$$"
   ]
  },
  {
   "cell_type": "code",
   "execution_count": 31,
   "id": "41e7253b",
   "metadata": {
    "execution": {
     "iopub.execute_input": "2024-04-10T02:29:59.024469Z",
     "iopub.status.busy": "2024-04-10T02:29:59.024407Z",
     "iopub.status.idle": "2024-04-10T02:29:59.026537Z",
     "shell.execute_reply": "2024-04-10T02:29:59.026320Z"
    },
    "tags": []
   },
   "outputs": [
    {
     "data": {
      "text/plain": [
       "-0.37806163607370036"
      ]
     },
     "execution_count": 31,
     "metadata": {},
     "output_type": "execute_result"
    }
   ],
   "source": [
    "# Assuming stars_dict[\"GJ 9827\"].stellar_mass is a string and needs conversion to float\n",
    "actual_stellar_mass = float(stars_dict[\"GJ 9827\"].stellar_mass)\n",
    "\n",
    "# Compute the predicted stellar mass\n",
    "predicted_stellar_mass = 133408 / statistics.mean(ratios_gj9827)\n",
    "\n",
    "# Compute the percentage change\n",
    "percentage_change = (predicted_stellar_mass - actual_stellar_mass) / actual_stellar_mass * 100\n",
    "percentage_change"
   ]
  },
  {
   "cell_type": "code",
   "execution_count": 32,
   "id": "e5528c92",
   "metadata": {
    "deletable": false,
    "editable": false
   },
   "outputs": [
    {
     "data": {
      "text/html": [
       "<p><strong><pre style='display: inline;'>q3</pre></strong> passed! 🎉</p><p><strong><pre style='display: inline;'>q3 - 2</pre> message:</strong> Note that the Gradescope autograder will deduct points if your code fails the following rubric point - 'incorrect logic is used to answer (-1)'.The public tests cannot determine if your code satisfies these requirements. Verify your code manually.</p><p><strong><pre style='display: inline;'>q3 - 3</pre> message:</strong> Note that the Gradescope autograder will deduct points if your code fails the following rubric point - 'recomputed variable defined in Question 1 (-1)'.The public tests cannot determine if your code satisfies these requirements. Verify your code manually.</p><p><strong><pre style='display: inline;'>q3 - 4</pre> message:</strong> Note that the Gradescope autograder will deduct points if your code fails the following rubric point - '`stars_dict` data structure is not used to answer (-1)'.The public tests cannot determine if your code satisfies these requirements. Verify your code manually.</p>"
      ],
      "text/plain": [
       "q3 results: All test cases passed!\n",
       "q3 - 2 message: Note that the Gradescope autograder will deduct points if your code fails the following rubric point - 'incorrect logic is used to answer (-1)'.The public tests cannot determine if your code satisfies these requirements. Verify your code manually.\n",
       "q3 - 3 message: Note that the Gradescope autograder will deduct points if your code fails the following rubric point - 'recomputed variable defined in Question 1 (-1)'.The public tests cannot determine if your code satisfies these requirements. Verify your code manually.\n",
       "q3 - 4 message: Note that the Gradescope autograder will deduct points if your code fails the following rubric point - '`stars_dict` data structure is not used to answer (-1)'.The public tests cannot determine if your code satisfies these requirements. Verify your code manually."
      ]
     },
     "execution_count": 32,
     "metadata": {},
     "output_type": "execute_result"
    }
   ],
   "source": [
    "grader.check(\"q3\")"
   ]
  },
  {
   "cell_type": "markdown",
   "id": "898e4a0a",
   "metadata": {
    "deletable": false,
    "editable": false
   },
   "source": [
    "#### Stefan-Boltzmann Law:\n",
    "\n",
    "We will now verify the [Stefan-Boltzmann Law](https://en.wikipedia.org/wiki/Stefan%E2%80%93Boltzmann_law). This law states that the `insolation_flux` of a *black body* is directly proportional to the **fourth** power of the `equilibrium_temperature`. In our dataset, we have the `insolation_flux` and `equilibrium_temperature` data of the `Planet` objects. So, we can verify how well this law is obeyed by the planets in our dataset."
   ]
  },
  {
   "cell_type": "markdown",
   "id": "fd8dd606",
   "metadata": {
    "deletable": false,
    "editable": false
   },
   "source": [
    "**Question 4:** Create a **scatter plot** representing the `insolation_flux` (on the **x-axis**) against the **fourth power** of the `equilibrium_temperature` (on the **y-axis**) of each `Planet` object in `planets_list`.\n",
    "\n",
    "You **must** ignore all `Planet` objects with **missing** `insolation_flux`, or `equilibrium_temperature` data.\n",
    "\n",
    "You **must** first compute two **lists** containing the **insolation_flux**, and the fourth power of the **equilibrium_temperature** of each `Planet` object (which has all the data available). Then, you **must** use `plot_scatter` to plot the **insolation_flux** against the fourth power of the **equilibrium_temperature**."
   ]
  },
  {
   "cell_type": "code",
   "execution_count": 33,
   "id": "e12fe649",
   "metadata": {
    "execution": {
     "iopub.execute_input": "2024-04-10T02:29:59.232858Z",
     "iopub.status.busy": "2024-04-10T02:29:59.232793Z",
     "iopub.status.idle": "2024-04-10T02:29:59.235254Z",
     "shell.execute_reply": "2024-04-10T02:29:59.235005Z"
    },
    "tags": []
   },
   "outputs": [],
   "source": [
    "# first compute and store the lists 'flux_list', and 'temp_4th_power_list'\n",
    "# do NOT display or plot just yet\n",
    "flux_list = []\n",
    "temp_4th_power_list = []\n",
    "for planet in planets_list:\n",
    "    if planet.insolation_flux != None and planet.equilibrium_temperature != None:\n",
    "        flux_list.append(planet.insolation_flux)\n",
    "        \n",
    "for planet in planets_list:\n",
    "    if planet.insolation_flux != None and planet.equilibrium_temperature != None:\n",
    "        temp_4th_power_list.append(planet.equilibrium_temperature **4)"
   ]
  },
  {
   "cell_type": "code",
   "execution_count": null,
   "id": "114d2c7f",
   "metadata": {},
   "outputs": [],
   "source": []
  },
  {
   "cell_type": "markdown",
   "id": "4ca063f6",
   "metadata": {
    "deletable": false,
    "editable": false
   },
   "source": [
    "Now, **plot** `flux_list` and `temp_4th_power_list` as **scatter plot** with the **x-axis** labelled *Insolation Flux*, and the **y-axis** labelled *(Equilibrium Temperature)\\*\\*4*.\n",
    "\n",
    "Your plot should look like this:"
   ]
  },
  {
   "attachments": {
    "q4.jpg": {
     "image/jpeg": "[encoded data removed]"
    }
   },
   "cell_type": "markdown",
   "id": "af9d03e1",
   "metadata": {},
   "source": [
    "<div style=\"text-align: center;\"><img src=\"attachment:q4.jpg\" style=\"height: 400px;\"/></div>"
   ]
  },
  {
   "cell_type": "markdown",
   "id": "3b8c7d5a",
   "metadata": {
    "deletable": false,
    "editable": false
   },
   "source": [
    "**Note:** If the `grader.export` cell fails to run because the file size is too large, you can delete the plot above to reduce the size of your notebook. Make sure your plot matches the plot above, before you do so."
   ]
  },
  {
   "cell_type": "code",
   "execution_count": 34,
   "id": "1ad0c854",
   "metadata": {
    "execution": {
     "iopub.execute_input": "2024-04-10T02:29:59.236691Z",
     "iopub.status.busy": "2024-04-10T02:29:59.236627Z",
     "iopub.status.idle": "2024-04-10T02:29:59.320259Z",
     "shell.execute_reply": "2024-04-10T02:29:59.320003Z"
    },
    "tags": []
   },
   "outputs": [
    {
     "data": {
      "image/png": "[encoded data removed]",
      "text/plain": [
       "<Figure size 640x480 with 1 Axes>"
      ]
     },
     "metadata": {},
     "output_type": "display_data"
    }
   ],
   "source": [
    "# create a scatter plot using 'flux_list' and 'temp_4th_power_list'\n",
    "plot_scatter(flux_list, temp_4th_power_list, \"Insolation Flux\", \"(Equilibrium Temperature)**4\" )"
   ]
  },
  {
   "cell_type": "code",
   "execution_count": 35,
   "id": "84382551",
   "metadata": {
    "deletable": false,
    "editable": false
   },
   "outputs": [
    {
     "data": {
      "text/html": [
       "<p><strong><pre style='display: inline;'>q4</pre></strong> passed! 🚀</p><p><strong><pre style='display: inline;'>q4 - 2</pre> message:</strong> Note that the Gradescope autograder will deduct points if your code fails the following rubric point - 'incorrect logic is used to answer (-1)'.The public tests cannot determine if your code satisfies these requirements. Verify your code manually.</p><p><strong><pre style='display: inline;'>q4 - 3</pre> message:</strong> Note that the Gradescope autograder will deduct points if your code fails the following rubric point - '`planets_list` data structure is not used to answer (-1)'.The public tests cannot determine if your code satisfies these requirements. Verify your code manually.</p><p><strong><pre style='display: inline;'>q4 - 4</pre> message:</strong> Note that the Gradescope autograder will deduct points if your code fails the following rubric point - 'plot is incorrect (-1)'.The public tests cannot determine if your code satisfies these requirements. Verify your code manually.</p><p><strong><pre style='display: inline;'>q4 - 5</pre> message:</strong> Note that the Gradescope autograder will deduct points if your code fails the following rubric point - 'plot is not properly labeled (-1)'.The public tests cannot determine if your code satisfies these requirements. Verify your code manually.</p>"
      ],
      "text/plain": [
       "q4 results: All test cases passed!\n",
       "q4 - 2 message: Note that the Gradescope autograder will deduct points if your code fails the following rubric point - 'incorrect logic is used to answer (-1)'.The public tests cannot determine if your code satisfies these requirements. Verify your code manually.\n",
       "q4 - 3 message: Note that the Gradescope autograder will deduct points if your code fails the following rubric point - '`planets_list` data structure is not used to answer (-1)'.The public tests cannot determine if your code satisfies these requirements. Verify your code manually.\n",
       "q4 - 4 message: Note that the Gradescope autograder will deduct points if your code fails the following rubric point - 'plot is incorrect (-1)'.The public tests cannot determine if your code satisfies these requirements. Verify your code manually.\n",
       "q4 - 5 message: Note that the Gradescope autograder will deduct points if your code fails the following rubric point - 'plot is not properly labeled (-1)'.The public tests cannot determine if your code satisfies these requirements. Verify your code manually."
      ]
     },
     "execution_count": 35,
     "metadata": {},
     "output_type": "execute_result"
    }
   ],
   "source": [
    "grader.check(\"q4\")"
   ]
  },
  {
   "cell_type": "markdown",
   "id": "1f20df9e",
   "metadata": {
    "deletable": false,
    "editable": false
   },
   "source": [
    "**Food for thought:** Why does this graph look so strange with all the points bunched up near the bottom-left corner?"
   ]
  },
  {
   "cell_type": "code",
   "execution_count": 36,
   "id": "3b99c423",
   "metadata": {
    "execution": {
     "iopub.execute_input": "2024-04-10T02:29:59.743248Z",
     "iopub.status.busy": "2024-04-10T02:29:59.743183Z",
     "iopub.status.idle": "2024-04-10T02:29:59.744657Z",
     "shell.execute_reply": "2024-04-10T02:29:59.744410Z"
    }
   },
   "outputs": [],
   "source": [
    "# Food for thought is an entirely OPTIONAL exercise\n",
    "# you may leave your thoughts here as a comment if you wish to\n"
   ]
  },
  {
   "cell_type": "markdown",
   "id": "d6e8d8f1",
   "metadata": {
    "deletable": false,
    "editable": false
   },
   "source": [
    "**Question 5:** Create the same **scatter plot** as above, but **exclude** planets with `insolation_flux` **more than** *7000*.\n",
    "\n",
    "You **must** ignore all `Planet` objects with **missing** `insolation_flux`, or `equilibrium_temperature` data. You **must** also exclude all `Planet` objects with `insolation_flux` more than *7000*.\n",
    "\n",
    "You **must** first compute two **lists** containing the **insolation_flux**, and the fourth power of the **equilibrium_temperature** of each `Planet` object (which has all the data available). Then, you **must** use `plot_scatter` to plot the **insolation_flux** against the fourth power of the **equilibrium_temperature**."
   ]
  },
  {
   "cell_type": "code",
   "execution_count": 37,
   "id": "f9f6277c",
   "metadata": {
    "execution": {
     "iopub.execute_input": "2024-04-10T02:29:59.745843Z",
     "iopub.status.busy": "2024-04-10T02:29:59.745778Z",
     "iopub.status.idle": "2024-04-10T02:29:59.748217Z",
     "shell.execute_reply": "2024-04-10T02:29:59.747991Z"
    },
    "tags": []
   },
   "outputs": [],
   "source": [
    "# first compute and store the lists 'flux_list_no_outliers', and 'temp_4th_power_list_no_outliers'\n",
    "# do NOT display or plot just yet\n",
    "# Assuming 'planets_list' is a list of Planet namedtuples already populated from the data\n",
    "flux_list_no_outliers = []\n",
    "temp_4th_power_list_no_outliers = []\n",
    "\n",
    "for planet in planets_list:\n",
    "    if (planet.insolation_flux is not None and planet.equilibrium_temperature is not None and\n",
    "        planet.insolation_flux <= 7000):\n",
    "        # Compute the fourth power of the equilibrium_temperature\n",
    "        temp_4th_power = planet.equilibrium_temperature ** 4\n",
    "        # Add the values to the respective lists\n",
    "        flux_list_no_outliers.append(planet.insolation_flux)\n",
    "        temp_4th_power_list_no_outliers.append(temp_4th_power)\n",
    "\n",
    "# The lists are now ready to be used for plotting, as per the instructions\n",
    "# plot_scatter function would be called in the next step (not yet, as per instruction)\n"
   ]
  },
  {
   "cell_type": "markdown",
   "id": "e0328d2c",
   "metadata": {
    "deletable": false,
    "editable": false
   },
   "source": [
    "Now, **plot** `flux_list_no_outliers` and `temp_4th_power_list_no_outliers` as **scatter plot** with the **x-axis** labelled *Insolation Flux*, and the **y-axis** labelled *(Equilibrium Temperature)\\*\\*4*.\n",
    "\n",
    "Your plot should look like this:"
   ]
  },
  {
   "attachments": {
    "q5.jpg": {
     "image/jpeg": "[encoded data removed]"
    }
   },
   "cell_type": "markdown",
   "id": "8f778c2d",
   "metadata": {},
   "source": [
    "<div style=\"text-align: center;\"><img src=\"attachment:q5.jpg\" style=\"height: 400px;\"/></div>"
   ]
  },
  {
   "cell_type": "markdown",
   "id": "7b933e1c",
   "metadata": {
    "deletable": false,
    "editable": false
   },
   "source": [
    "**Note:** If the `grader.export` cell fails to run because the file size is too large, you can delete the plot above to reduce the size of your notebook. Make sure your plot matches the plot above, before you do so."
   ]
  },
  {
   "cell_type": "code",
   "execution_count": 38,
   "id": "0551009d",
   "metadata": {
    "execution": {
     "iopub.execute_input": "2024-04-10T02:29:59.749578Z",
     "iopub.status.busy": "2024-04-10T02:29:59.749516Z",
     "iopub.status.idle": "2024-04-10T02:29:59.817094Z",
     "shell.execute_reply": "2024-04-10T02:29:59.816863Z"
    },
    "tags": []
   },
   "outputs": [
    {
     "data": {
      "image/png": "[encoded data removed]",
      "text/plain": [
       "<Figure size 640x480 with 1 Axes>"
      ]
     },
     "metadata": {},
     "output_type": "display_data"
    }
   ],
   "source": [
    "# Create a scatter plot using 'flux_list_no_outliers' and 'temp_4th_power_list_no_outliers'\n",
    "plot_scatter(flux_list_no_outliers, temp_4th_power_list_no_outliers, x_label='Insolation Flux', y_label='(Equilibrium Temperature)**4', c='blue', s=7)\n",
    "\n",
    "\n"
   ]
  },
  {
   "cell_type": "code",
   "execution_count": 39,
   "id": "0982f5bf",
   "metadata": {
    "deletable": false,
    "editable": false
   },
   "outputs": [
    {
     "data": {
      "text/html": [
       "<p><strong><pre style='display: inline;'>q5</pre></strong> passed! 🙌</p><p><strong><pre style='display: inline;'>q5 - 2</pre> message:</strong> Note that the Gradescope autograder will deduct points if your code fails the following rubric point - 'incorrect comparison operator is used (-1)'.The public tests cannot determine if your code satisfies these requirements. Verify your code manually.</p><p><strong><pre style='display: inline;'>q5 - 3</pre> message:</strong> Note that the Gradescope autograder will deduct points if your code fails the following rubric point - '`planets_list` data structure is not used to answer (-1)'.The public tests cannot determine if your code satisfies these requirements. Verify your code manually.</p><p><strong><pre style='display: inline;'>q5 - 4</pre> message:</strong> Note that the Gradescope autograder will deduct points if your code fails the following rubric point - 'plot is incorrect (-1)'.The public tests cannot determine if your code satisfies these requirements. Verify your code manually.</p><p><strong><pre style='display: inline;'>q5 - 5</pre> message:</strong> Note that the Gradescope autograder will deduct points if your code fails the following rubric point - 'plot is not properly labeled (-1)'.The public tests cannot determine if your code satisfies these requirements. Verify your code manually.</p>"
      ],
      "text/plain": [
       "q5 results: All test cases passed!\n",
       "q5 - 2 message: Note that the Gradescope autograder will deduct points if your code fails the following rubric point - 'incorrect comparison operator is used (-1)'.The public tests cannot determine if your code satisfies these requirements. Verify your code manually.\n",
       "q5 - 3 message: Note that the Gradescope autograder will deduct points if your code fails the following rubric point - '`planets_list` data structure is not used to answer (-1)'.The public tests cannot determine if your code satisfies these requirements. Verify your code manually.\n",
       "q5 - 4 message: Note that the Gradescope autograder will deduct points if your code fails the following rubric point - 'plot is incorrect (-1)'.The public tests cannot determine if your code satisfies these requirements. Verify your code manually.\n",
       "q5 - 5 message: Note that the Gradescope autograder will deduct points if your code fails the following rubric point - 'plot is not properly labeled (-1)'.The public tests cannot determine if your code satisfies these requirements. Verify your code manually."
      ]
     },
     "execution_count": 39,
     "metadata": {},
     "output_type": "execute_result"
    }
   ],
   "source": [
    "grader.check(\"q5\")"
   ]
  },
  {
   "cell_type": "markdown",
   "id": "5e3f3961",
   "metadata": {
    "deletable": false,
    "editable": false
   },
   "source": [
    "**Food for thought:** Does the relationship between **insolation flux** and the **fourth power of the equilibrium temperature** appear to be **linear** as predicted by the Stefan-Boltzmann Law? Can you explain why the graph isn't perfectly linear?"
   ]
  },
  {
   "cell_type": "code",
   "execution_count": 40,
   "id": "0e64cd0d",
   "metadata": {
    "execution": {
     "iopub.execute_input": "2024-04-10T02:30:00.239746Z",
     "iopub.status.busy": "2024-04-10T02:30:00.239681Z",
     "iopub.status.idle": "2024-04-10T02:30:00.241089Z",
     "shell.execute_reply": "2024-04-10T02:30:00.240860Z"
    }
   },
   "outputs": [],
   "source": [
    "# Food for thought is an entirely OPTIONAL exercise\n",
    "# you may leave your thoughts here as a comment if you wish to\n"
   ]
  },
  {
   "cell_type": "markdown",
   "id": "c5dce3b0",
   "metadata": {
    "deletable": false,
    "editable": false
   },
   "source": [
    "### Stellar Evolution:\n",
    "\n",
    "[Stellar Evolution](https://en.wikipedia.org/wiki/Stellar_evolution) is a description of the way that stars change with time. The primary factor determining how a star evolves is its `stellar_mass`. Depending on the `stellar_mass` of each `Star`, astronomers can predict how the `Star` will end up. A `Star` whose `stellar_mass` is $\\geq 0.3$ and $< 8$ times the mass of the Sun will become a [Red Giant](https://en.wikipedia.org/wiki/Red_giant), while a `Star` whose `stellar_mass` is $\\geq 8$ and $< 10.5$ times the mass of the Sun will become a [White Dwarf](https://en.wikipedia.org/wiki/White_dwarf). A `Star` that is even bigger will end up as a [Neutron Star](https://en.wikipedia.org/wiki/Neutron_star)."
   ]
  },
  {
   "cell_type": "markdown",
   "id": "0a91ea12",
   "metadata": {
    "deletable": false,
    "editable": false
   },
   "source": [
    "### Data Structure 1: `star_classes`\n",
    "\n",
    "You **must** now classify the `Star` objects in `stars_dict` using their `stellar_mass`. You **must** create a **dictionary** `star_classes` with the **keys**: `Red Giant`, `White Dwarf`, and `Neutron Star`. The **value** of each **key** must be a **list** of **strings** containing the **names** of the `Star` objects.\n",
    "\n",
    "You **must** **ignore** `Star` objects for which we do not have `stellar_mass` data or have `stellar_mass` **less** than *0.3* Solar masses.\n",
    "\n",
    "**Hint:** Recall that the `stellar_mass` data already uses units of *Solar masses*. So, a `stellar_mass` of *1* means that the `Star` object has the same mass as the Sun, and a `stellar_mass` of 2 means the `Star` object has twice the mass of the Sun, and so on."
   ]
  },
  {
   "cell_type": "code",
   "execution_count": 41,
   "id": "4c4b8a16",
   "metadata": {
    "execution": {
     "iopub.execute_input": "2024-04-10T02:30:00.242381Z",
     "iopub.status.busy": "2024-04-10T02:30:00.242318Z",
     "iopub.status.idle": "2024-04-10T02:30:00.244971Z",
     "shell.execute_reply": "2024-04-10T02:30:00.244744Z"
    },
    "tags": []
   },
   "outputs": [],
   "source": [
    "star_classes = {\n",
    "    \"Red Giant\": [],\n",
    "    \"White Dwarf\": [],\n",
    "    \"Neutron Star\": []\n",
    "}\n",
    "\n",
    "for star_name, star in stars_dict.items():\n",
    "    if star.stellar_mass is None:\n",
    "        continue\n",
    "    try:\n",
    "        mass = float(star.stellar_mass)\n",
    "    except ValueError:\n",
    "        continue  # Skip if conversion fails\n",
    "\n",
    "    if mass < 0.3:\n",
    "        continue\n",
    "    elif 0.3 <= mass < 8:\n",
    "        star_classes[\"Red Giant\"].append(star_name)\n",
    "    elif 8 <= mass < 10.5:\n",
    "        star_classes[\"White Dwarf\"].append(star_name)\n",
    "    elif mass >= 10.5:\n",
    "        star_classes[\"Neutron Star\"].append(star_name)\n"
   ]
  },
  {
   "cell_type": "code",
   "execution_count": 42,
   "id": "3db07fe9",
   "metadata": {
    "deletable": false,
    "editable": false
   },
   "outputs": [
    {
     "data": {
      "text/html": [
       "<p><strong><pre style='display: inline;'>star_classes</pre></strong> passed! 🍀</p><p><strong><pre style='display: inline;'>star_classes - 1</pre> message:</strong> Note that the Gradescope autograder will deduct points if your code fails the following rubric point - 'data structure is defined incorrectly (-1)'.The public tests cannot determine if your code satisfies these requirements. Verify your code manually.</p><p><strong><pre style='display: inline;'>star_classes - 2</pre> message:</strong> Note that the Gradescope autograder will deduct points if your code fails the following rubric point - 'incorrect comparison operators are used (-1)'.The public tests cannot determine if your code satisfies these requirements. Verify your code manually.</p><p><strong><pre style='display: inline;'>star_classes - 3</pre> message:</strong> Note that the Gradescope autograder will deduct points if your code fails the following rubric point - '`stars_dict` data structure is not used (-1)'.The public tests cannot determine if your code satisfies these requirements. Verify your code manually.</p>"
      ],
      "text/plain": [
       "star_classes results: All test cases passed!\n",
       "star_classes - 1 message: Note that the Gradescope autograder will deduct points if your code fails the following rubric point - 'data structure is defined incorrectly (-1)'.The public tests cannot determine if your code satisfies these requirements. Verify your code manually.\n",
       "star_classes - 2 message: Note that the Gradescope autograder will deduct points if your code fails the following rubric point - 'incorrect comparison operators are used (-1)'.The public tests cannot determine if your code satisfies these requirements. Verify your code manually.\n",
       "star_classes - 3 message: Note that the Gradescope autograder will deduct points if your code fails the following rubric point - '`stars_dict` data structure is not used (-1)'.The public tests cannot determine if your code satisfies these requirements. Verify your code manually."
      ]
     },
     "execution_count": 42,
     "metadata": {},
     "output_type": "execute_result"
    }
   ],
   "source": [
    "grader.check(\"star_classes\")"
   ]
  },
  {
   "cell_type": "code",
   "execution_count": 43,
   "id": "c4014799",
   "metadata": {},
   "outputs": [
    {
     "data": {
      "text/plain": [
       "{'Red Giant': ['11 Com',\n",
       "  '11 UMi',\n",
       "  '14 And',\n",
       "  '16 Cyg B',\n",
       "  '17 Sco',\n",
       "  '18 Del',\n",
       "  '1RXS J160929.1-210524',\n",
       "  '24 Boo',\n",
       "  '2MASS J01225093-2439505',\n",
       "  '2MASS J22362452+4751425',\n",
       "  '30 Ari B',\n",
       "  '4 UMa',\n",
       "  '42 Dra',\n",
       "  '51 Eri',\n",
       "  '51 Peg',\n",
       "  '6 Lyn',\n",
       "  '70 Vir',\n",
       "  '8 UMi',\n",
       "  '81 Cet',\n",
       "  '91 Aqr',\n",
       "  'AB Aur',\n",
       "  'AB Pic',\n",
       "  'AF Lep',\n",
       "  'BD+03 2562',\n",
       "  'BD+14 4559',\n",
       "  'BD+15 2375',\n",
       "  'BD+15 2940',\n",
       "  'BD+20 274',\n",
       "  'BD+20 594',\n",
       "  'BD+45 564',\n",
       "  'BD+48 738',\n",
       "  'BD+48 740',\n",
       "  'BD+49 828',\n",
       "  'BD+55 362',\n",
       "  'BD+60 1417',\n",
       "  'BD+63 1405',\n",
       "  'BD-00 4475',\n",
       "  'BD-10 3166',\n",
       "  'BD-13 2130',\n",
       "  'BD-17 63',\n",
       "  'CHXR 73',\n",
       "  'CI Tau',\n",
       "  'COCONUTS-2 A',\n",
       "  'CoRoT-1',\n",
       "  'CoRoT-10',\n",
       "  'CoRoT-11',\n",
       "  'CoRoT-12',\n",
       "  'CoRoT-13',\n",
       "  'CoRoT-14',\n",
       "  'CoRoT-16',\n",
       "  'CoRoT-17',\n",
       "  'CoRoT-18',\n",
       "  'CoRoT-19',\n",
       "  'CoRoT-2',\n",
       "  'CoRoT-21',\n",
       "  'CoRoT-22',\n",
       "  'CoRoT-23',\n",
       "  'CoRoT-25',\n",
       "  'CoRoT-26',\n",
       "  'CoRoT-27',\n",
       "  'CoRoT-28',\n",
       "  'CoRoT-29',\n",
       "  'CoRoT-3',\n",
       "  'CoRoT-30',\n",
       "  'CoRoT-31',\n",
       "  'CoRoT-35',\n",
       "  'CoRoT-36',\n",
       "  'CoRoT-4',\n",
       "  'CoRoT-5',\n",
       "  'CoRoT-6',\n",
       "  'CoRoT-8',\n",
       "  'CoRoT-9',\n",
       "  'CoRoTID 223977153',\n",
       "  'DE CVn',\n",
       "  'DH Tau',\n",
       "  'DMPP-2',\n",
       "  'DMPP-3 A',\n",
       "  'DMPP-4',\n",
       "  'DP Leo',\n",
       "  'DS Tuc A',\n",
       "  'EPIC 201238110',\n",
       "  'EPIC 201427007',\n",
       "  'EPIC 201497682',\n",
       "  'EPIC 201595106',\n",
       "  'EPIC 201757695',\n",
       "  'EPIC 201841433',\n",
       "  'EPIC 206215704',\n",
       "  'EPIC 211822797',\n",
       "  'EPIC 211945201',\n",
       "  'EPIC 212424622',\n",
       "  'EPIC 212499991',\n",
       "  'EPIC 220492298',\n",
       "  'EPIC 228836835',\n",
       "  'EPIC 229004835',\n",
       "  'EPIC 246851721',\n",
       "  'EPIC 248847494',\n",
       "  'GJ 1252',\n",
       "  'GJ 160.2',\n",
       "  'GJ 179',\n",
       "  'GJ 2056',\n",
       "  'GJ 251',\n",
       "  'GJ 27.1',\n",
       "  'GJ 3021',\n",
       "  'GJ 3082',\n",
       "  'GJ 3090',\n",
       "  'GJ 3222',\n",
       "  'GJ 3341',\n",
       "  'GJ 338 B',\n",
       "  'GJ 3470',\n",
       "  'GJ 3634',\n",
       "  'GJ 393',\n",
       "  'GJ 3942',\n",
       "  'GJ 422',\n",
       "  'GJ 4276',\n",
       "  'GJ 436',\n",
       "  'GJ 463',\n",
       "  'GJ 480',\n",
       "  'GJ 486',\n",
       "  'GJ 504',\n",
       "  'GJ 514',\n",
       "  'GJ 536',\n",
       "  'GJ 625',\n",
       "  'GJ 649',\n",
       "  'GJ 674',\n",
       "  'GJ 680',\n",
       "  'GJ 685',\n",
       "  'GJ 720 A',\n",
       "  'GJ 724',\n",
       "  'GJ 740',\n",
       "  'GJ 832',\n",
       "  'GJ 86',\n",
       "  'GJ 896 A',\n",
       "  'GJ 9404',\n",
       "  'GJ 96',\n",
       "  'GJ 9689',\n",
       "  'GJ 9714',\n",
       "  'GPX-1',\n",
       "  'GQ Lup',\n",
       "  'GSC 06214-00210',\n",
       "  'GU Psc',\n",
       "  'Gaia-1',\n",
       "  'Gaia-2',\n",
       "  'Gl 378',\n",
       "  'Gl 49',\n",
       "  'Gl 686',\n",
       "  'HAT-P-1',\n",
       "  'HAT-P-12',\n",
       "  'HAT-P-14',\n",
       "  'HAT-P-15',\n",
       "  'HAT-P-16',\n",
       "  'HAT-P-18',\n",
       "  'HAT-P-19',\n",
       "  'HAT-P-20',\n",
       "  'HAT-P-21',\n",
       "  'HAT-P-22',\n",
       "  'HAT-P-23',\n",
       "  'HAT-P-24',\n",
       "  'HAT-P-25',\n",
       "  'HAT-P-26',\n",
       "  'HAT-P-27',\n",
       "  'HAT-P-28',\n",
       "  'HAT-P-29',\n",
       "  'HAT-P-3',\n",
       "  'HAT-P-30',\n",
       "  'HAT-P-31',\n",
       "  'HAT-P-32',\n",
       "  'HAT-P-33',\n",
       "  'HAT-P-34',\n",
       "  'HAT-P-35',\n",
       "  'HAT-P-36',\n",
       "  'HAT-P-37',\n",
       "  'HAT-P-38',\n",
       "  'HAT-P-39',\n",
       "  'HAT-P-4',\n",
       "  'HAT-P-40',\n",
       "  'HAT-P-41',\n",
       "  'HAT-P-42',\n",
       "  'HAT-P-43',\n",
       "  'HAT-P-45',\n",
       "  'HAT-P-46',\n",
       "  'HAT-P-49',\n",
       "  'HAT-P-5',\n",
       "  'HAT-P-50',\n",
       "  'HAT-P-51',\n",
       "  'HAT-P-52',\n",
       "  'HAT-P-53',\n",
       "  'HAT-P-54',\n",
       "  'HAT-P-55',\n",
       "  'HAT-P-56',\n",
       "  'HAT-P-57',\n",
       "  'HAT-P-58',\n",
       "  'HAT-P-59',\n",
       "  'HAT-P-6',\n",
       "  'HAT-P-60',\n",
       "  'HAT-P-61',\n",
       "  'HAT-P-62',\n",
       "  'HAT-P-63',\n",
       "  'HAT-P-64',\n",
       "  'HAT-P-65',\n",
       "  'HAT-P-66',\n",
       "  'HAT-P-67',\n",
       "  'HAT-P-68',\n",
       "  'HAT-P-69',\n",
       "  'HAT-P-7',\n",
       "  'HAT-P-70',\n",
       "  'HAT-P-8',\n",
       "  'HAT-P-9',\n",
       "  'HATS-1',\n",
       "  'HATS-10',\n",
       "  'HATS-11',\n",
       "  'HATS-12',\n",
       "  'HATS-13',\n",
       "  'HATS-14',\n",
       "  'HATS-15',\n",
       "  'HATS-16',\n",
       "  'HATS-17',\n",
       "  'HATS-18',\n",
       "  'HATS-2',\n",
       "  'HATS-22',\n",
       "  'HATS-23',\n",
       "  'HATS-24',\n",
       "  'HATS-25',\n",
       "  'HATS-26',\n",
       "  'HATS-27',\n",
       "  'HATS-28',\n",
       "  'HATS-29',\n",
       "  'HATS-3',\n",
       "  'HATS-30',\n",
       "  'HATS-31',\n",
       "  'HATS-32',\n",
       "  'HATS-33',\n",
       "  'HATS-34',\n",
       "  'HATS-35',\n",
       "  'HATS-36',\n",
       "  'HATS-37 A',\n",
       "  'HATS-38',\n",
       "  'HATS-39',\n",
       "  'HATS-4',\n",
       "  'HATS-40',\n",
       "  'HATS-41',\n",
       "  'HATS-42',\n",
       "  'HATS-43',\n",
       "  'HATS-44',\n",
       "  'HATS-45',\n",
       "  'HATS-46',\n",
       "  'HATS-47',\n",
       "  'HATS-48 A',\n",
       "  'HATS-49',\n",
       "  'HATS-5',\n",
       "  'HATS-50',\n",
       "  'HATS-51',\n",
       "  'HATS-52',\n",
       "  'HATS-53',\n",
       "  'HATS-54',\n",
       "  'HATS-55',\n",
       "  'HATS-56',\n",
       "  'HATS-57',\n",
       "  'HATS-58 A',\n",
       "  'HATS-6',\n",
       "  'HATS-60',\n",
       "  'HATS-61',\n",
       "  'HATS-62',\n",
       "  'HATS-63',\n",
       "  'HATS-64',\n",
       "  'HATS-65',\n",
       "  'HATS-66',\n",
       "  'HATS-67',\n",
       "  'HATS-68',\n",
       "  'HATS-69',\n",
       "  'HATS-7',\n",
       "  'HATS-70',\n",
       "  'HATS-71',\n",
       "  'HATS-72',\n",
       "  'HATS-74 A',\n",
       "  'HATS-75',\n",
       "  'HATS-76',\n",
       "  'HATS-77',\n",
       "  'HATS-8',\n",
       "  'HATS-9',\n",
       "  'HD 100546',\n",
       "  'HD 100655',\n",
       "  'HD 100777',\n",
       "  'HD 101930',\n",
       "  'HD 102117',\n",
       "  'HD 102195',\n",
       "  'HD 102272',\n",
       "  'HD 102365',\n",
       "  'HD 102843',\n",
       "  'HD 102956',\n",
       "  'HD 103197',\n",
       "  'HD 103720',\n",
       "  'HD 103774',\n",
       "  'HD 103891',\n",
       "  'HD 103949',\n",
       "  'HD 104067',\n",
       "  'HD 10442',\n",
       "  'HD 104985',\n",
       "  'HD 105779',\n",
       "  'HD 106252',\n",
       "  'HD 106270',\n",
       "  'HD 10647',\n",
       "  'HD 106515 A',\n",
       "  'HD 106906',\n",
       "  'HD 10697',\n",
       "  'HD 108147',\n",
       "  'HD 108202',\n",
       "  'HD 108341',\n",
       "  'HD 108863',\n",
       "  'HD 109246',\n",
       "  'HD 109286',\n",
       "  'HD 109749',\n",
       "  'HD 10975',\n",
       "  'HD 109988',\n",
       "  'HD 110014',\n",
       "  'HD 110082',\n",
       "  'HD 110537',\n",
       "  'HD 11112',\n",
       "  'HD 111591',\n",
       "  'HD 111998',\n",
       "  'HD 112300',\n",
       "  'HD 112570',\n",
       "  'HD 112640',\n",
       "  'HD 113996',\n",
       "  'HD 114082',\n",
       "  'HD 114386',\n",
       "  'HD 114613',\n",
       "  'HD 114729',\n",
       "  'HD 11505',\n",
       "  'HD 115954',\n",
       "  'HD 117207',\n",
       "  'HD 11755',\n",
       "  'HD 117618',\n",
       "  'HD 118203',\n",
       "  'HD 11977',\n",
       "  'HD 120084',\n",
       "  'HD 121504',\n",
       "  'HD 122562',\n",
       "  'HD 124330',\n",
       "  'HD 12484',\n",
       "  'HD 125271',\n",
       "  'HD 125390',\n",
       "  'HD 12648',\n",
       "  'HD 126525',\n",
       "  'HD 126614',\n",
       "  'HD 127506',\n",
       "  'HD 128356',\n",
       "  'HD 129445',\n",
       "  'HD 130322',\n",
       "  'HD 131496',\n",
       "  'HD 13167',\n",
       "  'HD 13189',\n",
       "  'HD 132406',\n",
       "  'HD 132563',\n",
       "  'HD 133131 B',\n",
       "  'HD 135625',\n",
       "  'HD 135872',\n",
       "  'HD 136118',\n",
       "  'HD 136418',\n",
       "  'HD 136925',\n",
       "  'HD 13724',\n",
       "  'HD 137388',\n",
       "  'HD 13931',\n",
       "  'HD 139357',\n",
       "  'HD 1397',\n",
       "  'HD 14067',\n",
       "  'HD 141004',\n",
       "  'HD 141937',\n",
       "  'HD 142022 A',\n",
       "  'HD 142245',\n",
       "  'HD 142415',\n",
       "  'HD 143105',\n",
       "  'HD 143361',\n",
       "  'HD 144899',\n",
       "  'HD 145377',\n",
       "  'HD 145457',\n",
       "  'HD 145934',\n",
       "  'HD 147379',\n",
       "  'HD 147513',\n",
       "  'HD 14787',\n",
       "  'HD 148156',\n",
       "  'HD 148427',\n",
       "  'HD 149026',\n",
       "  'HD 149143',\n",
       "  'HD 149806',\n",
       "  'HD 150010',\n",
       "  'HD 1502',\n",
       "  'HD 150706',\n",
       "  'HD 152079',\n",
       "  'HD 152581',\n",
       "  'HD 153950',\n",
       "  'HD 154088',\n",
       "  'HD 154345',\n",
       "  'HD 154391',\n",
       "  'HD 154672',\n",
       "  'HD 155193',\n",
       "  'HD 156411',\n",
       "  'HD 156846',\n",
       "  'HD 158038',\n",
       "  'HD 158996',\n",
       "  'HD 161178',\n",
       "  'HD 16141',\n",
       "  'HD 16175',\n",
       "  'HD 162020',\n",
       "  'HD 16417',\n",
       "  'HD 164509',\n",
       "  'HD 164595',\n",
       "  'HD 164604',\n",
       "  'HD 165131',\n",
       "  'HD 165155',\n",
       "  'HD 1666',\n",
       "  'HD 166724',\n",
       "  'HD 167042',\n",
       "  'HD 167677',\n",
       "  'HD 167768',\n",
       "  'HD 168009',\n",
       "  'HD 168746',\n",
       "  'HD 168863',\n",
       "  'HD 1690',\n",
       "  'HD 16905',\n",
       "  'HD 169142',\n",
       "  'HD 170469',\n",
       "  'HD 17092',\n",
       "  'HD 171028',\n",
       "  'HD 171238',\n",
       "  'HD 17156',\n",
       "  'HD 173416',\n",
       "  'HD 174205',\n",
       "  'HD 175167',\n",
       "  'HD 175541',\n",
       "  'HD 175607',\n",
       "  'HD 17674',\n",
       "  'HD 177565',\n",
       "  'HD 178911 B',\n",
       "  'HD 179079',\n",
       "  'HD 179949',\n",
       "  'HD 180053',\n",
       "  'HD 18015',\n",
       "  'HD 180314',\n",
       "  'HD 180617',\n",
       "  'HD 180902',\n",
       "  'HD 181234',\n",
       "  'HD 181342',\n",
       "  'HD 181720',\n",
       "  'HD 183579',\n",
       "  'HD 18438',\n",
       "  'HD 185269',\n",
       "  'HD 185283',\n",
       "  'HD 18599',\n",
       "  'HD 187085',\n",
       "  'HD 18742',\n",
       "  'HD 188015',\n",
       "  'HD 188641',\n",
       "  'HD 189733',\n",
       "  'HD 190007',\n",
       "  'HD 190228',\n",
       "  'HD 190647',\n",
       "  'HD 190984',\n",
       "  'HD 191806',\n",
       "  'HD 192263',\n",
       "  'HD 192699',\n",
       "  'HD 194490',\n",
       "  'HD 195019',\n",
       "  'HD 196050',\n",
       "  'HD 196067',\n",
       "  'HD 19615',\n",
       "  'HD 196885 A',\n",
       "  'HD 197037',\n",
       "  'HD 199509',\n",
       "  'HD 19994',\n",
       "  'HD 202206',\n",
       "  'HD 202772 A',\n",
       "  'HD 203030',\n",
       "  'HD 20329',\n",
       "  'HD 2039',\n",
       "  'HD 204941',\n",
       "  'HD 205158',\n",
       "  'HD 205739',\n",
       "  'HD 206255',\n",
       "  'HD 206610',\n",
       "  'HD 207496',\n",
       "  'HD 20782',\n",
       "  'HD 207897',\n",
       "  'HD 208487',\n",
       "  'HD 208527',\n",
       "  'HD 20868',\n",
       "  'HD 208897',\n",
       "  'HD 209458',\n",
       "  'HD 210193',\n",
       "  'HD 210277',\n",
       "  'HD 210702',\n",
       "  'HD 211403',\n",
       "  'HD 211810',\n",
       "  'HD 211970',\n",
       "  'HD 212301',\n",
       "  'HD 212771',\n",
       "  'HD 213240',\n",
       "  'HD 213472',\n",
       "  'HD 213519',\n",
       "  'HD 21411',\n",
       "  'HD 214823',\n",
       "  'HD 216435',\n",
       "  'HD 216437',\n",
       "  'HD 216536',\n",
       "  'HD 216770',\n",
       "  'HD 217958',\n",
       "  'HD 218566',\n",
       "  'HD 219077',\n",
       "  'HD 219139',\n",
       "  'HD 219415',\n",
       "  'HD 219666',\n",
       "  'HD 220074',\n",
       "  'HD 220197',\n",
       "  'HD 220689',\n",
       "  'HD 220773',\n",
       "  'HD 220842',\n",
       "  'HD 221287',\n",
       "  'HD 221416',\n",
       "  'HD 221420',\n",
       "  'HD 221585',\n",
       "  'HD 222076',\n",
       "  'HD 222155',\n",
       "  'HD 222582',\n",
       "  'HD 224538',\n",
       "  'HD 224693',\n",
       "  'HD 22496',\n",
       "  'HD 22532',\n",
       "  'HD 22781',\n",
       "  'HD 23079',\n",
       "  'HD 23127',\n",
       "  'HD 231701',\n",
       "  'HD 233604',\n",
       "  'HD 233832',\n",
       "  'HD 235088',\n",
       "  'HD 23596',\n",
       "  'HD 238090',\n",
       "  'HD 238914',\n",
       "  'HD 240210',\n",
       "  'HD 24064',\n",
       "  'HD 24085',\n",
       "  'HD 25015',\n",
       "  'HD 25171',\n",
       "  'HD 25723',\n",
       "  'HD 26161',\n",
       "  'HD 2638',\n",
       "  'HD 2685',\n",
       "  'HD 26965',\n",
       "  'HD 27442',\n",
       "  'HD 27631',\n",
       "  'HD 27969',\n",
       "  'HD 28192',\n",
       "  'HD 28254',\n",
       "  'HD 285507',\n",
       "  'HD 285968',\n",
       "  'HD 28678',\n",
       "  'HD 29021',\n",
       "  'HD 290327',\n",
       "  'HD 29399',\n",
       "  'HD 2952',\n",
       "  'HD 29985',\n",
       "  'HD 30562',\n",
       "  'HD 30669',\n",
       "  'HD 307842',\n",
       "  'HD 30856',\n",
       "  'HD 31253',\n",
       "  'HD 32518',\n",
       "  'HD 32963',\n",
       "  'HD 330075',\n",
       "  'HD 331093',\n",
       "  'HD 332231',\n",
       "  'HD 33283',\n",
       "  'HD 33564',\n",
       "  'HD 35759',\n",
       "  'HD 360',\n",
       "  'HD 36384',\n",
       "  'HD 3651',\n",
       "  'HD 3765',\n",
       "  'HD 38283',\n",
       "  'HD 38801',\n",
       "  'HD 39855',\n",
       "  'HD 40956',\n",
       "  'HD 40979',\n",
       "  'HD 41004 A',\n",
       "  'HD 41004 B',\n",
       "  'HD 4113',\n",
       "  'HD 42012',\n",
       "  'HD 4208',\n",
       "  'HD 42618',\n",
       "  'HD 4308',\n",
       "  'HD 4313',\n",
       "  'HD 43691',\n",
       "  'HD 44219',\n",
       "  'HD 45350',\n",
       "  'HD 45652',\n",
       "  'HD 457',\n",
       "  'HD 46375',\n",
       "  'HD 47536',\n",
       "  'HD 4760',\n",
       "  'HD 48265',\n",
       "  'HD 4917',\n",
       "  'HD 49674',\n",
       "  'HD 50554',\n",
       "  'HD 52265',\n",
       "  'HD 55696',\n",
       "  'HD 5583',\n",
       "  'HD 5608',\n",
       "  'HD 564',\n",
       "  'HD 56414',\n",
       "  'HD 56957',\n",
       "  'HD 5891',\n",
       "  'HD 59686 A',\n",
       "  'HD 60292',\n",
       "  'HD 62509',\n",
       "  'HD 62549',\n",
       "  'HD 63454',\n",
       "  'HD 63765',\n",
       "  'HD 64114',\n",
       "  'HD 64121',\n",
       "  'HD 6434',\n",
       "  'HD 66141',\n",
       "  'HD 6718',\n",
       "  'HD 68402',\n",
       "  'HD 6860',\n",
       "  'HD 69123',\n",
       "  'HD 70573',\n",
       "  'HD 70642',\n",
       "  'HD 7199',\n",
       "  'HD 72490',\n",
       "  'HD 72892',\n",
       "  'HD 73256',\n",
       "  'HD 73534',\n",
       "  'HD 7449',\n",
       "  'HD 75289',\n",
       "  'HD 75302',\n",
       "  'HD 75898',\n",
       "  'HD 76700',\n",
       "  'HD 76920',\n",
       "  'HD 77338',\n",
       "  'HD 77946',\n",
       "  'HD 79181',\n",
       "  'HD 79498',\n",
       "  'HD 80606',\n",
       "  'HD 80869',\n",
       "  'HD 80883',\n",
       "  'HD 80913',\n",
       "  'HD 81040',\n",
       "  'HD 81688',\n",
       "  'HD 82886',\n",
       "  'HD 8326',\n",
       "  'HD 8535',\n",
       "  'HD 85390',\n",
       "  'HD 85512',\n",
       "  'HD 8574',\n",
       "  'HD 86065',\n",
       "  'HD 86081',\n",
       "  'HD 86264',\n",
       "  'HD 8673',\n",
       "  'HD 86950',\n",
       "  'HD 87646',\n",
       "  'HD 87883',\n",
       "  'HD 88072',\n",
       "  'HD 88133',\n",
       "  'HD 88986',\n",
       "  'HD 89307',\n",
       "  'HD 89345',\n",
       "  'HD 89744',\n",
       "  'HD 89839',\n",
       "  'HD 90156',\n",
       "  'HD 9174',\n",
       "  'HD 93083',\n",
       "  'HD 94771',\n",
       "  'HD 94834',\n",
       "  'HD 95086',\n",
       "  'HD 95127',\n",
       "  'HD 95338',\n",
       "  'HD 95544',\n",
       "  'HD 95872',\n",
       "  'HD 96063',\n",
       "  'HD 96167',\n",
       "  'HD 96992',\n",
       "  'HD 97037',\n",
       "  'HD 97048',\n",
       "  'HD 97658',\n",
       "  'HD 98219',\n",
       "  'HD 98649',\n",
       "  'HD 98736',\n",
       "  'HD 99109',\n",
       "  'HD 99283',\n",
       "  'HIP 105854',\n",
       "  'HIP 107772',\n",
       "  'HIP 107773',\n",
       "  'HIP 109384',\n",
       "  'HIP 109600',\n",
       "  'HIP 114933',\n",
       "  'HIP 116454',\n",
       "  'HIP 12961',\n",
       "  'HIP 19976',\n",
       "  'HIP 21152',\n",
       "  'HIP 34222',\n",
       "  'HIP 35173',\n",
       "  'HIP 35965',\n",
       "  'HIP 4845',\n",
       "  'HIP 48714',\n",
       "  'HIP 54597',\n",
       "  'HIP 55507',\n",
       "  'HIP 56640',\n",
       "  'HIP 5763',\n",
       "  'HIP 63242',\n",
       "  'HIP 65 A',\n",
       "  'HIP 65426',\n",
       "  'HIP 65891',\n",
       "  'HIP 66074',\n",
       "  'HIP 67522',\n",
       "  'HIP 67537',\n",
       "  'HIP 70849',\n",
       "  'HIP 71135',\n",
       "  'HIP 74890',\n",
       "  'HIP 75092',\n",
       "  'HIP 78530',\n",
       "  'HIP 79098 AB',\n",
       "  'HIP 79431',\n",
       "  'HIP 86221',\n",
       "  'HIP 90988',\n",
       "  'HIP 91258',\n",
       "  'HIP 94235',\n",
       "  'HIP 948',\n",
       "  'HIP 97233',\n",
       "  'HIP 99770',\n",
       "  'HN Peg',\n",
       "  'HR 2562',\n",
       "  'HR 5183',\n",
       "  'HR 810',\n",
       "  'HS Psc',\n",
       "  'IC 4651 9122',\n",
       "  'K2-10',\n",
       "  'K2-100',\n",
       "  'K2-101',\n",
       "  'K2-102',\n",
       "  'K2-104',\n",
       "  'K2-105',\n",
       "  'K2-107',\n",
       "  'K2-108',\n",
       "  'K2-11',\n",
       "  'K2-110',\n",
       "  'K2-113',\n",
       "  'K2-114',\n",
       "  'K2-115',\n",
       "  'K2-116',\n",
       "  'K2-118',\n",
       "  'K2-119',\n",
       "  'K2-12',\n",
       "  'K2-120',\n",
       "  'K2-121',\n",
       "  'K2-122',\n",
       "  'K2-123',\n",
       "  'K2-124',\n",
       "  'K2-125',\n",
       "  'K2-126',\n",
       "  'K2-127',\n",
       "  'K2-128',\n",
       "  'K2-129',\n",
       "  'K2-13',\n",
       "  'K2-130',\n",
       "  'K2-131',\n",
       "  'K2-132',\n",
       "  'K2-137',\n",
       "  'K2-139',\n",
       "  'K2-14',\n",
       "  'K2-140',\n",
       "  'K2-147',\n",
       "  'K2-149',\n",
       "  'K2-15',\n",
       "  'K2-150',\n",
       "  'K2-151',\n",
       "  'K2-152',\n",
       "  'K2-153',\n",
       "  'K2-156',\n",
       "  'K2-157',\n",
       "  'K2-159',\n",
       "  'K2-160',\n",
       "  'K2-161',\n",
       "  'K2-162',\n",
       "  'K2-163',\n",
       "  'K2-164',\n",
       "  'K2-167',\n",
       "  'K2-169',\n",
       "  'K2-17',\n",
       "  'K2-171',\n",
       "  'K2-173',\n",
       "  'K2-174',\n",
       "  'K2-175',\n",
       "  'K2-176',\n",
       "  'K2-177',\n",
       "  'K2-178',\n",
       "  'K2-179',\n",
       "  'K2-180',\n",
       "  'K2-181',\n",
       "  'K2-182',\n",
       "  'K2-184',\n",
       "  'K2-186',\n",
       "  'K2-191',\n",
       "  'K2-192',\n",
       "  'K2-193',\n",
       "  'K2-194',\n",
       "  'K2-196',\n",
       "  'K2-197',\n",
       "  'K2-200',\n",
       "  'K2-2016-BLG-0005L',\n",
       "  'K2-202',\n",
       "  'K2-203',\n",
       "  'K2-204',\n",
       "  'K2-205',\n",
       "  'K2-206',\n",
       "  'K2-207',\n",
       "  'K2-208',\n",
       "  'K2-209',\n",
       "  'K2-210',\n",
       "  'K2-211',\n",
       "  'K2-212',\n",
       "  'K2-213',\n",
       "  'K2-214',\n",
       "  'K2-215',\n",
       "  'K2-216',\n",
       "  'K2-217',\n",
       "  'K2-218',\n",
       "  'K2-22',\n",
       "  'K2-220',\n",
       "  'K2-221',\n",
       "  'K2-222',\n",
       "  'K2-225',\n",
       "  'K2-226',\n",
       "  'K2-227',\n",
       "  'K2-228',\n",
       "  'K2-230',\n",
       "  'K2-231',\n",
       "  'K2-232',\n",
       "  'K2-237',\n",
       "  'K2-238',\n",
       "  'K2-241',\n",
       "  'K2-242',\n",
       "  'K2-244',\n",
       "  'K2-245',\n",
       "  'K2-246',\n",
       "  'K2-248',\n",
       "  'K2-249',\n",
       "  'K2-250',\n",
       "  'K2-251',\n",
       "  'K2-252',\n",
       "  'K2-253',\n",
       "  'K2-255',\n",
       "  'K2-256',\n",
       "  'K2-257',\n",
       "  'K2-258',\n",
       "  'K2-259',\n",
       "  'K2-26',\n",
       "  'K2-260',\n",
       "  'K2-261',\n",
       "  'K2-263',\n",
       "  'K2-265',\n",
       "  'K2-269',\n",
       "  'K2-27',\n",
       "  'K2-271',\n",
       "  'K2-272',\n",
       "  'K2-273',\n",
       "  'K2-274',\n",
       "  'K2-276',\n",
       "  'K2-277',\n",
       "  'K2-278',\n",
       "  'K2-279',\n",
       "  'K2-280',\n",
       "  'K2-281',\n",
       "  'K2-283',\n",
       "  'K2-284',\n",
       "  'K2-286',\n",
       "  'K2-287',\n",
       "  'K2-288 B',\n",
       "  'K2-289',\n",
       "  'K2-29',\n",
       "  'K2-291',\n",
       "  'K2-292',\n",
       "  'K2-293',\n",
       "  'K2-294',\n",
       "  'K2-295',\n",
       "  'K2-30',\n",
       "  'K2-308',\n",
       "  'K2-31',\n",
       "  'K2-317',\n",
       "  'K2-318',\n",
       "  'K2-319',\n",
       "  'K2-321',\n",
       "  'K2-322',\n",
       "  'K2-323',\n",
       "  'K2-324',\n",
       "  'K2-326',\n",
       "  'K2-329',\n",
       "  'K2-33',\n",
       "  'K2-330',\n",
       "  'K2-333',\n",
       "  'K2-334',\n",
       "  'K2-335',\n",
       "  'K2-336',\n",
       "  'K2-337',\n",
       "  'K2-338',\n",
       "  'K2-339',\n",
       "  'K2-34',\n",
       "  'K2-340',\n",
       "  'K2-341',\n",
       "  'K2-342',\n",
       "  'K2-344',\n",
       "  'K2-345',\n",
       "  'K2-346',\n",
       "  'K2-347',\n",
       "  'K2-349',\n",
       "  'K2-351',\n",
       "  'K2-353',\n",
       "  'K2-354',\n",
       "  'K2-355',\n",
       "  'K2-356',\n",
       "  'K2-357',\n",
       "  'K2-358',\n",
       "  'K2-365',\n",
       "  'K2-366',\n",
       "  'K2-367',\n",
       "  'K2-369',\n",
       "  'K2-370',\n",
       "  'K2-371',\n",
       "  'K2-372',\n",
       "  'K2-373',\n",
       "  'K2-375',\n",
       "  'K2-376',\n",
       "  'K2-377',\n",
       "  'K2-378',\n",
       "  'K2-379',\n",
       "  'K2-380',\n",
       "  'K2-382',\n",
       "  'K2-383',\n",
       "  'K2-385',\n",
       "  'K2-386',\n",
       "  'K2-387',\n",
       "  'K2-388',\n",
       "  'K2-39',\n",
       "  'K2-390',\n",
       "  'K2-391',\n",
       "  'K2-392',\n",
       "  'K2-393',\n",
       "  'K2-394',\n",
       "  'K2-397',\n",
       "  'K2-399',\n",
       "  'K2-4',\n",
       "  'K2-400',\n",
       "  'K2-401',\n",
       "  'K2-402',\n",
       "  'K2-403',\n",
       "  'K2-404',\n",
       "  'K2-405',\n",
       "  'K2-406',\n",
       "  'K2-408',\n",
       "  'K2-409',\n",
       "  'K2-411',\n",
       "  'K2-412',\n",
       "  'K2-416',\n",
       "  'K2-417',\n",
       "  'K2-42',\n",
       "  'K2-44',\n",
       "  'K2-45',\n",
       "  'K2-46',\n",
       "  'K2-47',\n",
       "  'K2-48',\n",
       "  'K2-49',\n",
       "  'K2-52',\n",
       "  'K2-53',\n",
       "  'K2-54',\n",
       "  'K2-55',\n",
       "  'K2-57',\n",
       "  'K2-6',\n",
       "  'K2-60',\n",
       "  'K2-61',\n",
       "  'K2-64',\n",
       "  'K2-65',\n",
       "  'K2-66',\n",
       "  'K2-68',\n",
       "  'K2-69',\n",
       "  'K2-7',\n",
       "  'K2-70',\n",
       "  'K2-71',\n",
       "  'K2-73',\n",
       "  'K2-74',\n",
       "  'K2-77',\n",
       "  'K2-79',\n",
       "  'K2-81',\n",
       "  'K2-85',\n",
       "  'K2-86',\n",
       "  'K2-87',\n",
       "  'K2-89',\n",
       "  'K2-9',\n",
       "  'K2-95',\n",
       "  'K2-97',\n",
       "  'K2-98',\n",
       "  'K2-99',\n",
       "  'KELT-1',\n",
       "  'KELT-10',\n",
       "  ...],\n",
       " 'White Dwarf': ['HD 240237', 'NGC 2682 Sand 364', 'mu2 Sco'],\n",
       " 'Neutron Star': ['HD 96127']}"
      ]
     },
     "execution_count": 43,
     "metadata": {},
     "output_type": "execute_result"
    }
   ],
   "source": [
    "star_classes"
   ]
  },
  {
   "cell_type": "markdown",
   "id": "639d8b0c",
   "metadata": {
    "deletable": false,
    "editable": false
   },
   "source": [
    "You can **verify** that you have defined `star_classes` correctly by checking that there are *4006* Red Giants, *3* White Dwarfs, and *1* Neutron Star in `star_classes`."
   ]
  },
  {
   "cell_type": "markdown",
   "id": "caffcf0b",
   "metadata": {
    "deletable": false,
    "editable": false
   },
   "source": [
    "**Question 6:** What is the **average** `stellar_luminosity` of each class of `Star` objects in `star_classes`?\n",
    "\n",
    "Your output **must** be a **dictionary** mapping the class of the star to the **average** `stellar_luminosity` value of all `Star` objects of that class. You **must** ignore the `Star` objects with **missing** `stellar_luminosity` data.\n",
    "\n",
    "The expected output of this question is:\n",
    "\n",
    "```python\n",
    "{'Red Giant': -0.02548807672369097,\n",
    " 'White Dwarf': 2.787333333333333,\n",
    " 'Neutron Star': 2.86}\n",
    "```"
   ]
  },
  {
   "cell_type": "code",
   "execution_count": 44,
   "id": "e00b7011",
   "metadata": {
    "execution": {
     "iopub.execute_input": "2024-04-10T02:30:00.448597Z",
     "iopub.status.busy": "2024-04-10T02:30:00.448529Z",
     "iopub.status.idle": "2024-04-10T02:30:00.451586Z",
     "shell.execute_reply": "2024-04-10T02:30:00.451363Z"
    },
    "tags": []
   },
   "outputs": [
    {
     "data": {
      "text/plain": [
       "{'Red Giant': -0.025488076723691033,\n",
       " 'White Dwarf': 2.787333333333333,\n",
       " 'Neutron Star': 2.86}"
      ]
     },
     "execution_count": 44,
     "metadata": {},
     "output_type": "execute_result"
    }
   ],
   "source": [
    "# Initialize the dictionary to store average luminosity for each class\n",
    "star_classes_avg_lum = {}\n",
    "\n",
    "# Loop through each star class in star_classes\n",
    "for star_class, stars in star_classes.items():\n",
    "    # Prepare a list to collect luminosity values\n",
    "    luminosities = []\n",
    "    # Loop through each star name in the list of that class\n",
    "    for star_name in stars:\n",
    "        # Retrieve the star object from stars_dict\n",
    "        star = stars_dict[star_name]\n",
    "        # Skip the star if stellar_luminosity data is missing\n",
    "        if star.stellar_luminosity is None:\n",
    "            continue\n",
    "        # Add the luminosity to the list\n",
    "        luminosities.append(float(star.stellar_luminosity))\n",
    "    \n",
    "    # Compute the mean luminosity if the list is not empty\n",
    "    if luminosities:\n",
    "        star_classes_avg_lum[star_class] = statistics.mean(luminosities)\n",
    "    else:\n",
    "        star_classes_avg_lum[star_class] = None  # Or handle the case where there's no valid data\n",
    "\n",
    "# Display the computed average luminosities for each class\n",
    "star_classes_avg_lum\n"
   ]
  },
  {
   "cell_type": "code",
   "execution_count": 45,
   "id": "fda20ecd",
   "metadata": {
    "deletable": false,
    "editable": false
   },
   "outputs": [
    {
     "data": {
      "text/html": [
       "<p><strong><pre style='display: inline;'>q6</pre></strong> passed! 🍀</p><p><strong><pre style='display: inline;'>q6 - 2</pre> message:</strong> Note that the Gradescope autograder will deduct points if your code fails the following rubric point - 'incorrect logic is used to answer (-1)'.The public tests cannot determine if your code satisfies these requirements. Verify your code manually.</p><p><strong><pre style='display: inline;'>q6 - 3</pre> message:</strong> Note that the Gradescope autograder will deduct points if your code fails the following rubric point - 'did not ignore the `Star` objects with missing `stellar_luminosity` data (-1)'.The public tests cannot determine if your code satisfies these requirements. Verify your code manually.</p><p><strong><pre style='display: inline;'>q6 - 4</pre> message:</strong> Note that the Gradescope autograder will deduct points if your code fails the following rubric point - '`star_classes` data structure is not used to answer (-1)'.The public tests cannot determine if your code satisfies these requirements. Verify your code manually.</p>"
      ],
      "text/plain": [
       "q6 results: All test cases passed!\n",
       "q6 - 2 message: Note that the Gradescope autograder will deduct points if your code fails the following rubric point - 'incorrect logic is used to answer (-1)'.The public tests cannot determine if your code satisfies these requirements. Verify your code manually.\n",
       "q6 - 3 message: Note that the Gradescope autograder will deduct points if your code fails the following rubric point - 'did not ignore the `Star` objects with missing `stellar_luminosity` data (-1)'.The public tests cannot determine if your code satisfies these requirements. Verify your code manually.\n",
       "q6 - 4 message: Note that the Gradescope autograder will deduct points if your code fails the following rubric point - '`star_classes` data structure is not used to answer (-1)'.The public tests cannot determine if your code satisfies these requirements. Verify your code manually."
      ]
     },
     "execution_count": 45,
     "metadata": {},
     "output_type": "execute_result"
    }
   ],
   "source": [
    "grader.check(\"q6\")"
   ]
  },
  {
   "cell_type": "markdown",
   "id": "4011b0c7",
   "metadata": {
    "deletable": false,
    "editable": false
   },
   "source": [
    "**Food for thought:** Recall that the `stellar_luminosity` values of the `Star` objects are represented in units of the logarithm of the Sun's luminosity. What does this difference in `stellar_luminosity` signify?"
   ]
  },
  {
   "cell_type": "code",
   "execution_count": 46,
   "id": "d13cce68",
   "metadata": {
    "execution": {
     "iopub.execute_input": "2024-04-10T02:30:00.657225Z",
     "iopub.status.busy": "2024-04-10T02:30:00.657159Z",
     "iopub.status.idle": "2024-04-10T02:30:00.658579Z",
     "shell.execute_reply": "2024-04-10T02:30:00.658336Z"
    }
   },
   "outputs": [],
   "source": [
    "# Food for thought is an entirely OPTIONAL exercise\n",
    "# you may leave your thoughts here as a comment if you wish to\n"
   ]
  },
  {
   "cell_type": "markdown",
   "id": "fcd8e759",
   "metadata": {
    "deletable": false,
    "editable": false
   },
   "source": [
    "Just as the different classes of `Star` objects have different **average luminosities**, they also have different **average densities**. This difference will be easier to visualize as a **scatter plot**.\n",
    "\n",
    "However, before you can do that, there is a minor hurdle you need to overcome - we do **not** have the *stellar density* data available for the `Star` objects in our dataset. However, we do have `stellar_mass` and `stellar_radius` data, which allows us to **compute** the *stellar density*. Since the `stellar_mass` and `stellar_radius` data is stored in units of the Sun's mass and radius respectively, we can compute the *stellar density* (i.e., density of the `Star` in units of the Sun's density) as follows:\n",
    "\n",
    "$$\\texttt{stellar density} = \\frac{\\texttt{stellar mass}}{(\\texttt{stellar radius})^{3}}.$$"
   ]
  },
  {
   "cell_type": "markdown",
   "id": "8ad9b993",
   "metadata": {
    "deletable": false,
    "editable": false
   },
   "source": [
    "**Question 7:** Create a **scatter plot** representing the *stellar density* (on the **x-axis**) against the `stellar_luminosity` (on the **y-axis**) of each `Star` object of **each class** in `star_classes`.\n",
    "\n",
    "You **must** ignore all `Star` objects with **missing** `stellar_mass`, `stellar_radius`, or `stellar_luminosity` data.\n",
    "\n",
    "You **must** first compute two **dictionaries**. The **keys** of both dictionaries must be the different **star classes**, and the corresponding values must be the **list** of **densities** and **list** of **luminosities** of `Star` objects of that **star class**. Then, you **must** use `plot_scatter_multiple` to plot the **density** against the **luminosity** of each **star class**."
   ]
  },
  {
   "cell_type": "code",
   "execution_count": 47,
   "id": "e62245f0",
   "metadata": {
    "execution": {
     "iopub.execute_input": "2024-04-10T02:30:00.659805Z",
     "iopub.status.busy": "2024-04-10T02:30:00.659740Z",
     "iopub.status.idle": "2024-04-10T02:30:00.663178Z",
     "shell.execute_reply": "2024-04-10T02:30:00.662949Z"
    },
    "tags": []
   },
   "outputs": [],
   "source": [
    "# Initialize the two dictionaries\n",
    "density_dict = {}\n",
    "lum_dict = {}\n",
    "\n",
    "# Loop through each star class in star_classes\n",
    "for star_class, stars in star_classes.items():\n",
    "    # Initialize lists to hold density and luminosity values for this class\n",
    "    densities = []\n",
    "    luminosities = []\n",
    "\n",
    "    # Loop through each star name in the list of that class\n",
    "    for star_name in stars:\n",
    "        star = stars_dict[star_name]\n",
    "        # Check if stellar_mass, stellar_radius, or stellar_luminosity data is missing\n",
    "        if star.stellar_mass is None or star.stellar_radius is None or star.stellar_luminosity is None:\n",
    "            continue  # Skip this star\n",
    "        \n",
    "        # Compute the density of the star\n",
    "        density = float(star.stellar_mass) / (float(star.stellar_radius) ** 3)\n",
    "        \n",
    "        # Add the computed density to the densities list\n",
    "        densities.append(density)\n",
    "        \n",
    "        # Add the luminosity to the luminosities list\n",
    "        luminosities.append(float(star.stellar_luminosity))\n",
    "\n",
    "    # Assign the lists to the corresponding keys in the dictionaries\n",
    "    density_dict[star_class] = densities\n",
    "    lum_dict[star_class] = luminosities\n",
    "\n",
    "# Now you have 'density_dict' and 'lum_dict' ready for plotting\n"
   ]
  },
  {
   "cell_type": "markdown",
   "id": "88e3fac3",
   "metadata": {
    "deletable": false,
    "editable": false
   },
   "source": [
    "Now, **plot** `density_dict` and `lum_dict` as **scatter plot** with the **x-axis** labelled *Density*, and the **y-axis** labelled *Luminosity*.\n",
    "\n",
    "Your plot should look like this:"
   ]
  },
  {
   "attachments": {
    "q7.jpg": {
     "image/jpeg": "[encoded data removed]"
    }
   },
   "cell_type": "markdown",
   "id": "c09cb654",
   "metadata": {},
   "source": [
    "<div style=\"text-align: center;\"><img src=\"attachment:q7.jpg\" style=\"height: 400px;\"/></div>"
   ]
  },
  {
   "cell_type": "markdown",
   "id": "65921f9e",
   "metadata": {
    "deletable": false,
    "editable": false
   },
   "source": [
    "**Note:** If the `grader.export` cell fails to run because the file size is too large, you can delete the plot above to reduce the size of your notebook. Make sure your plot matches the plot above, before you do so."
   ]
  },
  {
   "cell_type": "code",
   "execution_count": 48,
   "id": "bb3bdb77",
   "metadata": {
    "execution": {
     "iopub.execute_input": "2024-04-10T02:30:00.664511Z",
     "iopub.status.busy": "2024-04-10T02:30:00.664449Z",
     "iopub.status.idle": "2024-04-10T02:30:00.761835Z",
     "shell.execute_reply": "2024-04-10T02:30:00.761613Z"
    },
    "tags": []
   },
   "outputs": [
    {
     "data": {
      "image/png": "[encoded data removed]",
      "text/plain": [
       "<Figure size 640x480 with 1 Axes>"
      ]
     },
     "metadata": {},
     "output_type": "display_data"
    }
   ],
   "source": [
    "# plot 'density_dict' and 'lum_dict'\n",
    "\n",
    "\n",
    "# Use this function to plot the data\n",
    "plot_scatter_multiple(density_dict, lum_dict, x_label='Density', y_label='Luminosity')\n",
    "\n"
   ]
  },
  {
   "cell_type": "code",
   "execution_count": 49,
   "id": "9e8964d5",
   "metadata": {
    "deletable": false,
    "editable": false
   },
   "outputs": [
    {
     "data": {
      "text/html": [
       "<p><strong><pre style='display: inline;'>q7</pre></strong> passed! ✨</p><p><strong><pre style='display: inline;'>q7 - 2</pre> message:</strong> Note that the Gradescope autograder will deduct points if your code fails the following rubric point - 'incorrect logic is used to answer (-1)'.The public tests cannot determine if your code satisfies these requirements. Verify your code manually.</p><p><strong><pre style='display: inline;'>q7 - 3</pre> message:</strong> Note that the Gradescope autograder will deduct points if your code fails the following rubric point - '`star_classes` data structure is not used to answer (-1)'.The public tests cannot determine if your code satisfies these requirements. Verify your code manually.</p><p><strong><pre style='display: inline;'>q7 - 4</pre> message:</strong> Note that the Gradescope autograder will deduct points if your code fails the following rubric point - 'plot is incorrect (-1)'.The public tests cannot determine if your code satisfies these requirements. Verify your code manually.</p><p><strong><pre style='display: inline;'>q7 - 5</pre> message:</strong> Note that the Gradescope autograder will deduct points if your code fails the following rubric point - 'plot is not properly labeled (-1)'.The public tests cannot determine if your code satisfies these requirements. Verify your code manually.</p>"
      ],
      "text/plain": [
       "q7 results: All test cases passed!\n",
       "q7 - 2 message: Note that the Gradescope autograder will deduct points if your code fails the following rubric point - 'incorrect logic is used to answer (-1)'.The public tests cannot determine if your code satisfies these requirements. Verify your code manually.\n",
       "q7 - 3 message: Note that the Gradescope autograder will deduct points if your code fails the following rubric point - '`star_classes` data structure is not used to answer (-1)'.The public tests cannot determine if your code satisfies these requirements. Verify your code manually.\n",
       "q7 - 4 message: Note that the Gradescope autograder will deduct points if your code fails the following rubric point - 'plot is incorrect (-1)'.The public tests cannot determine if your code satisfies these requirements. Verify your code manually.\n",
       "q7 - 5 message: Note that the Gradescope autograder will deduct points if your code fails the following rubric point - 'plot is not properly labeled (-1)'.The public tests cannot determine if your code satisfies these requirements. Verify your code manually."
      ]
     },
     "execution_count": 49,
     "metadata": {},
     "output_type": "execute_result"
    }
   ],
   "source": [
    "grader.check(\"q7\")"
   ]
  },
  {
   "cell_type": "markdown",
   "id": "264c70ea",
   "metadata": {
    "deletable": false,
    "editable": false
   },
   "source": [
    "**Food for thought:** As you can see, there are **two** extreme outliers with a very high density. If you are interested, you can try to find out the names of these stars, and why they have such extremely high densities (and low luminosities). What (**incorrect**) assumption did we make when we classified the `Star` objects in `star_classes`? Can you suggest a more **accurate** way of classifying the stars now, based on the data we have observed?"
   ]
  },
  {
   "cell_type": "code",
   "execution_count": 50,
   "id": "382a8483",
   "metadata": {
    "execution": {
     "iopub.execute_input": "2024-04-10T02:30:01.193246Z",
     "iopub.status.busy": "2024-04-10T02:30:01.193175Z",
     "iopub.status.idle": "2024-04-10T02:30:01.194483Z",
     "shell.execute_reply": "2024-04-10T02:30:01.194244Z"
    }
   },
   "outputs": [],
   "source": [
    "# Food for thought is an entirely OPTIONAL exercise\n",
    "# you may leave your thoughts here as a comment if you wish to\n"
   ]
  },
  {
   "cell_type": "markdown",
   "id": "acf3fd31",
   "metadata": {
    "deletable": false,
    "editable": false
   },
   "source": [
    "As you can see, almost all the `Star` objects have low *stellar density*, and the presence of a few extreme outliers is obscuring our view of the other `Star` objects. In fact, it turns out that there are only *27* `Star` objects in the dataset with a *stellar density* **greater than** *25*. We could get a much clearer view of the relationship between *stellar density* and `stellar_luminosity` if we did **not** plot these outliers."
   ]
  },
  {
   "cell_type": "markdown",
   "id": "a59cf942",
   "metadata": {
    "deletable": false,
    "editable": false
   },
   "source": [
    "**Question 8:** Create the same **scatter plot** as above, but exclude stars with *stellar density* **more than** *25*.\n",
    "\n",
    "You **must** ignore all `Star` objects with **missing** `stellar_mass`, `stellar_radius`, or `stellar_luminosity` data. You **must** also ignore all `Star` objects with *stellar density* more than *25*.\n",
    "\n",
    "You **must** first compute two **dictionaries**. The **keys** of both dictionaries must be the different **star classes**, and the corresponding values must be the **list** of **densities** and **list** of **luminosities** of `Star` objects of that **star class**. Then, you **must** use `plot_scatter_multiple` to plot the **density** against the **luminosity** of each **star class**."
   ]
  },
  {
   "cell_type": "code",
   "execution_count": 51,
   "id": "e05f4d55",
   "metadata": {
    "execution": {
     "iopub.execute_input": "2024-04-10T02:30:01.195804Z",
     "iopub.status.busy": "2024-04-10T02:30:01.195739Z",
     "iopub.status.idle": "2024-04-10T02:30:01.199245Z",
     "shell.execute_reply": "2024-04-10T02:30:01.199032Z"
    },
    "tags": []
   },
   "outputs": [],
   "source": [
    "# first compute and store the dictionaries 'density_dict_no_outliers', and 'lum_dict_no_outliers'\n",
    "# do NOT plot just yet\n",
    "# Initialize the two dictionaries for the filtered data\n",
    "density_dict_no_outliers = {}\n",
    "lum_dict_no_outliers = {}\n",
    "\n",
    "# Loop through each star class in star_classes\n",
    "for star_class, stars in star_classes.items():\n",
    "    # Initialize lists to hold density and luminosity values for this class\n",
    "    densities = []\n",
    "    luminosities = []\n",
    "\n",
    "    # Loop through each star name in the list of that class\n",
    "    for star_name in stars:\n",
    "        star = stars_dict[star_name]\n",
    "        # Check if stellar_mass, stellar_radius, or stellar_luminosity data is missing\n",
    "        if star.stellar_mass is None or star.stellar_radius is None or star.stellar_luminosity is None:\n",
    "            continue  # Skip this star\n",
    "        \n",
    "        # Compute the density of the star\n",
    "        density = float(star.stellar_mass) / (float(star.stellar_radius) ** 3)\n",
    "        \n",
    "        # Skip stars with density greater than 25\n",
    "        if density > 25:\n",
    "            continue\n",
    "        \n",
    "        # Add the computed density and luminosity to the lists if conditions are met\n",
    "        densities.append(density)\n",
    "        luminosities.append(float(star.stellar_luminosity))\n",
    "\n",
    "    # Assign the lists to the corresponding keys in the dictionaries\n",
    "    density_dict_no_outliers[star_class] = densities\n",
    "    lum_dict_no_outliers[star_class] = luminosities\n",
    "\n",
    "# The filtered dictionaries are now ready for plotting\n"
   ]
  },
  {
   "cell_type": "markdown",
   "id": "e97dc5e0",
   "metadata": {
    "deletable": false,
    "editable": false
   },
   "source": [
    "Now, **plot** `density_dict_no_outliers` and `lum_dict_no_outliers` as **scatter plot** with the **x-axis** labelled *Density*, and the **y-axis** labelled *Luminosity*.\n",
    "\n",
    "Your plot should look like this:"
   ]
  },
  {
   "attachments": {
    "q8.jpg": {
     "image/jpeg": "[encoded data removed]"
    }
   },
   "cell_type": "markdown",
   "id": "6fcf9955",
   "metadata": {},
   "source": [
    "<div style=\"text-align: center;\"><img src=\"attachment:q8.jpg\" style=\"height: 400px;\"/></div>"
   ]
  },
  {
   "cell_type": "markdown",
   "id": "9fcb18ef",
   "metadata": {
    "deletable": false,
    "editable": false
   },
   "source": [
    "**Note:** If the `grader.export` cell fails to run because the file size is too large, you can delete the plot above to reduce the size of your notebook. Make sure your plot matches the plot above, before you do so."
   ]
  },
  {
   "cell_type": "code",
   "execution_count": 52,
   "id": "ca05890a",
   "metadata": {
    "execution": {
     "iopub.execute_input": "2024-04-10T02:30:01.200690Z",
     "iopub.status.busy": "2024-04-10T02:30:01.200626Z",
     "iopub.status.idle": "2024-04-10T02:30:01.298434Z",
     "shell.execute_reply": "2024-04-10T02:30:01.298190Z"
    },
    "tags": []
   },
   "outputs": [
    {
     "data": {
      "image/png": "[encoded data removed]",
      "text/plain": [
       "<Figure size 640x480 with 1 Axes>"
      ]
     },
     "metadata": {},
     "output_type": "display_data"
    }
   ],
   "source": [
    "# plot 'density_dict_no_outliers' and 'lum_dict_no_outliers'\n",
    "\n",
    "plot_scatter_multiple(density_dict_no_outliers, lum_dict_no_outliers, x_label='Density', y_label='Luminosity')\n"
   ]
  },
  {
   "cell_type": "code",
   "execution_count": 53,
   "id": "6e6e3435",
   "metadata": {
    "deletable": false,
    "editable": false
   },
   "outputs": [
    {
     "data": {
      "text/html": [
       "<p><strong><pre style='display: inline;'>q8</pre></strong> passed! 🚀</p><p><strong><pre style='display: inline;'>q8 - 2</pre> message:</strong> Note that the Gradescope autograder will deduct points if your code fails the following rubric point - 'incorrect comparison operator is used (-1)'.The public tests cannot determine if your code satisfies these requirements. Verify your code manually.</p><p><strong><pre style='display: inline;'>q8 - 3</pre> message:</strong> Note that the Gradescope autograder will deduct points if your code fails the following rubric point - '`star_classes` data structure is not used to answer (-1)'.The public tests cannot determine if your code satisfies these requirements. Verify your code manually.</p><p><strong><pre style='display: inline;'>q8 - 4</pre> message:</strong> Note that the Gradescope autograder will deduct points if your code fails the following rubric point - 'plot is incorrect (-1)'.The public tests cannot determine if your code satisfies these requirements. Verify your code manually.</p><p><strong><pre style='display: inline;'>q8 - 5</pre> message:</strong> Note that the Gradescope autograder will deduct points if your code fails the following rubric point - 'plot is not properly labeled (-1)'.The public tests cannot determine if your code satisfies these requirements. Verify your code manually.</p>"
      ],
      "text/plain": [
       "q8 results: All test cases passed!\n",
       "q8 - 2 message: Note that the Gradescope autograder will deduct points if your code fails the following rubric point - 'incorrect comparison operator is used (-1)'.The public tests cannot determine if your code satisfies these requirements. Verify your code manually.\n",
       "q8 - 3 message: Note that the Gradescope autograder will deduct points if your code fails the following rubric point - '`star_classes` data structure is not used to answer (-1)'.The public tests cannot determine if your code satisfies these requirements. Verify your code manually.\n",
       "q8 - 4 message: Note that the Gradescope autograder will deduct points if your code fails the following rubric point - 'plot is incorrect (-1)'.The public tests cannot determine if your code satisfies these requirements. Verify your code manually.\n",
       "q8 - 5 message: Note that the Gradescope autograder will deduct points if your code fails the following rubric point - 'plot is not properly labeled (-1)'.The public tests cannot determine if your code satisfies these requirements. Verify your code manually."
      ]
     },
     "execution_count": 53,
     "metadata": {},
     "output_type": "execute_result"
    }
   ],
   "source": [
    "grader.check(\"q8\")"
   ]
  },
  {
   "cell_type": "markdown",
   "id": "9ed81454",
   "metadata": {
    "deletable": false,
    "editable": false
   },
   "source": [
    "**Food for thought:** Can you guess the relationship between **density** and **luminosity**? Can you spot the `Star` objects in this graph which will end up as White Dwarfs and Neutron Stars? Do they appear to follow the same relationship as the Red Giants? How do they compare to the outliers you found in Question 7?"
   ]
  },
  {
   "cell_type": "code",
   "execution_count": 54,
   "id": "f52cd2c2",
   "metadata": {
    "execution": {
     "iopub.execute_input": "2024-04-10T02:30:01.734458Z",
     "iopub.status.busy": "2024-04-10T02:30:01.734372Z",
     "iopub.status.idle": "2024-04-10T02:30:01.735771Z",
     "shell.execute_reply": "2024-04-10T02:30:01.735545Z"
    }
   },
   "outputs": [],
   "source": [
    "# Food for thought is an entirely OPTIONAL exercise\n",
    "# you may leave your thoughts here as a comment if you wish to\n"
   ]
  },
  {
   "cell_type": "markdown",
   "id": "ee254b68",
   "metadata": {
    "deletable": false,
    "editable": false
   },
   "source": [
    "### Hertzsprung–Russell Diagram:\n",
    "\n",
    "The [Hertzsprung–Russell diagram](https://en.wikipedia.org/wiki/Hertzsprung%E2%80%93Russell_diagram) is a scatter plot of stars showing the relationship between the stars' `stellar_luminosity` versus their `stellar_effective_temperature`. The diagram is exceedingly useful for understanding the stellar evolution of stars. We will now use the data we have available to plot this diagram ourselves, so we can better understand stellar evolution.\n",
    "\n",
    "We want to plot the `stellar_effective_temperature` against the `stellar_luminosity`, but more importantly, we will use the **color** and **size** parameters to represent the `stellar_age` and `stellar_mass` of the `Star` objects as well. This will allow us to see the effects of `stellar_age` and `stellar_mass` on `stellar_effective_temperature` and `stellar_luminosity`."
   ]
  },
  {
   "cell_type": "markdown",
   "id": "14422302",
   "metadata": {
    "deletable": false,
    "editable": false
   },
   "source": [
    "**Question 9:** Create a **scatter plot** representing the `stellar_effective_temperature` (on the **x-axis**) against the `stellar_luminosity` (on the **y-axis**) of each `Star` object in `stars_dict`. Moreover, represent the `stellar_age` of each `Star` object using the **color** and represent the `stellar_mass` of each `Star` object using the **size** of the star.\n",
    "\n",
    "You **must** first compute four **lists** containing the `stellar_effective_temperature`, `stellar_luminosity`, `stellar_age` and the `stellar_mass` of each `Star` object (which has **all** the data available). You **must** ignore any `Star` object which has any of these four attributes **missing**. Then, you **must** use `plot_scatter` to plot the `stellar_effective_temperature` against the `stellar_luminosity` with the `stellar_age` as the **color** and the `stellar_mass` as the **size** of the points."
   ]
  },
  {
   "cell_type": "code",
   "execution_count": 55,
   "id": "2e3308a4",
   "metadata": {
    "execution": {
     "iopub.execute_input": "2024-04-10T02:30:01.736903Z",
     "iopub.status.busy": "2024-04-10T02:30:01.736834Z",
     "iopub.status.idle": "2024-04-10T02:30:01.740245Z",
     "shell.execute_reply": "2024-04-10T02:30:01.740055Z"
    },
    "tags": []
   },
   "outputs": [],
   "source": [
    "# first compute and store the lists 'temp_list', 'lum_list', 'age_list', and 'mass_list'\n",
    "# do NOT plot just yet\n",
    "# Initialize empty lists to store the data\n",
    "temp_list = []\n",
    "lum_list = []\n",
    "age_list = []\n",
    "mass_list = []\n",
    "\n",
    "# Iterate through each star in stars_dict\n",
    "for star in stars_dict.values():\n",
    "    if (star.stellar_mass is None or \n",
    "        star.stellar_age is None or \n",
    "        star.stellar_luminosity is None or\n",
    "        star.stellar_effective_temperature is None): \n",
    "        continue\n",
    "    \n",
    "    temp_list.append(star.stellar_effective_temperature)\n",
    "    lum_list.append(star.stellar_luminosity)\n",
    "    age_list.append(star.stellar_age)\n",
    "    mass_list.append(float(star.stellar_mass))\n"
   ]
  },
  {
   "cell_type": "markdown",
   "id": "11398b3f",
   "metadata": {
    "deletable": false,
    "editable": false
   },
   "source": [
    "Now, **plot** `temp_list` and `lum_list` as **scatter plot** with the **x-axis** labelled *Effective Temperature*, and the **y-axis** labelled *Luminosity*, **colored** using `age_list`, and **sized** using `mass_list`. Your plot should look like this:"
   ]
  },
  {
   "attachments": {
    "q9.jpg": {
     "image/jpeg": "[encoded data removed]"
    }
   },
   "cell_type": "markdown",
   "id": "5ad8e3f0",
   "metadata": {},
   "source": [
    "<div style=\"text-align: center;\"><img src=\"attachment:q9.jpg\" style=\"height: 400px;\"/></div>"
   ]
  },
  {
   "cell_type": "markdown",
   "id": "6ae58612",
   "metadata": {
    "deletable": false,
    "editable": false
   },
   "source": [
    "**Note:** If the `grader.export` cell fails to run because the file size is too large, you can delete the plot above to reduce the size of your notebook. Make sure your plot matches the plot above, before you do so."
   ]
  },
  {
   "cell_type": "code",
   "execution_count": 56,
   "id": "c961e343",
   "metadata": {
    "execution": {
     "iopub.execute_input": "2024-04-10T02:30:01.741480Z",
     "iopub.status.busy": "2024-04-10T02:30:01.741411Z",
     "iopub.status.idle": "2024-04-10T02:30:01.836343Z",
     "shell.execute_reply": "2024-04-10T02:30:01.836132Z"
    },
    "tags": []
   },
   "outputs": [
    {
     "data": {
      "image/png": "[encoded data removed]",
      "text/plain": [
       "<Figure size 640x480 with 1 Axes>"
      ]
     },
     "metadata": {},
     "output_type": "display_data"
    }
   ],
   "source": [
    "\n",
    "plot_scatter(temp_list, lum_list, x_label=\"Effective Temperature\", y_label=\"Luminosity\", c=age_list, s = mass_list)\n",
    "\n",
    "\n"
   ]
  },
  {
   "cell_type": "code",
   "execution_count": 57,
   "id": "b7faad51",
   "metadata": {
    "deletable": false,
    "editable": false
   },
   "outputs": [
    {
     "data": {
      "text/html": [
       "<p><strong><pre style='display: inline;'>q9</pre></strong> passed! 🙌</p><p><strong><pre style='display: inline;'>q9 - 2</pre> message:</strong> Note that the Gradescope autograder will deduct points if your code fails the following rubric point - 'incorrect logic is used to answer (-1)'.The public tests cannot determine if your code satisfies these requirements. Verify your code manually.</p><p><strong><pre style='display: inline;'>q9 - 3</pre> message:</strong> Note that the Gradescope autograder will deduct points if your code fails the following rubric point - '`stars_dict` data structure is not used to answer (-1)'.The public tests cannot determine if your code satisfies these requirements. Verify your code manually.</p><p><strong><pre style='display: inline;'>q9 - 4</pre> message:</strong> Note that the Gradescope autograder will deduct points if your code fails the following rubric point - 'plot is incorrect (-1)'.The public tests cannot determine if your code satisfies these requirements. Verify your code manually.</p><p><strong><pre style='display: inline;'>q9 - 5</pre> message:</strong> Note that the Gradescope autograder will deduct points if your code fails the following rubric point - 'plot is not properly labeled (-1)'.The public tests cannot determine if your code satisfies these requirements. Verify your code manually.</p>"
      ],
      "text/plain": [
       "q9 results: All test cases passed!\n",
       "q9 - 2 message: Note that the Gradescope autograder will deduct points if your code fails the following rubric point - 'incorrect logic is used to answer (-1)'.The public tests cannot determine if your code satisfies these requirements. Verify your code manually.\n",
       "q9 - 3 message: Note that the Gradescope autograder will deduct points if your code fails the following rubric point - '`stars_dict` data structure is not used to answer (-1)'.The public tests cannot determine if your code satisfies these requirements. Verify your code manually.\n",
       "q9 - 4 message: Note that the Gradescope autograder will deduct points if your code fails the following rubric point - 'plot is incorrect (-1)'.The public tests cannot determine if your code satisfies these requirements. Verify your code manually.\n",
       "q9 - 5 message: Note that the Gradescope autograder will deduct points if your code fails the following rubric point - 'plot is not properly labeled (-1)'.The public tests cannot determine if your code satisfies these requirements. Verify your code manually."
      ]
     },
     "execution_count": 57,
     "metadata": {},
     "output_type": "execute_result"
    }
   ],
   "source": [
    "grader.check(\"q9\")"
   ]
  },
  {
   "cell_type": "markdown",
   "id": "63145a7c",
   "metadata": {
    "deletable": false,
    "editable": false
   },
   "source": [
    "**Food for thought:** Can you tell if there is any relationship between the **temperature**, **luminosity**, **age**, and **mass** of the stars? You might want to remove the outliers with the extremely high `stellar_effective_temperature` to get a better view of the diagram. What effect does the **age** seem to have on the **temperature**? Recall that a **lighter** color implies that the value is higher, while a **darker** color implies that the value is lower. What effect does the **mass** have?\n",
    "\n",
    "**Food for thought:** Notice that there are **two distinct** *clusters* of points in this diagram. If you are interested, look up more information on the Hertzsprung–Russell Diagram to understand what these clusters are. "
   ]
  },
  {
   "cell_type": "code",
   "execution_count": 58,
   "id": "93eb0c3e",
   "metadata": {
    "execution": {
     "iopub.execute_input": "2024-04-10T02:30:02.288288Z",
     "iopub.status.busy": "2024-04-10T02:30:02.288217Z",
     "iopub.status.idle": "2024-04-10T02:30:02.289662Z",
     "shell.execute_reply": "2024-04-10T02:30:02.289441Z"
    }
   },
   "outputs": [],
   "source": [
    "# Food for thought is an entirely OPTIONAL exercise\n",
    "# you may leave your thoughts here as a comment if you wish to\n"
   ]
  },
  {
   "cell_type": "markdown",
   "id": "d89ec375",
   "metadata": {
    "deletable": false,
    "editable": false
   },
   "source": [
    "### Recursion:\n",
    "\n",
    "You are not done exploring the dataset, and you have more questions left to answer. However, something more important has happened! We have managed to find the data from the corrupted json file (`mapping_5.json`)!\n",
    "\n",
    "If you will recall, when we were parsing the files in P10, we found that `mapping_5.json` was **broken**, and we couldn't read it. Therefore, we had no choice but to leave all the planets in `planets_5.csv` out of our analysis. Luckily for you now, the data has shown up intact in the directory `broken_data`. Unfortunately, the data is now no longer stored in a single file, but has been **split up** into **multiple files** and stored in **different subdirectories**.\n",
    "\n",
    "You will now create a function to help parse all the data stored within this directory."
   ]
  },
  {
   "cell_type": "markdown",
   "id": "e17445cb",
   "metadata": {
    "deletable": false,
    "editable": false
   },
   "source": [
    "### Function 1:  `get_all_paths_in(directory)`\n",
    "\n",
    "You **must** write this function that takes in the **relative path** of a `directory` as its input, and returns a **list** of **relative paths** of all the **files** inside `directory` and its subdirectories.\n",
    "\n",
    "In other words, if a directory `sample_data` looks like this:\n",
    "```\n",
    "+-- sample_data\n",
    "|   +-- .DS_Store\n",
    "|   +-- file_1.json\n",
    "|   +-- sample_1\n",
    "|   |   +-- .ipynb_checkpoints\n",
    "|   |   +-- file_2.json\n",
    "|   |   +-- file_3.json\n",
    "|   +-- sample_2\n",
    "|   |   +-- file_4.json\n",
    "|   |   +-- sample_3\n",
    "|   |   |   +-- .DS_Store\n",
    "|   |   |   +-- file_5.json\n",
    "```\n",
    "\n",
    "then the output of the function call `get_all_paths_in(\"sample_data\")` **must** be a **list** containing the **relative paths** of the files `file_5.json`, `files_4.json`, `file_3.json`, `file_2.json`, and `file_1.json`.\n",
    "\n",
    "You **must** **ignore** all files that start with `\".\"`, and your output **must** be **explicitly** sorted in **reverse alphabetical** order after **splitting** by the **path separator**.\n",
    "\n",
    "**Important Warning:** You **must** write a **recursive** function here. You are **only allowed** to use the functions from the `os` module, which have been covered in lecture. Here is a list of these functions and constants (you will only need a few of these functions to define `get_all_paths_in`):\n",
    "\n",
    "* `os.mkdir`\n",
    "* `os.path.join`\n",
    "* `os.listdir`\n",
    "* `os.path.exists`\n",
    "* `os.path.isfile`\n",
    "* `os.path.isdir`\n",
    "* `os.path.sep`\n",
    "\n",
    "You may copy/paste this function from Lab-P11 if you finished writing it there."
   ]
  },
  {
   "cell_type": "code",
   "execution_count": 59,
   "id": "8517fd60",
   "metadata": {
    "execution": {
     "iopub.execute_input": "2024-04-10T02:30:02.290895Z",
     "iopub.status.busy": "2024-04-10T02:30:02.290833Z",
     "iopub.status.idle": "2024-04-10T02:30:02.292895Z",
     "shell.execute_reply": "2024-04-10T02:30:02.292664Z"
    },
    "lines_to_next_cell": 0,
    "tags": []
   },
   "outputs": [],
   "source": [
    "# define the function 'get_all_paths_in' here\n",
    "\n",
    "def get_all_paths_in(directory):\n",
    "    '''get_all_paths_in(directory) recursively \n",
    "    explores that directory for any files, \n",
    "    and returns a list of paths to \n",
    "    files inside that directory'''\n",
    "    list_of_dirs = []\n",
    "    for data in os.listdir(directory):\n",
    "        if not data.startswith(\".\"):\n",
    "            if os.path.isdir(os.path.join(directory, data)):\n",
    "                recurs = get_all_paths_in(os.path.join(directory, data))\n",
    "                list_of_dirs.extend(recurs)\n",
    "            else:\n",
    "                list_of_dirs.append(os.path.join(directory, data))\n",
    "            \n",
    "    list_of_dirs.sort(reverse = True)\n",
    "    return list_of_dirs\n",
    "    "
   ]
  },
  {
   "cell_type": "code",
   "execution_count": 60,
   "id": "3ea4835e",
   "metadata": {
    "deletable": false,
    "editable": false
   },
   "outputs": [
    {
     "data": {
      "text/html": [
       "<p><strong><pre style='display: inline;'>get_all_paths_in</pre></strong> passed! 🎉</p><p><strong><pre style='display: inline;'>get_all_paths_in - 1</pre> message:</strong> Note that the Gradescope autograder will deduct points if your code fails the following rubric point - 'hardcoding the name of directory inside the function (-1)'.The public tests cannot determine if your code satisfies these requirements. Verify your code manually.</p><p><strong><pre style='display: inline;'>get_all_paths_in - 2</pre> message:</strong> Note that the Gradescope autograder will deduct points if your code fails the following rubric point - 'function does not remove all files and directories that start with `.` (-1)'.The public tests cannot determine if your code satisfies these requirements. Verify your code manually.</p><p><strong><pre style='display: inline;'>get_all_paths_in - 3</pre> message:</strong> Note that the Gradescope autograder will deduct points if your code fails the following rubric point - 'function does not sort file names explicitly (-1)'.The public tests cannot determine if your code satisfies these requirements. Verify your code manually.</p><p><strong><pre style='display: inline;'>get_all_paths_in - 4</pre> message:</strong> Note that the Gradescope autograder will deduct points if your code fails the following rubric point - 'function logic is incorrect (-2)'.The public tests cannot determine if your code satisfies these requirements. Verify your code manually.</p><p><strong><pre style='display: inline;'>get_all_paths_in - 5</pre> message:</strong> Note that the Gradescope autograder will deduct points if your code fails the following rubric point - 'paths are hardcoded using slashes (-1)'.The public tests cannot determine if your code satisfies these requirements. Verify your code manually.</p>"
      ],
      "text/plain": [
       "get_all_paths_in results: All test cases passed!\n",
       "get_all_paths_in - 1 message: Note that the Gradescope autograder will deduct points if your code fails the following rubric point - 'hardcoding the name of directory inside the function (-1)'.The public tests cannot determine if your code satisfies these requirements. Verify your code manually.\n",
       "get_all_paths_in - 2 message: Note that the Gradescope autograder will deduct points if your code fails the following rubric point - 'function does not remove all files and directories that start with `.` (-1)'.The public tests cannot determine if your code satisfies these requirements. Verify your code manually.\n",
       "get_all_paths_in - 3 message: Note that the Gradescope autograder will deduct points if your code fails the following rubric point - 'function does not sort file names explicitly (-1)'.The public tests cannot determine if your code satisfies these requirements. Verify your code manually.\n",
       "get_all_paths_in - 4 message: Note that the Gradescope autograder will deduct points if your code fails the following rubric point - 'function logic is incorrect (-2)'.The public tests cannot determine if your code satisfies these requirements. Verify your code manually.\n",
       "get_all_paths_in - 5 message: Note that the Gradescope autograder will deduct points if your code fails the following rubric point - 'paths are hardcoded using slashes (-1)'.The public tests cannot determine if your code satisfies these requirements. Verify your code manually."
      ]
     },
     "execution_count": 60,
     "metadata": {},
     "output_type": "execute_result"
    }
   ],
   "source": [
    "grader.check(\"get_all_paths_in\")"
   ]
  },
  {
   "cell_type": "markdown",
   "id": "d97da08c",
   "metadata": {
    "deletable": false,
    "editable": false
   },
   "source": [
    "**Question 10:** What are the **paths** of the files in the `toi` directory of the `broken_data` directory?\n",
    "\n",
    "Your output **must** be a **list** of **relative paths**. You **must** answer this question by calling the `get_all_paths_in` function.\n",
    "\n",
    "**Warning:** Remember that you **must** only use `os.path.join` to create paths."
   ]
  },
  {
   "cell_type": "code",
   "execution_count": 61,
   "id": "ea5c9c38",
   "metadata": {
    "execution": {
     "iopub.execute_input": "2024-04-10T02:30:02.633724Z",
     "iopub.status.busy": "2024-04-10T02:30:02.633661Z",
     "iopub.status.idle": "2024-04-10T02:30:02.635772Z",
     "shell.execute_reply": "2024-04-10T02:30:02.635539Z"
    },
    "lines_to_next_cell": 0,
    "tags": []
   },
   "outputs": [
    {
     "data": {
      "text/plain": [
       "['broken_data/toi/tois.json']"
      ]
     },
     "execution_count": 61,
     "metadata": {},
     "output_type": "execute_result"
    }
   ],
   "source": [
    "# compute and store the answer in the variable 'broken_data_toi', then display it\n",
    "broken_data_toi = get_all_paths_in(os.path.join(\"broken_data\", \"toi\"))\n",
    "broken_data_toi"
   ]
  },
  {
   "cell_type": "code",
   "execution_count": 62,
   "id": "6b53616d",
   "metadata": {
    "deletable": false,
    "editable": false
   },
   "outputs": [
    {
     "data": {
      "text/html": [
       "<p><strong><pre style='display: inline;'>q10</pre></strong> passed! 🎉</p><p><strong><pre style='display: inline;'>q10 - 2</pre> message:</strong> Note that the Gradescope autograder will deduct points if your code fails the following rubric point - '`get_all_paths_in` function is not used to answer (-2)'.The public tests cannot determine if your code satisfies these requirements. Verify your code manually.</p><p><strong><pre style='display: inline;'>q10 - 3</pre> message:</strong> Note that the Gradescope autograder will deduct points if your code fails the following rubric point - 'paths are hardcoded using slashes (-1)'.The public tests cannot determine if your code satisfies these requirements. Verify your code manually.</p>"
      ],
      "text/plain": [
       "q10 results: All test cases passed!\n",
       "q10 - 2 message: Note that the Gradescope autograder will deduct points if your code fails the following rubric point - '`get_all_paths_in` function is not used to answer (-2)'.The public tests cannot determine if your code satisfies these requirements. Verify your code manually.\n",
       "q10 - 3 message: Note that the Gradescope autograder will deduct points if your code fails the following rubric point - 'paths are hardcoded using slashes (-1)'.The public tests cannot determine if your code satisfies these requirements. Verify your code manually."
      ]
     },
     "execution_count": 62,
     "metadata": {},
     "output_type": "execute_result"
    }
   ],
   "source": [
    "grader.check(\"q10\")"
   ]
  },
  {
   "cell_type": "markdown",
   "id": "d0178bbe",
   "metadata": {
    "deletable": false,
    "editable": false
   },
   "source": [
    "**Question 11:** What are the **paths** of the files in the `100` directory of the `kepler` directory of the `broken_data` directory?\n",
    "\n",
    "Your output **must** be a **list** of **relative paths**. You **must** answer this question by calling the `get_all_paths_in` function.\n",
    "\n",
    "**Hint:** You can pass multiple **strings** as arguments to `os.path.join` to join them together at the same time. For example, to get the path of the required directory here, you could say\n",
    "```python\n",
    "os.path.join(\"broken_data\", \"kepler\", \"100\")\n",
    "```"
   ]
  },
  {
   "cell_type": "code",
   "execution_count": 63,
   "id": "428924ec",
   "metadata": {
    "execution": {
     "iopub.execute_input": "2024-04-10T02:30:02.803786Z",
     "iopub.status.busy": "2024-04-10T02:30:02.803713Z",
     "iopub.status.idle": "2024-04-10T02:30:02.806085Z",
     "shell.execute_reply": "2024-04-10T02:30:02.805869Z"
    },
    "lines_to_next_cell": 0,
    "tags": []
   },
   "outputs": [
    {
     "data": {
      "text/plain": [
       "['broken_data/kepler/100/other/others.json',\n",
       " 'broken_data/kepler/100/200/others.json',\n",
       " 'broken_data/kepler/100/200/290/290s.json',\n",
       " 'broken_data/kepler/100/200/220s.json',\n",
       " 'broken_data/kepler/100/100/others.json',\n",
       " 'broken_data/kepler/100/100/100s.json']"
      ]
     },
     "execution_count": 63,
     "metadata": {},
     "output_type": "execute_result"
    }
   ],
   "source": [
    "# compute and store the answer in the variable 'broken_data_keplers_100s', then display it\n",
    "broken_data_keplers_100s = get_all_paths_in(os.path.join(\"broken_data\", \"kepler\", \"100\"))\n",
    "broken_data_keplers_100s"
   ]
  },
  {
   "cell_type": "code",
   "execution_count": 64,
   "id": "98d894c0",
   "metadata": {
    "deletable": false,
    "editable": false
   },
   "outputs": [
    {
     "data": {
      "text/html": [
       "<p><strong><pre style='display: inline;'>q11</pre></strong> passed! 🎉</p><p><strong><pre style='display: inline;'>q11 - 2</pre> message:</strong> Note that the Gradescope autograder will deduct points if your code fails the following rubric point - '`get_all_paths_in` function is not used to answer (-2)'.The public tests cannot determine if your code satisfies these requirements. Verify your code manually.</p><p><strong><pre style='display: inline;'>q11 - 3</pre> message:</strong> Note that the Gradescope autograder will deduct points if your code fails the following rubric point - 'paths are hardcoded using slashes (-1)'.The public tests cannot determine if your code satisfies these requirements. Verify your code manually.</p>"
      ],
      "text/plain": [
       "q11 results: All test cases passed!\n",
       "q11 - 2 message: Note that the Gradescope autograder will deduct points if your code fails the following rubric point - '`get_all_paths_in` function is not used to answer (-2)'.The public tests cannot determine if your code satisfies these requirements. Verify your code manually.\n",
       "q11 - 3 message: Note that the Gradescope autograder will deduct points if your code fails the following rubric point - 'paths are hardcoded using slashes (-1)'.The public tests cannot determine if your code satisfies these requirements. Verify your code manually."
      ]
     },
     "execution_count": 64,
     "metadata": {},
     "output_type": "execute_result"
    }
   ],
   "source": [
    "grader.check(\"q11\")"
   ]
  },
  {
   "cell_type": "markdown",
   "id": "93d6609a",
   "metadata": {
    "deletable": false,
    "editable": false
   },
   "source": [
    "**Question 12:** What are the **paths** of the files in the `other` directory of the `100` directory of the `kepler` directory of the `broken_data` directory?\n",
    "\n",
    "Your output **must** be a **list** of **relative paths**. You **must** answer this question by calling the `get_all_paths_in` function."
   ]
  },
  {
   "cell_type": "code",
   "execution_count": 65,
   "id": "48766e8d",
   "metadata": {
    "execution": {
     "iopub.execute_input": "2024-04-10T02:30:02.945334Z",
     "iopub.status.busy": "2024-04-10T02:30:02.945267Z",
     "iopub.status.idle": "2024-04-10T02:30:02.947308Z",
     "shell.execute_reply": "2024-04-10T02:30:02.947087Z"
    },
    "lines_to_next_cell": 0,
    "tags": []
   },
   "outputs": [
    {
     "data": {
      "text/plain": [
       "['broken_data/kepler/100/other/others.json']"
      ]
     },
     "execution_count": 65,
     "metadata": {},
     "output_type": "execute_result"
    }
   ],
   "source": [
    "# compute and store the answer in the variable 'broken_data_kepler_100_others', then display it\n",
    "broken_data_kepler_100_others = get_all_paths_in(os.path.join(\"broken_data\", \"kepler\", \"100\", \"other\"))\n",
    "broken_data_kepler_100_others"
   ]
  },
  {
   "cell_type": "code",
   "execution_count": 66,
   "id": "e6ffeb2c",
   "metadata": {
    "deletable": false,
    "editable": false
   },
   "outputs": [
    {
     "data": {
      "text/html": [
       "<p><strong><pre style='display: inline;'>q12</pre></strong> passed! 💯</p><p><strong><pre style='display: inline;'>q12 - 2</pre> message:</strong> Note that the Gradescope autograder will deduct points if your code fails the following rubric point - '`get_all_paths_in` function is not used to answer (-2)'.The public tests cannot determine if your code satisfies these requirements. Verify your code manually.</p><p><strong><pre style='display: inline;'>q12 - 3</pre> message:</strong> Note that the Gradescope autograder will deduct points if your code fails the following rubric point - 'paths are hardcoded using slashes (-1)'.The public tests cannot determine if your code satisfies these requirements. Verify your code manually.</p>"
      ],
      "text/plain": [
       "q12 results: All test cases passed!\n",
       "q12 - 2 message: Note that the Gradescope autograder will deduct points if your code fails the following rubric point - '`get_all_paths_in` function is not used to answer (-2)'.The public tests cannot determine if your code satisfies these requirements. Verify your code manually.\n",
       "q12 - 3 message: Note that the Gradescope autograder will deduct points if your code fails the following rubric point - 'paths are hardcoded using slashes (-1)'.The public tests cannot determine if your code satisfies these requirements. Verify your code manually."
      ]
     },
     "execution_count": 66,
     "metadata": {},
     "output_type": "execute_result"
    }
   ],
   "source": [
    "grader.check(\"q12\")"
   ]
  },
  {
   "cell_type": "markdown",
   "id": "8ab5d4cd",
   "metadata": {
    "deletable": false,
    "editable": false
   },
   "source": [
    "**Question 13:** What are the **paths** of the files in the `broken_data` directory?\n",
    "\n",
    "Your output **must** be a **list** of **relative paths**. You **must** answer this question by calling the `get_all_paths_in` function."
   ]
  },
  {
   "cell_type": "code",
   "execution_count": 67,
   "id": "55620533",
   "metadata": {
    "execution": {
     "iopub.execute_input": "2024-04-10T02:30:03.086826Z",
     "iopub.status.busy": "2024-04-10T02:30:03.086761Z",
     "iopub.status.idle": "2024-04-10T02:30:03.089356Z",
     "shell.execute_reply": "2024-04-10T02:30:03.089130Z"
    },
    "lines_to_next_cell": 0,
    "tags": []
   },
   "outputs": [
    {
     "data": {
      "text/plain": [
       "['broken_data/toi/tois.json',\n",
       " 'broken_data/others.json',\n",
       " 'broken_data/kepler/other/others.json',\n",
       " 'broken_data/kepler/100/other/others.json',\n",
       " 'broken_data/kepler/100/200/others.json',\n",
       " 'broken_data/kepler/100/200/290/290s.json',\n",
       " 'broken_data/kepler/100/200/220s.json',\n",
       " 'broken_data/kepler/100/100/others.json',\n",
       " 'broken_data/kepler/100/100/100s.json',\n",
       " 'broken_data/kepler/10/others.json',\n",
       " 'broken_data/kepler/10/80s.json',\n",
       " 'broken_data/kepler/10/30/30s.json',\n",
       " 'broken_data/kepler/10/20s.json',\n",
       " 'broken_data/k2s.json',\n",
       " 'broken_data/hd/other/others.json',\n",
       " 'broken_data/hd/10000/10000s.json',\n",
       " 'broken_data/gj/gjs.json']"
      ]
     },
     "execution_count": 67,
     "metadata": {},
     "output_type": "execute_result"
    }
   ],
   "source": [
    "# compute and store the answer in the variable 'broken_data', then display it\n",
    "broken_data = get_all_paths_in(\"broken_data\")\n",
    "broken_data = sorted(broken_data, key=lambda x: x.split(os.path.sep), reverse=True)\n",
    "broken_data"
   ]
  },
  {
   "cell_type": "code",
   "execution_count": 68,
   "id": "6ef84f88",
   "metadata": {
    "deletable": false,
    "editable": false
   },
   "outputs": [
    {
     "data": {
      "text/html": [
       "<p><strong><pre style='display: inline;'>q13</pre></strong> passed! 💯</p><p><strong><pre style='display: inline;'>q13 - 2</pre> message:</strong> Note that the Gradescope autograder will deduct points if your code fails the following rubric point - '`get_all_paths_in` function is not used to answer (-2)'.The public tests cannot determine if your code satisfies these requirements. Verify your code manually.</p>"
      ],
      "text/plain": [
       "q13 results: All test cases passed!\n",
       "q13 - 2 message: Note that the Gradescope autograder will deduct points if your code fails the following rubric point - '`get_all_paths_in` function is not used to answer (-2)'.The public tests cannot determine if your code satisfies these requirements. Verify your code manually."
      ]
     },
     "execution_count": 68,
     "metadata": {},
     "output_type": "execute_result"
    }
   ],
   "source": [
    "grader.check(\"q13\")"
   ]
  },
  {
   "cell_type": "markdown",
   "id": "dec94018",
   "metadata": {
    "deletable": false,
    "editable": false
   },
   "source": [
    "### Data Structure 2: `all_planets_list`\n",
    "\n",
    "We want to read the data that is stored inside the directory `broken_data`. We already have a function `get_planets` (from P10) which can read a CSV file and a JSON file and combine them to create a **list** of `Planet` objects. So, we can repeatedly call `get_planets` on the CSV file `planets_5.csv` and each of the JSON files inside `broken_data` to get a **list** of `Planet` objects of **all** the planets in `planets_5.csv`.\n",
    "\n",
    "You **must** **create** the **list** `all_planets_list` by adding in all `Planet` objects from `planets_list`, and then also adding in the `Planet` objects in `planets_5.csv` and the directory `broken_data`.\n",
    "\n",
    "**Hint:** You should loop through every file in the list `broken_data`, and use `get_planets` on `planets_5.csv` (inside the `data` directory), and this file (from the loop) to create a list of `Planet` objects, and then **extend** `all_planets_list` by the list of new `Planet` objects.\n",
    "\n",
    "**Warning:** Do **not** update the value of the **list** `planets_list` when you do this. Otherwise, your answers to some of the previous questions will become incorrect. Instead, make sure that the new `Planet` objects are only added to `all_planets_list` and **not** to `planets_list`."
   ]
  },
  {
   "cell_type": "code",
   "execution_count": 69,
   "id": "543a9fc0",
   "metadata": {
    "execution": {
     "iopub.execute_input": "2024-04-10T02:30:03.228068Z",
     "iopub.status.busy": "2024-04-10T02:30:03.228000Z",
     "iopub.status.idle": "2024-04-10T02:30:03.243494Z",
     "shell.execute_reply": "2024-04-10T02:30:03.243295Z"
    },
    "tags": []
   },
   "outputs": [],
   "source": [
    "all_planets_list = planets_list[:]\n",
    "\n",
    "# Path to the CSV file which will be used with every JSON file\n",
    "planets_5_csv_path = os.path.join(\"data\", \"planets_5.csv\")\n",
    "\n",
    "# Process each JSON file in broken_data\n",
    "for json_path in broken_data:\n",
    "    # Assuming get_planets is a function that reads and combines data from a CSV and a JSON file\n",
    "    new_planets = get_planets(planets_5_csv_path, json_path)\n",
    "    all_planets_list.extend(new_planets)\n",
    "\n"
   ]
  },
  {
   "cell_type": "code",
   "execution_count": 70,
   "id": "6e06bc1b",
   "metadata": {
    "deletable": false,
    "editable": false
   },
   "outputs": [
    {
     "data": {
      "text/html": [
       "<p><strong><pre style='display: inline;'>all_planets_list</pre></strong> passed! 🎉</p><p><strong><pre style='display: inline;'>all_planets_list - 1</pre> message:</strong> Note that the Gradescope autograder will deduct points if your code fails the following rubric point - 'data structure is defined incorrectly (-1)'.The public tests cannot determine if your code satisfies these requirements. Verify your code manually.</p><p><strong><pre style='display: inline;'>all_planets_list - 2</pre> message:</strong> Note that the Gradescope autograder will deduct points if your code fails the following rubric point - '`get_planets` function is not used to answer (-1)'.The public tests cannot determine if your code satisfies these requirements. Verify your code manually.</p><p><strong><pre style='display: inline;'>all_planets_list - 3</pre> message:</strong> Note that the Gradescope autograder will deduct points if your code fails the following rubric point - '`broken_data` data structure is not used to answer (-1)'.The public tests cannot determine if your code satisfies these requirements. Verify your code manually.</p><p><strong><pre style='display: inline;'>all_planets_list - 4</pre> message:</strong> Note that the Gradescope autograder will deduct points if your code fails the following rubric point - 'paths are hardcoded using slashes (-1)'.The public tests cannot determine if your code satisfies these requirements. Verify your code manually.</p><p><strong><pre style='display: inline;'>all_planets_list - 5</pre> message:</strong> Note that the Gradescope autograder will deduct points if your code fails the following rubric point - '`planets_list` data structure is modified or redefined (-1)'.The public tests cannot determine if your code satisfies these requirements. Verify your code manually.</p>"
      ],
      "text/plain": [
       "all_planets_list results: All test cases passed!\n",
       "all_planets_list - 1 message: Note that the Gradescope autograder will deduct points if your code fails the following rubric point - 'data structure is defined incorrectly (-1)'.The public tests cannot determine if your code satisfies these requirements. Verify your code manually.\n",
       "all_planets_list - 2 message: Note that the Gradescope autograder will deduct points if your code fails the following rubric point - '`get_planets` function is not used to answer (-1)'.The public tests cannot determine if your code satisfies these requirements. Verify your code manually.\n",
       "all_planets_list - 3 message: Note that the Gradescope autograder will deduct points if your code fails the following rubric point - '`broken_data` data structure is not used to answer (-1)'.The public tests cannot determine if your code satisfies these requirements. Verify your code manually.\n",
       "all_planets_list - 4 message: Note that the Gradescope autograder will deduct points if your code fails the following rubric point - 'paths are hardcoded using slashes (-1)'.The public tests cannot determine if your code satisfies these requirements. Verify your code manually.\n",
       "all_planets_list - 5 message: Note that the Gradescope autograder will deduct points if your code fails the following rubric point - '`planets_list` data structure is modified or redefined (-1)'.The public tests cannot determine if your code satisfies these requirements. Verify your code manually."
      ]
     },
     "execution_count": 70,
     "metadata": {},
     "output_type": "execute_result"
    }
   ],
   "source": [
    "grader.check(\"all_planets_list\")"
   ]
  },
  {
   "cell_type": "markdown",
   "id": "2ffb7227",
   "metadata": {
    "deletable": false,
    "editable": false
   },
   "source": [
    "You can verify that you have not made any mistakes by confirming that `all_planets_list` now has *5592* `Planet` objects in it."
   ]
  },
  {
   "cell_type": "markdown",
   "id": "62cc8fec",
   "metadata": {
    "deletable": false,
    "editable": false
   },
   "source": [
    "### Exploring habitability of exoplanets:\n",
    "\n",
    "Now that we have gathered the data on all the `Planet` objects, we are ready to have some fun with this dataset. Over the course of the rest of this project, we will try to find out if there are any planets in our dataset which could potentially support human habitation. Naturally, using the available data, we cannot say with any certainty that any particular planet is habitable, but we *can* say with some confidence when a planet is **not** habitable (notwithstanding major technological gains). That is exactly what we will do now."
   ]
  },
  {
   "cell_type": "markdown",
   "id": "af0f11f3",
   "metadata": {
    "deletable": false,
    "editable": false
   },
   "source": [
    "#### Surface Gravitational Force:\n",
    "\n",
    "It seems reasonable to expect that for humans to be able to survive on a planet, the gravitational force of the planet on its surface is not too different from that of the Earth.\n",
    "\n",
    "We note that the `planet_mass` and `planet_radius` attributes of the `Planet` objects stores these values in units of the mass of the Earth, and the radius of the Earth respectively. So, the **ratio** of the gravitational force experienced on the surface of a given planet to the force experienced on the surface of the Earth can be computed as:\n",
    "\n",
    "$$\\frac{g_{\\texttt{planet}}}{g_{\\texttt{earth}}} = \\frac{\\texttt{planet mass}}{\\texttt{planet radius}^{2}}$$\n",
    "\n",
    "So, a **ratio** greater than 1 would imply that a person on the planet's surface would experience a greater force due to gravity than on Earth, while a value lower than 1 would imply that a person on the planet's surface would experience a lesser force due to gravity than on Earth."
   ]
  },
  {
   "cell_type": "markdown",
   "id": "8668b7af",
   "metadata": {
    "deletable": false,
    "editable": false
   },
   "source": [
    "### Function 2: `get_surface_gravity(planet)`\n",
    "\n",
    "You **must** define this function which takes in a `Planet` object as its input, and then **returns** the **ratio** of the gravitational force experienced on the surface of a given planet to the force experienced on the surface of the Earth. If either the `planet_mass` or `planet_radius` data is **missing**, then your function **must** return `None`."
   ]
  },
  {
   "cell_type": "code",
   "execution_count": 71,
   "id": "842264ba",
   "metadata": {
    "execution": {
     "iopub.execute_input": "2024-04-10T02:30:03.619543Z",
     "iopub.status.busy": "2024-04-10T02:30:03.619477Z",
     "iopub.status.idle": "2024-04-10T02:30:03.621260Z",
     "shell.execute_reply": "2024-04-10T02:30:03.621034Z"
    },
    "tags": []
   },
   "outputs": [],
   "source": [
    "def get_surface_gravity(planet):\n",
    "    # Gravitational constant in SI units: G = 6.67430 x 10^-11 m^3 kg^-1 s^-2\n",
    "    # Earth's gravitational acceleration (m/s^2): g_earth = 9.807 m/s^2\n",
    "    # Assuming we have the mass in Earth masses and radius in Earth radii,\n",
    "    # and wanting to return the gravity in terms of Earth gravities:\n",
    "    if planet.planet_mass is not None and planet.planet_radius is not None:\n",
    "        # The gravity formula g = G * M / R^2 gets normalized as follows:\n",
    "        # g_planet / g_earth = (M_planet / M_earth) / (R_planet / R_earth)^2\n",
    "        # where M_earth = 1 Earth mass and R_earth = 1 Earth radius for any input units.\n",
    "        return (planet.planet_mass) / (planet.planet_radius ** 2)\n",
    "    else:\n",
    "        return None\n"
   ]
  },
  {
   "cell_type": "code",
   "execution_count": 72,
   "id": "28f15a5d",
   "metadata": {
    "deletable": false,
    "editable": false
   },
   "outputs": [
    {
     "data": {
      "text/html": [
       "<p><strong><pre style='display: inline;'>get_surface_gravity</pre></strong> passed! 🍀</p><p><strong><pre style='display: inline;'>get_surface_gravity - 1</pre> message:</strong> Note that the Gradescope autograder will deduct points if your code fails the following rubric point - 'function did not return `None` for missing data (-1)'.The public tests cannot determine if your code satisfies these requirements. Verify your code manually.</p><p><strong><pre style='display: inline;'>get_surface_gravity - 2</pre> message:</strong> Note that the Gradescope autograder will deduct points if your code fails the following rubric point - 'function logic is incorrect (-2)'.The public tests cannot determine if your code satisfies these requirements. Verify your code manually.</p>"
      ],
      "text/plain": [
       "get_surface_gravity results: All test cases passed!\n",
       "get_surface_gravity - 1 message: Note that the Gradescope autograder will deduct points if your code fails the following rubric point - 'function did not return `None` for missing data (-1)'.The public tests cannot determine if your code satisfies these requirements. Verify your code manually.\n",
       "get_surface_gravity - 2 message: Note that the Gradescope autograder will deduct points if your code fails the following rubric point - 'function logic is incorrect (-2)'.The public tests cannot determine if your code satisfies these requirements. Verify your code manually."
      ]
     },
     "execution_count": 72,
     "metadata": {},
     "output_type": "execute_result"
    }
   ],
   "source": [
    "grader.check(\"get_surface_gravity\")"
   ]
  },
  {
   "cell_type": "markdown",
   "id": "33821dab",
   "metadata": {
    "deletable": false,
    "editable": false
   },
   "source": [
    "**Question 14:** What is the **ratio** of gravitational force experienced on the surface of the planet *GJ 674 b* to the gravitational force experienced on the surface of the Earth?\n",
    "\n",
    "You will have to first loop through `all_planets_list` to identify the correct `Planet` object. Remember to `break` out of your loop after you identify the correct `Planet` object."
   ]
  },
  {
   "cell_type": "code",
   "execution_count": 73,
   "id": "2bee6aae",
   "metadata": {
    "execution": {
     "iopub.execute_input": "2024-04-10T02:30:03.757512Z",
     "iopub.status.busy": "2024-04-10T02:30:03.757443Z",
     "iopub.status.idle": "2024-04-10T02:30:03.759500Z",
     "shell.execute_reply": "2024-04-10T02:30:03.759269Z"
    },
    "tags": []
   },
   "outputs": [
    {
     "data": {
      "text/plain": [
       "1.0000991982973964"
      ]
     },
     "execution_count": 73,
     "metadata": {},
     "output_type": "execute_result"
    }
   ],
   "source": [
    "# Assuming all_planets_list is a list of Planet namedtuples\n",
    "# and get_surface_gravity is already defined\n",
    "\n",
    "# Initialize the variable to store the gravity ratio\n",
    "gj_674_b_gravity = None\n",
    "\n",
    "# Loop through the list of planets\n",
    "for planet in all_planets_list:\n",
    "    if planet.planet_name == \"GJ 674 b\":\n",
    "        # Use the get_surface_gravity function to calculate the gravity ratio\n",
    "        gj_674_b_gravity = get_surface_gravity(planet)\n",
    "        break  # Exit the loop once the planet is found\n",
    "\n",
    "# Display the computed gravitational force ratio\n",
    "gj_674_b_gravity\n"
   ]
  },
  {
   "cell_type": "code",
   "execution_count": 74,
   "id": "11e4d9b0",
   "metadata": {
    "deletable": false,
    "editable": false
   },
   "outputs": [
    {
     "data": {
      "text/html": [
       "<p><strong><pre style='display: inline;'>q14</pre></strong> passed! ✨</p><p><strong><pre style='display: inline;'>q14 - 2</pre> message:</strong> Note that the Gradescope autograder will deduct points if your code fails the following rubric point - '`get_surface_gravity` function is not used to answer (-1)'.The public tests cannot determine if your code satisfies these requirements. Verify your code manually.</p><p><strong><pre style='display: inline;'>q14 - 3</pre> message:</strong> Note that the Gradescope autograder will deduct points if your code fails the following rubric point - '`all_planets_list` data structure is not used to answer (-1)'.The public tests cannot determine if your code satisfies these requirements. Verify your code manually.</p><p><strong><pre style='display: inline;'>q14 - 4</pre> message:</strong> Note that the Gradescope autograder will deduct points if your code fails the following rubric point - 'did not exit loop and instead iterated further after finding the answer (-1)'.The public tests cannot determine if your code satisfies these requirements. Verify your code manually.</p>"
      ],
      "text/plain": [
       "q14 results: All test cases passed!\n",
       "q14 - 2 message: Note that the Gradescope autograder will deduct points if your code fails the following rubric point - '`get_surface_gravity` function is not used to answer (-1)'.The public tests cannot determine if your code satisfies these requirements. Verify your code manually.\n",
       "q14 - 3 message: Note that the Gradescope autograder will deduct points if your code fails the following rubric point - '`all_planets_list` data structure is not used to answer (-1)'.The public tests cannot determine if your code satisfies these requirements. Verify your code manually.\n",
       "q14 - 4 message: Note that the Gradescope autograder will deduct points if your code fails the following rubric point - 'did not exit loop and instead iterated further after finding the answer (-1)'.The public tests cannot determine if your code satisfies these requirements. Verify your code manually."
      ]
     },
     "execution_count": 74,
     "metadata": {},
     "output_type": "execute_result"
    }
   ],
   "source": [
    "grader.check(\"q14\")"
   ]
  },
  {
   "cell_type": "markdown",
   "id": "6df16c13",
   "metadata": {
    "deletable": false,
    "editable": false
   },
   "source": [
    "#### Distance to the star:\n",
    "\n",
    "Planets follow **elliptical** orbits around their host star. The `eccentricity` of a planet's orbit is a number that measures *how* elliptical the orbit is. An eccentricity of *0* would imply that the orbit is in fact perfectly circular, while an eccentricity close to *1* would imply that the orbit is very skewed and elliptical. As you may expect, if a planet has a highly eccentric orbit, its distance to its host star would vary wildly, leading to a highly variable climate. To determine if a planet could support human habitation, it is therefore important to know the closest and shortest distances between the planet and its host star.\n",
    "\n",
    "We can compute these quantities using the attributes `eccentricity` and `semi_major_radius` of each `Planet` object. These distances can be computed as:\n",
    "\n",
    "$$\\texttt{shortest distance} = \\texttt{semi major radius} \\times (1 - \\texttt{abs}(\\texttt{eccentricity}))$$\n",
    "\n",
    "$$\\texttt{longest distance} = \\texttt{semi major radius} \\times (1 + \\texttt{abs}(\\texttt{eccentricity}))$$"
   ]
  },
  {
   "cell_type": "markdown",
   "id": "c21fa7d8",
   "metadata": {
    "deletable": false,
    "editable": false
   },
   "source": [
    "### Function 3: `get_distances_to_star(planet)`\n",
    "\n",
    "You **must** define this function which takes in a `Planet` object as its input, and then **returns** a **list** of two **floats**. The first float should be the **shortest distance** of the `Planet` object to its host star, and the second float should be the **longest distance** to its host star. If either the `eccentricity` or `semi_major_radius` data of the `Planet` is missing, then the function **must** return `None`."
   ]
  },
  {
   "cell_type": "code",
   "execution_count": 75,
   "id": "c35f568e",
   "metadata": {
    "execution": {
     "iopub.execute_input": "2024-04-10T02:30:03.966535Z",
     "iopub.status.busy": "2024-04-10T02:30:03.966472Z",
     "iopub.status.idle": "2024-04-10T02:30:03.968281Z",
     "shell.execute_reply": "2024-04-10T02:30:03.968034Z"
    },
    "tags": []
   },
   "outputs": [],
   "source": [
    "def get_distances_to_star(planet):\n",
    "    # Check if the necessary orbital data is available\n",
    "    if planet.semi_major_radius is None or planet.eccentricity is None:\n",
    "        return None\n",
    "\n",
    "    # Calculate the shortest distance (perihelion)\n",
    "    shortest_distance = planet.semi_major_radius * (1 - abs(planet.eccentricity))\n",
    "\n",
    "    # Calculate the longest distance (aphelion)\n",
    "    longest_distance = planet.semi_major_radius * (1 + abs(planet.eccentricity))\n",
    "\n",
    "    # Return the distances as a list of two floats\n",
    "    return [shortest_distance, longest_distance]\n"
   ]
  },
  {
   "cell_type": "code",
   "execution_count": 76,
   "id": "4b89c9f0",
   "metadata": {
    "deletable": false,
    "editable": false
   },
   "outputs": [
    {
     "data": {
      "text/html": [
       "<p><strong><pre style='display: inline;'>get_distances_to_star</pre></strong> passed! 🌟</p><p><strong><pre style='display: inline;'>get_distances_to_star - 1</pre> message:</strong> Note that the Gradescope autograder will deduct points if your code fails the following rubric point - 'function did not return `None` for missing data (-1)'.The public tests cannot determine if your code satisfies these requirements. Verify your code manually.</p><p><strong><pre style='display: inline;'>get_distances_to_star - 2</pre> message:</strong> Note that the Gradescope autograder will deduct points if your code fails the following rubric point - 'function logic is incorrect (-2)'.The public tests cannot determine if your code satisfies these requirements. Verify your code manually.</p>"
      ],
      "text/plain": [
       "get_distances_to_star results: All test cases passed!\n",
       "get_distances_to_star - 1 message: Note that the Gradescope autograder will deduct points if your code fails the following rubric point - 'function did not return `None` for missing data (-1)'.The public tests cannot determine if your code satisfies these requirements. Verify your code manually.\n",
       "get_distances_to_star - 2 message: Note that the Gradescope autograder will deduct points if your code fails the following rubric point - 'function logic is incorrect (-2)'.The public tests cannot determine if your code satisfies these requirements. Verify your code manually."
      ]
     },
     "execution_count": 76,
     "metadata": {},
     "output_type": "execute_result"
    }
   ],
   "source": [
    "grader.check(\"get_distances_to_star\")"
   ]
  },
  {
   "cell_type": "markdown",
   "id": "9d6d7a06",
   "metadata": {
    "deletable": false,
    "editable": false
   },
   "source": [
    "**Question 15:** Find the **shortest** and **longest** distances for the planet *b Cen AB b* to its host star.\n",
    "\n",
    "Your output **must** be a **list** of two **floats** representing the **shortest** and **longest** distances to its host star. Remember to `break` out of your loop after you identify the correct `Planet` object."
   ]
  },
  {
   "cell_type": "code",
   "execution_count": 77,
   "id": "866d7351",
   "metadata": {
    "execution": {
     "iopub.execute_input": "2024-04-10T02:30:04.103562Z",
     "iopub.status.busy": "2024-04-10T02:30:04.103499Z",
     "iopub.status.idle": "2024-04-10T02:30:04.105750Z",
     "shell.execute_reply": "2024-04-10T02:30:04.105527Z"
    },
    "tags": []
   },
   "outputs": [
    {
     "data": {
      "text/plain": [
       "[333.59999999999997, 778.4]"
      ]
     },
     "execution_count": 77,
     "metadata": {},
     "output_type": "execute_result"
    }
   ],
   "source": [
    "# compute and store the answer in the variable 'distances_to_star_b_cen_ab_b', then display it\n",
    "# Assuming all_planets_list is a list of Planet namedtuples\n",
    "# and get_distances_to_star is already defined\n",
    "\n",
    "# Initialize the variable to store the distances\n",
    "distances_to_star_b_cen_ab_b = None\n",
    "\n",
    "# Loop through the list of planets\n",
    "for planet in all_planets_list:\n",
    "    if planet.planet_name == \"b Cen AB b\":\n",
    "        # Calculate the shortest and longest distances using the function\n",
    "        distances_to_star_b_cen_ab_b = get_distances_to_star(planet)\n",
    "        break  # Exit the loop once the planet is found\n",
    "\n",
    "# Display the computed distances\n",
    "distances_to_star_b_cen_ab_b\n"
   ]
  },
  {
   "cell_type": "code",
   "execution_count": 78,
   "id": "a7c8af14",
   "metadata": {
    "deletable": false,
    "editable": false
   },
   "outputs": [
    {
     "data": {
      "text/html": [
       "<p><strong><pre style='display: inline;'>q15</pre></strong> passed! 🚀</p><p><strong><pre style='display: inline;'>q15 - 2</pre> message:</strong> Note that the Gradescope autograder will deduct points if your code fails the following rubric point - '`get_distances_to_star` function is not used to answer (-1)'.The public tests cannot determine if your code satisfies these requirements. Verify your code manually.</p><p><strong><pre style='display: inline;'>q15 - 3</pre> message:</strong> Note that the Gradescope autograder will deduct points if your code fails the following rubric point - '`all_planets_list` data structure is not used to answer (-1)'.The public tests cannot determine if your code satisfies these requirements. Verify your code manually.</p><p><strong><pre style='display: inline;'>q15 - 4</pre> message:</strong> Note that the Gradescope autograder will deduct points if your code fails the following rubric point - 'did not exit loop and instead iterated further after finding the answer (-1)'.The public tests cannot determine if your code satisfies these requirements. Verify your code manually.</p>"
      ],
      "text/plain": [
       "q15 results: All test cases passed!\n",
       "q15 - 2 message: Note that the Gradescope autograder will deduct points if your code fails the following rubric point - '`get_distances_to_star` function is not used to answer (-1)'.The public tests cannot determine if your code satisfies these requirements. Verify your code manually.\n",
       "q15 - 3 message: Note that the Gradescope autograder will deduct points if your code fails the following rubric point - '`all_planets_list` data structure is not used to answer (-1)'.The public tests cannot determine if your code satisfies these requirements. Verify your code manually.\n",
       "q15 - 4 message: Note that the Gradescope autograder will deduct points if your code fails the following rubric point - 'did not exit loop and instead iterated further after finding the answer (-1)'.The public tests cannot determine if your code satisfies these requirements. Verify your code manually."
      ]
     },
     "execution_count": 78,
     "metadata": {},
     "output_type": "execute_result"
    }
   ],
   "source": [
    "grader.check(\"q15\")"
   ]
  },
  {
   "cell_type": "markdown",
   "id": "ddf486a5",
   "metadata": {
    "deletable": false,
    "editable": false
   },
   "source": [
    "# Presence of Liquid Water :\n",
    "\n",
    "It is safe to say that planets which cannot sustain liquid are inhabitable. While we do not have any data on whether the `Planet` objects in our dataset have naturally occurring water, we are able to determine whether the planet can *support* liquid water based on its distance to its host star, and the luminosity of this star. \n",
    "\n",
    "Astronomers have [computed](https://pubmed.ncbi.nlm.nih.gov/11536936/) that for Earth-like planets, there is a certain range of distances that a planet can have to its host star, which depends on the `luminosity` of the star, within which, water on the planet's surface can stay in liquid form. These distances are as follows:\n",
    "\n",
    "$$\\texttt{liquid water shortest dist} = \\sqrt{\\frac{\\texttt{absolute luminosity}}{1.15}}$$\n",
    "\n",
    "$$\\texttt{liquid water longest dist} = \\sqrt{\\frac{\\texttt{absolute luminosity}}{0.53}}$$\n",
    "\n",
    "In our dataset, the `stellar_luminosity` is stored in units of the logarithm of the absolute luminosity. So, the distances can be computed from our dataset as follows:\n",
    "\n",
    "$$\\texttt{liquid water shortest dist} = \\sqrt{\\frac{10^{\\texttt{stellar luminosity}}}{1.15}}$$\n",
    "\n",
    "$$\\texttt{liquid water longest dist} = \\sqrt{\\frac{10^{\\texttt{stellar luminosity}}}{0.53}}$$"
   ]
  },
  {
   "cell_type": "markdown",
   "id": "7e9bdd17",
   "metadata": {
    "deletable": false,
    "editable": false
   },
   "source": [
    "### Function 4: `get_liquid_water_distances(planet)`\n",
    "\n",
    "You **must** define this function which takes in a `Planet` object as its input, and then **returns** a **list** of two **floats**. The first float should be the **shortest distance** the `Planet` object can be to its host star while being able to support liquid water, and the second float should be the **longest distance** it can be to its host star while being able to support liquid water. If the `stellar_luminosity` data of the host `Star` object is missing, then the function **must** return `None`."
   ]
  },
  {
   "cell_type": "code",
   "execution_count": 79,
   "id": "87eedb8c",
   "metadata": {
    "execution": {
     "iopub.execute_input": "2024-04-10T02:30:04.342133Z",
     "iopub.status.busy": "2024-04-10T02:30:04.342066Z",
     "iopub.status.idle": "2024-04-10T02:30:04.343891Z",
     "shell.execute_reply": "2024-04-10T02:30:04.343674Z"
    },
    "tags": []
   },
   "outputs": [],
   "source": [
    "def get_liquid_water_distances(planet):\n",
    "    # Assuming 'stars_dict' is globally accessible\n",
    "    if stars_dict[planet.host_name].stellar_luminosity is not None:\n",
    "        shortest = (10 ** stars_dict[planet.host_name].stellar_luminosity / 1.15) ** 0.5\n",
    "        longest = (10 ** stars_dict[planet.host_name].stellar_luminosity / 0.53) ** 0.5\n",
    "        return [shortest, longest]  # Ensure this is a list of two floats\n",
    "    else:\n",
    "        return None\n"
   ]
  },
  {
   "cell_type": "code",
   "execution_count": 80,
   "id": "9ffe6fc6",
   "metadata": {
    "deletable": false,
    "editable": false,
    "scrolled": true
   },
   "outputs": [
    {
     "data": {
      "text/html": [
       "<p><strong><pre style='display: inline;'>get_liquid_water_distances</pre></strong> passed! 🍀</p><p><strong><pre style='display: inline;'>get_liquid_water_distances - 1</pre> message:</strong> Note that the Gradescope autograder will deduct points if your code fails the following rubric point - 'function did not return `None` for missing data (-1)'.The public tests cannot determine if your code satisfies these requirements. Verify your code manually.</p><p><strong><pre style='display: inline;'>get_liquid_water_distances - 2</pre> message:</strong> Note that the Gradescope autograder will deduct points if your code fails the following rubric point - 'function logic is incorrect (-2)'.The public tests cannot determine if your code satisfies these requirements. Verify your code manually.</p>"
      ],
      "text/plain": [
       "get_liquid_water_distances results: All test cases passed!\n",
       "get_liquid_water_distances - 1 message: Note that the Gradescope autograder will deduct points if your code fails the following rubric point - 'function did not return `None` for missing data (-1)'.The public tests cannot determine if your code satisfies these requirements. Verify your code manually.\n",
       "get_liquid_water_distances - 2 message: Note that the Gradescope autograder will deduct points if your code fails the following rubric point - 'function logic is incorrect (-2)'.The public tests cannot determine if your code satisfies these requirements. Verify your code manually."
      ]
     },
     "execution_count": 80,
     "metadata": {},
     "output_type": "execute_result"
    }
   ],
   "source": [
    "grader.check(\"get_liquid_water_distances\")"
   ]
  },
  {
   "cell_type": "markdown",
   "id": "69aa89a8",
   "metadata": {
    "deletable": false,
    "editable": false
   },
   "source": [
    "**Question 16:** Find the **shortest** and **longest** distances for the planet *Kepler-197 e* from its host star, at which it can support liquid water.\n",
    "\n",
    "Your output **must** be a **list** of two **floats** representing the **shortest** and **longest** distances that the planet can be from its host star and still support liquid water. Remember to `break` out of your loop after you identify the correct `Planet` object."
   ]
  },
  {
   "cell_type": "code",
   "execution_count": 81,
   "id": "8ff90461",
   "metadata": {
    "execution": {
     "iopub.execute_input": "2024-04-10T02:30:04.480297Z",
     "iopub.status.busy": "2024-04-10T02:30:04.480232Z",
     "iopub.status.idle": "2024-04-10T02:30:04.482633Z",
     "shell.execute_reply": "2024-04-10T02:30:04.482400Z"
    },
    "tags": []
   },
   "outputs": [
    {
     "data": {
      "text/plain": [
       "[1.204068181137186, 1.7736260760497164]"
      ]
     },
     "execution_count": 81,
     "metadata": {},
     "output_type": "execute_result"
    }
   ],
   "source": [
    "# Initialize the result variable\n",
    "\n",
    "liquid_water_distances_kepler_197_e = None\n",
    "for planet in all_planets_list:\n",
    "    if planet.planet_name == \"Kepler-197 e\":  # Assuming the attribute is 'name', not 'planet_name'\n",
    "        liquid_water_distances_kepler_197_e = get_liquid_water_distances(planet)\n",
    "        break\n",
    "\n",
    "# This will now correctly store the list of distances if found, or remain None\n",
    "liquid_water_distances_kepler_197_e\n",
    "\n"
   ]
  },
  {
   "cell_type": "code",
   "execution_count": 82,
   "id": "cefabfe4",
   "metadata": {
    "deletable": false,
    "editable": false
   },
   "outputs": [
    {
     "data": {
      "text/html": [
       "<p><strong><pre style='display: inline;'>q16</pre></strong> passed! ✨</p><p><strong><pre style='display: inline;'>q16 - 2</pre> message:</strong> Note that the Gradescope autograder will deduct points if your code fails the following rubric point - '`get_liquid_water_distances` function is not used to answer (-1)'.The public tests cannot determine if your code satisfies these requirements. Verify your code manually.</p><p><strong><pre style='display: inline;'>q16 - 3</pre> message:</strong> Note that the Gradescope autograder will deduct points if your code fails the following rubric point - '`all_planets_list` data structure is not used to answer (-1)'.The public tests cannot determine if your code satisfies these requirements. Verify your code manually.</p><p><strong><pre style='display: inline;'>q16 - 4</pre> message:</strong> Note that the Gradescope autograder will deduct points if your code fails the following rubric point - 'did not exit loop and instead iterated further after finding the answer (-1)'.The public tests cannot determine if your code satisfies these requirements. Verify your code manually.</p>"
      ],
      "text/plain": [
       "q16 results: All test cases passed!\n",
       "q16 - 2 message: Note that the Gradescope autograder will deduct points if your code fails the following rubric point - '`get_liquid_water_distances` function is not used to answer (-1)'.The public tests cannot determine if your code satisfies these requirements. Verify your code manually.\n",
       "q16 - 3 message: Note that the Gradescope autograder will deduct points if your code fails the following rubric point - '`all_planets_list` data structure is not used to answer (-1)'.The public tests cannot determine if your code satisfies these requirements. Verify your code manually.\n",
       "q16 - 4 message: Note that the Gradescope autograder will deduct points if your code fails the following rubric point - 'did not exit loop and instead iterated further after finding the answer (-1)'.The public tests cannot determine if your code satisfies these requirements. Verify your code manually."
      ]
     },
     "execution_count": 82,
     "metadata": {},
     "output_type": "execute_result"
    }
   ],
   "source": [
    "grader.check(\"q16\")"
   ]
  },
  {
   "cell_type": "markdown",
   "id": "bca7698d",
   "metadata": {
    "deletable": false,
    "editable": false
   },
   "source": [
    "**Question 17:** **List** the names (`planet_name`) of all the `Planet` objects which can support liquid water when they are at **both** their **shortest** and **longest** distances to their host star.\n",
    "\n",
    "Your output **must** be a **list**. You **must** ignore `Planet` objects with missing `eccentricity`, or `semi_major_radius` data and planets whose host `Star` has missing `stellar_luminosity` data.\n",
    "\n",
    "**Hint:** You can find the actual shortest and longest distances of the planet with the `get_distances_to_star` function, and the shortest and longest distances at which liquid water can be supported with the `get_liquid_water_distances` function. You must consider `Planet` objects for which the actual distances to their host star lie **within** the distances at which liquid water can be supported."
   ]
  },
  {
   "cell_type": "code",
   "execution_count": 83,
   "id": "571c3099",
   "metadata": {
    "execution": {
     "iopub.execute_input": "2024-04-10T02:30:04.688001Z",
     "iopub.status.busy": "2024-04-10T02:30:04.687936Z",
     "iopub.status.idle": "2024-04-10T02:30:04.693251Z",
     "shell.execute_reply": "2024-04-10T02:30:04.693025Z"
    },
    "tags": []
   },
   "outputs": [
    {
     "data": {
      "text/plain": [
       "['GJ 422 b',\n",
       " 'HD 10697 b',\n",
       " 'HD 114729 b',\n",
       " 'HD 145934 b',\n",
       " 'HD 147379 b',\n",
       " 'HD 17674 b',\n",
       " 'HD 188015 b',\n",
       " 'HD 564 b',\n",
       " 'Kepler-1341 b',\n",
       " 'Kepler-1410 b',\n",
       " 'Kepler-1540 b',\n",
       " 'Kepler-1544 b',\n",
       " 'Kepler-1554 b',\n",
       " 'Kepler-1593 b',\n",
       " 'Kepler-1628 b',\n",
       " 'Kepler-1647 b',\n",
       " 'Kepler-1652 b',\n",
       " 'Kepler-1653 b',\n",
       " 'Kepler-1661 b',\n",
       " 'Kepler-1690 b',\n",
       " 'Kepler-1868 b',\n",
       " 'Kepler-1981 b',\n",
       " 'Kepler-442 b',\n",
       " 'Kepler-443 b',\n",
       " 'Kepler-452 b',\n",
       " 'Kepler-453 b',\n",
       " 'Kepler-705 b',\n",
       " 'Proxima Cen b',\n",
       " 'HD 156668 c',\n",
       " 'HD 159868 b',\n",
       " 'HD 28185 b',\n",
       " 'HD 45364 c',\n",
       " 'Kepler-1086 c',\n",
       " 'Kepler-1143 c',\n",
       " 'Kepler-155 c',\n",
       " 'Kepler-283 c',\n",
       " 'Kepler-553 c',\n",
       " 'Kepler-712 c',\n",
       " 'TOI-199 c',\n",
       " 'GJ 180 c',\n",
       " 'GJ 433 d',\n",
       " 'Kepler-174 d',\n",
       " 'Kepler-454 c',\n",
       " 'Kepler-47 c',\n",
       " \"Teegarden's Star b\",\n",
       " 'TOI-700 d',\n",
       " 'TRAPPIST-1 d',\n",
       " 'TRAPPIST-1 e',\n",
       " 'Kepler-68 d',\n",
       " 'HD 160691 b',\n",
       " 'HD 191939 g',\n",
       " 'HD 34445 f',\n",
       " 'GJ 667 C c',\n",
       " 'GJ 667 C f']"
      ]
     },
     "execution_count": 83,
     "metadata": {},
     "output_type": "execute_result"
    }
   ],
   "source": [
    "planets_with_liquid_water = []\n",
    "\n",
    "for planet in all_planets_list:\n",
    "    if (planet.eccentricity is None or \n",
    "        planet.semi_major_radius is None or \n",
    "        stars_dict[planet.host_name].stellar_luminosity is None):\n",
    "        continue\n",
    "    \n",
    "    liquid_water_distances = get_liquid_water_distances(planet)\n",
    "    actual_distances = get_distances_to_star(planet)\n",
    "    \n",
    "    if (liquid_water_distances and actual_distances and \n",
    "        liquid_water_distances[0] <= actual_distances[0] <= liquid_water_distances[1] and\n",
    "        liquid_water_distances[0] <= actual_distances[1] <= liquid_water_distances[1]):\n",
    "        planets_with_liquid_water.append(planet.planet_name)\n",
    "\n",
    "planets_with_liquid_water\n"
   ]
  },
  {
   "cell_type": "code",
   "execution_count": 84,
   "id": "9b7d475b",
   "metadata": {
    "deletable": false,
    "editable": false
   },
   "outputs": [
    {
     "data": {
      "text/html": [
       "<p><strong><pre style='display: inline;'>q17</pre></strong> passed! 🌟</p><p><strong><pre style='display: inline;'>q17 - 2</pre> message:</strong> Note that the Gradescope autograder will deduct points if your code fails the following rubric point - 'incorrect logic is used to answer (-1)'.The public tests cannot determine if your code satisfies these requirements. Verify your code manually.</p><p><strong><pre style='display: inline;'>q17 - 3</pre> message:</strong> Note that the Gradescope autograder will deduct points if your code fails the following rubric point - '`get_liquid_water_distances` function is not used to answer (-1)'.The public tests cannot determine if your code satisfies these requirements. Verify your code manually.</p><p><strong><pre style='display: inline;'>q17 - 4</pre> message:</strong> Note that the Gradescope autograder will deduct points if your code fails the following rubric point - '`all_planets_list` data structure is not used to answer (-1)'.The public tests cannot determine if your code satisfies these requirements. Verify your code manually.</p>"
      ],
      "text/plain": [
       "q17 results: All test cases passed!\n",
       "q17 - 2 message: Note that the Gradescope autograder will deduct points if your code fails the following rubric point - 'incorrect logic is used to answer (-1)'.The public tests cannot determine if your code satisfies these requirements. Verify your code manually.\n",
       "q17 - 3 message: Note that the Gradescope autograder will deduct points if your code fails the following rubric point - '`get_liquid_water_distances` function is not used to answer (-1)'.The public tests cannot determine if your code satisfies these requirements. Verify your code manually.\n",
       "q17 - 4 message: Note that the Gradescope autograder will deduct points if your code fails the following rubric point - '`all_planets_list` data structure is not used to answer (-1)'.The public tests cannot determine if your code satisfies these requirements. Verify your code manually."
      ]
     },
     "execution_count": 84,
     "metadata": {},
     "output_type": "execute_result"
    }
   ],
   "source": [
    "grader.check(\"q17\")"
   ]
  },
  {
   "cell_type": "markdown",
   "id": "74dfc7dd",
   "metadata": {
    "deletable": false,
    "editable": false
   },
   "source": [
    "#### Surface temperature:\n",
    "\n",
    "The temperature on the surface of the planet is another important criteria for deciding whether a planet is habitable. The `equilibrium_temperature` of a `Planet` is the temperature that the planet would be, if it were a [black body](https://en.wikipedia.org/wiki/Black_body) (i.e., if it were able to absorb all the radiation it receives from its host star). However, most planets are not perfect black bodies and reflect some of the radiation that they receive from their host star. Astronomers use the quantity [albedo](https://en.wikipedia.org/wiki/Albedo) to measure how much radiation is reflected by the planet. An albedo of *0* implies that the planet is a perfect black body which absorbs all its radiation, while an albedo of *1* implies that the planet is perfectly reflective, and does not retain any radiation. In the real world, most planets have an albedo value between *0* and *0.5*.\n",
    "\n",
    "Using the albedo of a planet, we can compute the temperature on the surface of a planet as follows\n",
    "\n",
    "$$ \\texttt{surface temperature} = \\left(1- \\texttt{albedo}\\right) ^{1/4} \\times \\texttt{equilibrium temperature}$$\n",
    "\n",
    "Unfortunately, we do **not** have the albedo values of the `Planet` objects in our dataset. So, we will instead make some educated guesses and find the **maximum** and **minimum** surface temperatures, assuming that the albedo is within the range of *0* to *0.5* (which is known to be the case for most planets)."
   ]
  },
  {
   "cell_type": "markdown",
   "id": "30812ed7",
   "metadata": {
    "deletable": false,
    "editable": false
   },
   "source": [
    "### Function 5: `get_surface_temperatures(planet)`\n",
    "\n",
    "You **must** define this function which takes in a `Planet` object as its input, and then **returns** a **list** of two **floats**. The first float should be the **minimum surface temperature** of the `Planet` object (which can be computed by assuming a **albedo** value of *0.5*), and the second float should be the **maximum surface temperature** (which can be computed by assuming a **albedo** value of *0.0*). If the `equilibrium_temperature` data of the `Planet` is missing, then the function **must** return `None`."
   ]
  },
  {
   "cell_type": "code",
   "execution_count": 85,
   "id": "a6abc3d1",
   "metadata": {
    "execution": {
     "iopub.execute_input": "2024-04-10T02:30:04.966040Z",
     "iopub.status.busy": "2024-04-10T02:30:04.965972Z",
     "iopub.status.idle": "2024-04-10T02:30:04.967647Z",
     "shell.execute_reply": "2024-04-10T02:30:04.967415Z"
    },
    "tags": []
   },
   "outputs": [],
   "source": [
    "def get_surface_temperatures(planet):\n",
    "    # Check if the equilibrium temperature data is available\n",
    "    if planet.equilibrium_temperature is None:\n",
    "        return None\n",
    "\n",
    "    # Define the albedo values for calculation\n",
    "    albedo_min = 0.5  # This will give the minimum surface temperature\n",
    "    albedo_max = 0.0  # This will give the maximum surface temperature\n",
    "\n",
    "    # Calculate surface temperatures based on the formula\n",
    "    # Surface temperature = (1-albedo)^(1/4) * equilibrium temperature\n",
    "    min_surface_temperature = (1 - albedo_min) ** 0.25 * planet.equilibrium_temperature\n",
    "    max_surface_temperature = (1 - albedo_max) ** 0.25 * planet.equilibrium_temperature\n",
    "\n",
    "    # Return the temperatures as a list of two floats\n",
    "    return [min_surface_temperature, max_surface_temperature]\n"
   ]
  },
  {
   "cell_type": "code",
   "execution_count": 86,
   "id": "7b10f41b",
   "metadata": {
    "deletable": false,
    "editable": false
   },
   "outputs": [
    {
     "data": {
      "text/html": [
       "<p><strong><pre style='display: inline;'>get_surface_temperatures</pre></strong> passed! 🎉</p><p><strong><pre style='display: inline;'>get_surface_temperatures - 1</pre> message:</strong> Note that the Gradescope autograder will deduct points if your code fails the following rubric point - 'function did not return `None` for missing data (-1)'.The public tests cannot determine if your code satisfies these requirements. Verify your code manually.</p><p><strong><pre style='display: inline;'>get_surface_temperatures - 2</pre> message:</strong> Note that the Gradescope autograder will deduct points if your code fails the following rubric point - 'function logic is incorrect (-2)'.The public tests cannot determine if your code satisfies these requirements. Verify your code manually.</p>"
      ],
      "text/plain": [
       "get_surface_temperatures results: All test cases passed!\n",
       "get_surface_temperatures - 1 message: Note that the Gradescope autograder will deduct points if your code fails the following rubric point - 'function did not return `None` for missing data (-1)'.The public tests cannot determine if your code satisfies these requirements. Verify your code manually.\n",
       "get_surface_temperatures - 2 message: Note that the Gradescope autograder will deduct points if your code fails the following rubric point - 'function logic is incorrect (-2)'.The public tests cannot determine if your code satisfies these requirements. Verify your code manually."
      ]
     },
     "execution_count": 86,
     "metadata": {},
     "output_type": "execute_result"
    }
   ],
   "source": [
    "grader.check(\"get_surface_temperatures\")"
   ]
  },
  {
   "cell_type": "markdown",
   "id": "3971dd33",
   "metadata": {
    "deletable": false,
    "editable": false
   },
   "source": [
    "**Question 18:** Find the **minimum** and **maximum** surface temperatures for the planet *HD 20794 d*.\n",
    "\n",
    "Your output **must** be a **list** of two **floats** representing the **minimum** and **maximum** surface temperatures. Remember to `break` out of your loop after you identify the correct `Planet` object."
   ]
  },
  {
   "cell_type": "code",
   "execution_count": 87,
   "id": "add522b3",
   "metadata": {
    "execution": {
     "iopub.execute_input": "2024-04-10T02:30:05.136875Z",
     "iopub.status.busy": "2024-04-10T02:30:05.136801Z",
     "iopub.status.idle": "2024-04-10T02:30:05.139199Z",
     "shell.execute_reply": "2024-04-10T02:30:05.138983Z"
    },
    "tags": []
   },
   "outputs": [
    {
     "data": {
      "text/plain": [
       "[326.2678091184412, 388.0]"
      ]
     },
     "execution_count": 87,
     "metadata": {},
     "output_type": "execute_result"
    }
   ],
   "source": [
    "\n",
    "# compute and store the answer in the variable 'surface_temp_hd_20794_d', then display it\n",
    "# Assuming all_planets_list is a list of Planet namedtuples\n",
    "# and get_surface_temperatures is already defined\n",
    "\n",
    "# Initialize the variable to store the surface temperatures\n",
    "surface_temp_hd_20794_d = None\n",
    "\n",
    "# Loop through the list of planets to find 'HD 20794 d'\n",
    "for planet in all_planets_list:\n",
    "    if planet.planet_name == \"HD 20794 d\":\n",
    "        # Calculate the surface temperatures using the function\n",
    "        surface_temp_hd_20794_d = get_surface_temperatures(planet)\n",
    "        break  # Exit the loop once the planet is found\n",
    "\n",
    "# Display the computed surface temperatures\n",
    "surface_temp_hd_20794_d\n",
    "\n"
   ]
  },
  {
   "cell_type": "code",
   "execution_count": 88,
   "id": "7c325d37",
   "metadata": {
    "deletable": false,
    "editable": false
   },
   "outputs": [
    {
     "data": {
      "text/html": [
       "<p><strong><pre style='display: inline;'>q18</pre></strong> passed! 🍀</p><p><strong><pre style='display: inline;'>q18 - 2</pre> message:</strong> Note that the Gradescope autograder will deduct points if your code fails the following rubric point - '`get_surface_temperatures` function is not used to answer (-1)'.The public tests cannot determine if your code satisfies these requirements. Verify your code manually.</p><p><strong><pre style='display: inline;'>q18 - 3</pre> message:</strong> Note that the Gradescope autograder will deduct points if your code fails the following rubric point - '`all_planets_list` data structure is not used to answer (-1)'.The public tests cannot determine if your code satisfies these requirements. Verify your code manually.</p><p><strong><pre style='display: inline;'>q18 - 4</pre> message:</strong> Note that the Gradescope autograder will deduct points if your code fails the following rubric point - 'did not exit loop and instead iterated further after finding the answer (-1)'.The public tests cannot determine if your code satisfies these requirements. Verify your code manually.</p>"
      ],
      "text/plain": [
       "q18 results: All test cases passed!\n",
       "q18 - 2 message: Note that the Gradescope autograder will deduct points if your code fails the following rubric point - '`get_surface_temperatures` function is not used to answer (-1)'.The public tests cannot determine if your code satisfies these requirements. Verify your code manually.\n",
       "q18 - 3 message: Note that the Gradescope autograder will deduct points if your code fails the following rubric point - '`all_planets_list` data structure is not used to answer (-1)'.The public tests cannot determine if your code satisfies these requirements. Verify your code manually.\n",
       "q18 - 4 message: Note that the Gradescope autograder will deduct points if your code fails the following rubric point - 'did not exit loop and instead iterated further after finding the answer (-1)'.The public tests cannot determine if your code satisfies these requirements. Verify your code manually."
      ]
     },
     "execution_count": 88,
     "metadata": {},
     "output_type": "execute_result"
    }
   ],
   "source": [
    "grader.check(\"q18\")"
   ]
  },
  {
   "cell_type": "markdown",
   "id": "faa892cd",
   "metadata": {
    "deletable": false,
    "editable": false
   },
   "source": [
    "**Question 19:** **List** the names (`planet_name`) of all the `Planet` objects whose **minimum surface temperature** is **greater** than *263* (Kelvin) and **maximum surface temperature** is **less** than *323* (Kelvin).\n",
    "\n",
    "Your output **must** be a **list**. You **must** ignore `Planet` objects with missing `equilibrium_temperature` data."
   ]
  },
  {
   "cell_type": "code",
   "execution_count": 89,
   "id": "4a9c9ce3",
   "metadata": {
    "execution": {
     "iopub.execute_input": "2024-04-10T02:30:05.345571Z",
     "iopub.status.busy": "2024-04-10T02:30:05.345507Z",
     "iopub.status.idle": "2024-04-10T02:30:05.348593Z",
     "shell.execute_reply": "2024-04-10T02:30:05.348357Z"
    },
    "tags": []
   },
   "outputs": [
    {
     "data": {
      "text/plain": [
       "['K2-323 b',\n",
       " 'K2-9 b',\n",
       " 'Kepler-1503 b',\n",
       " 'Kepler-1512 b',\n",
       " 'Kepler-505 b',\n",
       " 'Kepler-577 b',\n",
       " 'TOI-4562 b',\n",
       " 'EPIC 212737443 c',\n",
       " 'GJ 3929 c',\n",
       " 'KOI-1783.02',\n",
       " 'Kepler-1085 b',\n",
       " 'Kepler-436 b',\n",
       " 'Kepler-610 c',\n",
       " 'Kepler-281 d',\n",
       " 'Kepler-351 d',\n",
       " 'TOI-712 d',\n",
       " 'Kepler-169 f',\n",
       " 'Kepler-186 e']"
      ]
     },
     "execution_count": 89,
     "metadata": {},
     "output_type": "execute_result"
    }
   ],
   "source": [
    "\n",
    "# compute and store the answer in the variable 'pleasant_planets', then display it\n",
    "# Initialize the list to store planet names with pleasant surface temperatures\n",
    "pleasant_planets = []\n",
    "\n",
    "# Loop through all planets in the list\n",
    "for planet in all_planets_list:\n",
    "    # Skip the planet if the equilibrium_temperature data is missing\n",
    "    if planet.equilibrium_temperature is None:\n",
    "        continue\n",
    "    \n",
    "    # Calculate the surface temperatures using the defined function\n",
    "    surface_temperatures = get_surface_temperatures(planet)\n",
    "    \n",
    "    # Check if the temperatures are within the specified range\n",
    "    if surface_temperatures and surface_temperatures[0] > 263 and surface_temperatures[1] < 323:\n",
    "        pleasant_planets.append(planet.planet_name)\n",
    "\n",
    "# Display the list of planets that meet the temperature criteria\n",
    "pleasant_planets\n",
    "\n"
   ]
  },
  {
   "cell_type": "code",
   "execution_count": 90,
   "id": "e8feac47",
   "metadata": {
    "deletable": false,
    "editable": false
   },
   "outputs": [
    {
     "data": {
      "text/html": [
       "<p><strong><pre style='display: inline;'>q19</pre></strong> passed! 🌈</p><p><strong><pre style='display: inline;'>q19 - 2</pre> message:</strong> Note that the Gradescope autograder will deduct points if your code fails the following rubric point - 'incorrect comparison operators are used (-1)'.The public tests cannot determine if your code satisfies these requirements. Verify your code manually.</p><p><strong><pre style='display: inline;'>q19 - 3</pre> message:</strong> Note that the Gradescope autograder will deduct points if your code fails the following rubric point - '`get_surface_temperatures` function is not used to answer (-1)'.The public tests cannot determine if your code satisfies these requirements. Verify your code manually.</p><p><strong><pre style='display: inline;'>q19 - 4</pre> message:</strong> Note that the Gradescope autograder will deduct points if your code fails the following rubric point - '`all_planets_list` data structure is not used to answer (-1)'.The public tests cannot determine if your code satisfies these requirements. Verify your code manually.</p>"
      ],
      "text/plain": [
       "q19 results: All test cases passed!\n",
       "q19 - 2 message: Note that the Gradescope autograder will deduct points if your code fails the following rubric point - 'incorrect comparison operators are used (-1)'.The public tests cannot determine if your code satisfies these requirements. Verify your code manually.\n",
       "q19 - 3 message: Note that the Gradescope autograder will deduct points if your code fails the following rubric point - '`get_surface_temperatures` function is not used to answer (-1)'.The public tests cannot determine if your code satisfies these requirements. Verify your code manually.\n",
       "q19 - 4 message: Note that the Gradescope autograder will deduct points if your code fails the following rubric point - '`all_planets_list` data structure is not used to answer (-1)'.The public tests cannot determine if your code satisfies these requirements. Verify your code manually."
      ]
     },
     "execution_count": 90,
     "metadata": {},
     "output_type": "execute_result"
    }
   ],
   "source": [
    "grader.check(\"q19\")"
   ]
  },
  {
   "cell_type": "markdown",
   "id": "a54f6551",
   "metadata": {
    "deletable": false,
    "editable": false
   },
   "source": [
    "#### Putting it all together:\n",
    "\n",
    "We are finally ready to combine all our various criteria of habitability to make a list of planets which satisfy all the criteria above, and could potentially be habitable. Unsurprisingly, if we are too strict with our expectations, no planets in the dataset will meet them. So, allowing for some technological improvements in the future, we will make more modest requests of the planets in our dataset."
   ]
  },
  {
   "cell_type": "markdown",
   "id": "3c7c34d0",
   "metadata": {
    "deletable": false,
    "editable": false
   },
   "source": [
    "**Question 20:** List the `planet_name` of all the `Planet` objects which satisfy the criteria below:\n",
    "\n",
    "1. The gravitational force experienced on the surface of the `Planet` must be **greater** than *0.75* and **less** than *1.25* times that of the Earth.\n",
    "2. The planet must always **lie within** the range at which it is able to support liquid water.\n",
    "3. The **minimum** surface temperature must be **greater** than *200* and the **maximum** surface temperature must be **less** than *350*.\n",
    "\n",
    "Your output **must** be a **list** of **strings**. You **must** ignore any `Planet` objects for which you cannot determine if any of these criteria are met."
   ]
  },
  {
   "cell_type": "code",
   "execution_count": 91,
   "id": "ec5b1d1b",
   "metadata": {
    "execution": {
     "iopub.execute_input": "2024-04-10T02:30:05.623586Z",
     "iopub.status.busy": "2024-04-10T02:30:05.623505Z",
     "iopub.status.idle": "2024-04-10T02:30:05.630145Z",
     "shell.execute_reply": "2024-04-10T02:30:05.629919Z"
    },
    "tags": []
   },
   "outputs": [
    {
     "data": {
      "text/plain": [
       "['Kepler-1341 b',\n",
       " 'Kepler-1410 b',\n",
       " 'Kepler-1540 b',\n",
       " 'Kepler-1544 b',\n",
       " 'Kepler-1554 b',\n",
       " 'Kepler-1593 b',\n",
       " 'Kepler-1628 b',\n",
       " 'Kepler-1652 b',\n",
       " 'Kepler-1653 b',\n",
       " 'Kepler-1661 b',\n",
       " 'Kepler-1690 b',\n",
       " 'Kepler-452 b',\n",
       " 'Kepler-705 b',\n",
       " 'Kepler-155 c',\n",
       " 'Kepler-283 c',\n",
       " \"Teegarden's Star b\",\n",
       " 'TOI-700 d',\n",
       " 'TRAPPIST-1 e',\n",
       " 'HD 191939 g']"
      ]
     },
     "execution_count": 91,
     "metadata": {},
     "output_type": "execute_result"
    }
   ],
   "source": [
    "habitable_planets = []\n",
    "\n",
    "for planet in all_planets_list:\n",
    "    if planet.planet_mass == None or planet.planet_radius == None or planet.equilibrium_temperature == None:\n",
    "        continue\n",
    "    if planet.eccentricity == None or planet.semi_major_radius == None:\n",
    "        continue\n",
    "    if stars_dict[planet.host_name].stellar_luminosity == None or planet.semi_major_radius == None:\n",
    "        continue\n",
    "    if 1.25 > get_surface_gravity(planet) > 0.75:\n",
    "        if get_liquid_water_distances(planet)[0] < get_distances_to_star(planet)[0] < get_liquid_water_distances(planet)[1] and get_liquid_water_distances(planet)[0] < get_distances_to_star(planet)[1] < get_liquid_water_distances(planet)[1]:\n",
    "            if get_surface_temperatures(planet)[0] > 200 and get_surface_temperatures(planet)[1] < 350:\n",
    "                habitable_planets.append(planet.planet_name)\n",
    "habitable_planets"
   ]
  },
  {
   "cell_type": "code",
   "execution_count": 92,
   "id": "e0f30499",
   "metadata": {
    "deletable": false,
    "editable": false
   },
   "outputs": [
    {
     "data": {
      "text/html": [
       "<p><strong><pre style='display: inline;'>q20</pre></strong> passed! 🌈</p><p><strong><pre style='display: inline;'>q20 - 2</pre> message:</strong> Note that the Gradescope autograder will deduct points if your code fails the following rubric point - 'incorrect logic is used to answer (-2)'.The public tests cannot determine if your code satisfies these requirements. Verify your code manually.</p><p><strong><pre style='display: inline;'>q20 - 3</pre> message:</strong> Note that the Gradescope autograder will deduct points if your code fails the following rubric point - '`get_surface_gravity`, `get_distances_to_star`, `get_liquid_water_distances`, and `get_surface_temperatures` functions are not used to answer (-1)'.The public tests cannot determine if your code satisfies these requirements. Verify your code manually.</p><p><strong><pre style='display: inline;'>q20 - 4</pre> message:</strong> Note that the Gradescope autograder will deduct points if your code fails the following rubric point - '`all_planets_list` data structure is not used to answer (-1)'.The public tests cannot determine if your code satisfies these requirements. Verify your code manually.</p>"
      ],
      "text/plain": [
       "q20 results: All test cases passed!\n",
       "q20 - 2 message: Note that the Gradescope autograder will deduct points if your code fails the following rubric point - 'incorrect logic is used to answer (-2)'.The public tests cannot determine if your code satisfies these requirements. Verify your code manually.\n",
       "q20 - 3 message: Note that the Gradescope autograder will deduct points if your code fails the following rubric point - '`get_surface_gravity`, `get_distances_to_star`, `get_liquid_water_distances`, and `get_surface_temperatures` functions are not used to answer (-1)'.The public tests cannot determine if your code satisfies these requirements. Verify your code manually.\n",
       "q20 - 4 message: Note that the Gradescope autograder will deduct points if your code fails the following rubric point - '`all_planets_list` data structure is not used to answer (-1)'.The public tests cannot determine if your code satisfies these requirements. Verify your code manually."
      ]
     },
     "execution_count": 92,
     "metadata": {},
     "output_type": "execute_result"
    }
   ],
   "source": [
    "grader.check(\"q20\")"
   ]
  },
  {
   "cell_type": "markdown",
   "id": "9c304bc9",
   "metadata": {
    "deletable": false,
    "editable": false
   },
   "source": [
    "**Food for thought:** If you are interested, you can play around these values more, and introduce more stringent requirements to try and find the single **most** habitable planet. Notice how so many of the habitable planets we found start with the string *Kepler*. Do you know why?"
   ]
  },
  {
   "cell_type": "code",
   "execution_count": 93,
   "id": "e27f6114",
   "metadata": {
    "execution": {
     "iopub.execute_input": "2024-04-10T02:30:05.903428Z",
     "iopub.status.busy": "2024-04-10T02:30:05.903358Z",
     "iopub.status.idle": "2024-04-10T02:30:05.904764Z",
     "shell.execute_reply": "2024-04-10T02:30:05.904527Z"
    }
   },
   "outputs": [],
   "source": [
    "# Food for thought is an entirely OPTIONAL exercise\n",
    "# you may leave your thoughts here as a comment if you wish to\n"
   ]
  },
  {
   "cell_type": "code",
   "execution_count": 94,
   "id": "e3921366",
   "metadata": {
    "deletable": false,
    "editable": false
   },
   "outputs": [
    {
     "data": {
      "text/html": [
       "<p><strong><pre style='display: inline;'>general_deductions</pre></strong> passed! 💯</p><p><strong><pre style='display: inline;'>general_deductions - 1</pre> message:</strong> Note that the Gradescope autograder will deduct points if your code fails the following rubric point - 'Outputs not visible/did not save the notebook file prior to running the cell containing \"export\". We cannot see your output if you do not save before generating the zip file. (-3)'.The public tests cannot determine if your code satisfies these requirements. Verify your code manually.</p><p><strong><pre style='display: inline;'>general_deductions - 2</pre> message:</strong> Note that the Gradescope autograder will deduct points if your code fails the following rubric point - 'Used concepts/modules such as csv.DictReader, os.walk, and pandas not covered in class yet. Note that built-in functions that you have been introduced to can be used. (-3)'.The public tests cannot determine if your code satisfies these requirements. Verify your code manually.</p><p><strong><pre style='display: inline;'>general_deductions - 3</pre> message:</strong> Note that the Gradescope autograder will deduct points if your code fails the following rubric point - 'Large outputs such as stars_dict or planets_list are displayed in the notebook. (-3)'.The public tests cannot determine if your code satisfies these requirements. Verify your code manually.</p><p><strong><pre style='display: inline;'>general_deductions - 4</pre> message:</strong> Note that the Gradescope autograder will deduct points if your code fails the following rubric point - 'Import statements are not mentioned in the required cell at the top of the notebook. (-1)'.The public tests cannot determine if your code satisfies these requirements. Verify your code manually.</p>"
      ],
      "text/plain": [
       "general_deductions results: All test cases passed!\n",
       "general_deductions - 1 message: Note that the Gradescope autograder will deduct points if your code fails the following rubric point - 'Outputs not visible/did not save the notebook file prior to running the cell containing \"export\". We cannot see your output if you do not save before generating the zip file. (-3)'.The public tests cannot determine if your code satisfies these requirements. Verify your code manually.\n",
       "general_deductions - 2 message: Note that the Gradescope autograder will deduct points if your code fails the following rubric point - 'Used concepts/modules such as csv.DictReader, os.walk, and pandas not covered in class yet. Note that built-in functions that you have been introduced to can be used. (-3)'.The public tests cannot determine if your code satisfies these requirements. Verify your code manually.\n",
       "general_deductions - 3 message: Note that the Gradescope autograder will deduct points if your code fails the following rubric point - 'Large outputs such as stars_dict or planets_list are displayed in the notebook. (-3)'.The public tests cannot determine if your code satisfies these requirements. Verify your code manually.\n",
       "general_deductions - 4 message: Note that the Gradescope autograder will deduct points if your code fails the following rubric point - 'Import statements are not mentioned in the required cell at the top of the notebook. (-1)'.The public tests cannot determine if your code satisfies these requirements. Verify your code manually."
      ]
     },
     "execution_count": 94,
     "metadata": {},
     "output_type": "execute_result"
    }
   ],
   "source": [
    "grader.check(\"general_deductions\")"
   ]
  },
  {
   "cell_type": "code",
   "execution_count": 95,
   "id": "4e71c4b8",
   "metadata": {
    "deletable": false,
    "editable": false
   },
   "outputs": [
    {
     "data": {
      "text/html": [
       "<p><strong><pre style='display: inline;'>summary</pre></strong> passed! 🍀</p><p><strong><pre style='display: inline;'>summary - 1</pre> message:</strong> Please submit your zip folder to Gradescope, and check your final score there. The Gradescope autograder will make deductions to your score based on the rubric.</p>"
      ],
      "text/plain": [
       "summary results: All test cases passed!\n",
       "summary - 1 message: Please submit your zip folder to Gradescope, and check your final score there. The Gradescope autograder will make deductions to your score based on the rubric."
      ]
     },
     "execution_count": 95,
     "metadata": {},
     "output_type": "execute_result"
    }
   ],
   "source": [
    "grader.check(\"summary\")"
   ]
  },
  {
   "cell_type": "markdown",
   "id": "f185f232",
   "metadata": {
    "deletable": false,
    "editable": false
   },
   "source": [
    "## Submission\n",
    "It is recommended that at this stage, you Restart and Run all Cells in your notebook.\n",
    "That will automatically save your work and generate a zip file for you to submit.\n",
    "\n",
    "**SUBMISSION INSTRUCTIONS**:\n",
    "1. **Upload** the zipfile to Gradescope.\n",
    "2. If you completed the project with a **partner**, make sure to **add their name** by clicking \"Add Group Member\"\n",
    "in Gradescope when uploading the zip file.\n",
    "3. Check **Gradescope** results as soon as the auto-grader execution gets completed.\n",
    "4. Your **final score** for this project is the score that you see on **Gradescope**.\n",
    "5. You are **allowed** to resubmit on Gradescope as many times as you want to.\n",
    "6. **Contact** a TA/PM if you lose any points on Gradescope for any **unclear reasons**."
   ]
  },
  {
   "cell_type": "code",
   "execution_count": 96,
   "id": "457a8a54",
   "metadata": {
    "cell_type": "code",
    "deletable": false,
    "editable": false
   },
   "outputs": [
    {
     "data": {
      "application/javascript": [
       "IPython.notebook.save_checkpoint();"
      ],
      "text/plain": [
       "<IPython.core.display.Javascript object>"
      ]
     },
     "metadata": {},
     "output_type": "display_data"
    }
   ],
   "source": [
    "# running this cell will create a new save checkpoint for your notebook\n",
    "from IPython.display import display, Javascript\n",
    "display(Javascript('IPython.notebook.save_checkpoint();'))"
   ]
  },
  {
   "cell_type": "code",
   "execution_count": 97,
   "id": "57905213",
   "metadata": {
    "cell_type": "code",
    "deletable": false,
    "editable": false
   },
   "outputs": [
    {
     "name": "stdout",
     "output_type": "stream",
     "text": [
      "[jupytext] Reading p11.ipynb in format ipynb\n",
      "[jupytext] Updating the timestamp of p11.py\n"
     ]
    }
   ],
   "source": [
    "!jupytext --to py p11.ipynb"
   ]
  },
  {
   "cell_type": "code",
   "execution_count": 98,
   "id": "d05a773b",
   "metadata": {
    "deletable": false,
    "editable": false
   },
   "outputs": [
    {
     "data": {
      "text/html": [
       "\n",
       "                    <p>\n",
       "                        Your submission has been exported. Click\n",
       "                        <a href=\"p11_2024_04_20T13_53_13_326810.zip\" download=\"p11_2024_04_20T13_53_13_326810.zip\" target=\"_blank\">here</a> to download\n",
       "                        the zip file.\n",
       "                    </p>\n",
       "                "
      ],
      "text/plain": [
       "<IPython.core.display.HTML object>"
      ]
     },
     "metadata": {},
     "output_type": "display_data"
    }
   ],
   "source": [
    "grader.export(pdf=False, run_tests=False, files=[\"p11.py\"])"
   ]
  },
  {
   "cell_type": "markdown",
   "id": "97ba025f",
   "metadata": {
    "deletable": false,
    "editable": false
   },
   "source": [
    " "
   ]
  }
 ],
 "metadata": {
  "jupytext": {
   "cell_metadata_filter": "-all",
   "encoding": "# coding: utf-8",
   "executable": "/usr/bin/env python",
   "notebook_metadata_filter": "-all"
  },
  "kernelspec": {
   "display_name": "Python 3 (ipykernel)",
   "language": "python",
   "name": "python3"
  },
  "language_info": {
   "codemirror_mode": {
    "name": "ipython",
    "version": 3
   },
   "file_extension": ".py",
   "mimetype": "text/x-python",
   "name": "python",
   "nbconvert_exporter": "python",
   "pygments_lexer": "ipython3",
   "version": "3.11.5"
  },
  "otter": {
   "OK_FORMAT": true,
   "tests": {
    "Planet": {
     "name": "Planet",
     "points": 0,
     "suites": [
      {
       "cases": [
        {
         "code": ">>> print('All test cases passed!')\nAll test cases passed!\n",
         "hidden": false,
         "locked": false
        }
       ],
       "scored": true,
       "setup": "",
       "teardown": "",
       "type": "doctest"
      }
     ]
    },
    "Star": {
     "name": "Star",
     "points": 0,
     "suites": [
      {
       "cases": [
        {
         "code": ">>> print('All test cases passed!')\nAll test cases passed!\n",
         "hidden": false,
         "locked": false
        }
       ],
       "scored": true,
       "setup": "",
       "teardown": "",
       "type": "doctest"
      }
     ]
    },
    "all_planets_list": {
     "name": "all_planets_list",
     "points": 0,
     "suites": [
      {
       "cases": [
        {
         "code": ">>> \n>>> public_tests.rubric_check('all_planets_list: data structure is defined incorrectly')\nAll test cases passed!\n",
         "hidden": false,
         "locked": false,
         "success_message": "Note that the Gradescope autograder will deduct points if your code fails the following rubric point - 'data structure is defined incorrectly (-1)'.The public tests cannot determine if your code satisfies these requirements. Verify your code manually."
        },
        {
         "code": ">>> \n>>> public_tests.rubric_check('all_planets_list: `get_planets` function is not used to answer')\nAll test cases passed!\n",
         "hidden": false,
         "locked": false,
         "success_message": "Note that the Gradescope autograder will deduct points if your code fails the following rubric point - '`get_planets` function is not used to answer (-1)'.The public tests cannot determine if your code satisfies these requirements. Verify your code manually."
        },
        {
         "code": ">>> \n>>> public_tests.rubric_check('all_planets_list: `broken_data` data structure is not used to answer')\nAll test cases passed!\n",
         "hidden": false,
         "locked": false,
         "success_message": "Note that the Gradescope autograder will deduct points if your code fails the following rubric point - '`broken_data` data structure is not used to answer (-1)'.The public tests cannot determine if your code satisfies these requirements. Verify your code manually."
        },
        {
         "code": ">>> \n>>> public_tests.rubric_check('all_planets_list: paths are hardcoded using slashes')\nAll test cases passed!\n",
         "hidden": false,
         "locked": false,
         "success_message": "Note that the Gradescope autograder will deduct points if your code fails the following rubric point - 'paths are hardcoded using slashes (-1)'.The public tests cannot determine if your code satisfies these requirements. Verify your code manually."
        },
        {
         "code": ">>> \n>>> public_tests.rubric_check('all_planets_list: `planets_list` data structure is modified or redefined')\nAll test cases passed!\n",
         "hidden": false,
         "locked": false,
         "success_message": "Note that the Gradescope autograder will deduct points if your code fails the following rubric point - '`planets_list` data structure is modified or redefined (-1)'.The public tests cannot determine if your code satisfies these requirements. Verify your code manually."
        }
       ],
       "scored": true,
       "setup": "",
       "teardown": "",
       "type": "doctest"
      }
     ]
    },
    "general_deductions": {
     "name": "general_deductions",
     "points": 0,
     "suites": [
      {
       "cases": [
        {
         "code": ">>> \n>>> public_tests.rubric_check('general_deductions: Outputs not visible/did not save the notebook file prior to running the cell containing \"export\". We cannot see your output if you do not save before generating the zip file.')\nAll test cases passed!\n",
         "hidden": false,
         "locked": false,
         "success_message": "Note that the Gradescope autograder will deduct points if your code fails the following rubric point - 'Outputs not visible/did not save the notebook file prior to running the cell containing \"export\". We cannot see your output if you do not save before generating the zip file. (-3)'.The public tests cannot determine if your code satisfies these requirements. Verify your code manually."
        },
        {
         "code": ">>> \n>>> public_tests.rubric_check('general_deductions: Used concepts/modules such as csv.DictReader, os.walk, and pandas not covered in class yet. Note that built-in functions that you have been introduced to can be used.')\nAll test cases passed!\n",
         "hidden": false,
         "locked": false,
         "success_message": "Note that the Gradescope autograder will deduct points if your code fails the following rubric point - 'Used concepts/modules such as csv.DictReader, os.walk, and pandas not covered in class yet. Note that built-in functions that you have been introduced to can be used. (-3)'.The public tests cannot determine if your code satisfies these requirements. Verify your code manually."
        },
        {
         "code": ">>> \n>>> public_tests.rubric_check('general_deductions: Large outputs such as stars_dict or planets_list are displayed in the notebook.')\nAll test cases passed!\n",
         "hidden": false,
         "locked": false,
         "success_message": "Note that the Gradescope autograder will deduct points if your code fails the following rubric point - 'Large outputs such as stars_dict or planets_list are displayed in the notebook. (-3)'.The public tests cannot determine if your code satisfies these requirements. Verify your code manually."
        },
        {
         "code": ">>> \n>>> public_tests.rubric_check('general_deductions: Import statements are not mentioned in the required cell at the top of the notebook.')\nAll test cases passed!\n",
         "hidden": false,
         "locked": false,
         "success_message": "Note that the Gradescope autograder will deduct points if your code fails the following rubric point - 'Import statements are not mentioned in the required cell at the top of the notebook. (-1)'.The public tests cannot determine if your code satisfies these requirements. Verify your code manually."
        }
       ],
       "scored": true,
       "setup": "",
       "teardown": "",
       "type": "doctest"
      }
     ]
    },
    "get_all_paths_in": {
     "name": "get_all_paths_in",
     "points": 0,
     "suites": [
      {
       "cases": [
        {
         "code": ">>> \n>>> public_tests.rubric_check('get_all_paths_in: hardcoding the name of directory inside the function')\nAll test cases passed!\n",
         "hidden": false,
         "locked": false,
         "success_message": "Note that the Gradescope autograder will deduct points if your code fails the following rubric point - 'hardcoding the name of directory inside the function (-1)'.The public tests cannot determine if your code satisfies these requirements. Verify your code manually."
        },
        {
         "code": ">>> \n>>> public_tests.rubric_check('get_all_paths_in: function does not remove all files and directories that start with `.`')\nAll test cases passed!\n",
         "hidden": false,
         "locked": false,
         "success_message": "Note that the Gradescope autograder will deduct points if your code fails the following rubric point - 'function does not remove all files and directories that start with `.` (-1)'.The public tests cannot determine if your code satisfies these requirements. Verify your code manually."
        },
        {
         "code": ">>> \n>>> public_tests.rubric_check('get_all_paths_in: function does not sort file names explicitly')\nAll test cases passed!\n",
         "hidden": false,
         "locked": false,
         "success_message": "Note that the Gradescope autograder will deduct points if your code fails the following rubric point - 'function does not sort file names explicitly (-1)'.The public tests cannot determine if your code satisfies these requirements. Verify your code manually."
        },
        {
         "code": ">>> \n>>> public_tests.rubric_check('get_all_paths_in: function logic is incorrect')\nAll test cases passed!\n",
         "hidden": false,
         "locked": false,
         "success_message": "Note that the Gradescope autograder will deduct points if your code fails the following rubric point - 'function logic is incorrect (-2)'.The public tests cannot determine if your code satisfies these requirements. Verify your code manually."
        },
        {
         "code": ">>> \n>>> public_tests.rubric_check('get_all_paths_in: paths are hardcoded using slashes')\nAll test cases passed!\n",
         "hidden": false,
         "locked": false,
         "success_message": "Note that the Gradescope autograder will deduct points if your code fails the following rubric point - 'paths are hardcoded using slashes (-1)'.The public tests cannot determine if your code satisfies these requirements. Verify your code manually."
        }
       ],
       "scored": true,
       "setup": "",
       "teardown": "",
       "type": "doctest"
      }
     ]
    },
    "get_distances_to_star": {
     "name": "get_distances_to_star",
     "points": 0,
     "suites": [
      {
       "cases": [
        {
         "code": ">>> \n>>> public_tests.rubric_check('get_distances_to_star: function did not return `None` for missing data')\nAll test cases passed!\n",
         "hidden": false,
         "locked": false,
         "success_message": "Note that the Gradescope autograder will deduct points if your code fails the following rubric point - 'function did not return `None` for missing data (-1)'.The public tests cannot determine if your code satisfies these requirements. Verify your code manually."
        },
        {
         "code": ">>> \n>>> public_tests.rubric_check('get_distances_to_star: function logic is incorrect')\nAll test cases passed!\n",
         "hidden": false,
         "locked": false,
         "success_message": "Note that the Gradescope autograder will deduct points if your code fails the following rubric point - 'function logic is incorrect (-2)'.The public tests cannot determine if your code satisfies these requirements. Verify your code manually."
        }
       ],
       "scored": true,
       "setup": "",
       "teardown": "",
       "type": "doctest"
      }
     ]
    },
    "get_liquid_water_distances": {
     "name": "get_liquid_water_distances",
     "points": 0,
     "suites": [
      {
       "cases": [
        {
         "code": ">>> \n>>> public_tests.rubric_check('get_liquid_water_distances: function did not return `None` for missing data')\nAll test cases passed!\n",
         "hidden": false,
         "locked": false,
         "success_message": "Note that the Gradescope autograder will deduct points if your code fails the following rubric point - 'function did not return `None` for missing data (-1)'.The public tests cannot determine if your code satisfies these requirements. Verify your code manually."
        },
        {
         "code": ">>> \n>>> public_tests.rubric_check('get_liquid_water_distances: function logic is incorrect')\nAll test cases passed!\n",
         "hidden": false,
         "locked": false,
         "success_message": "Note that the Gradescope autograder will deduct points if your code fails the following rubric point - 'function logic is incorrect (-2)'.The public tests cannot determine if your code satisfies these requirements. Verify your code manually."
        }
       ],
       "scored": true,
       "setup": "",
       "teardown": "",
       "type": "doctest"
      }
     ]
    },
    "get_planets": {
     "name": "get_planets",
     "points": 0,
     "suites": [
      {
       "cases": [
        {
         "code": ">>> print('All test cases passed!')\nAll test cases passed!\n",
         "hidden": false,
         "locked": false
        }
       ],
       "scored": true,
       "setup": "",
       "teardown": "",
       "type": "doctest"
      }
     ]
    },
    "get_stars": {
     "name": "get_stars",
     "points": 0,
     "suites": [
      {
       "cases": [
        {
         "code": ">>> print('All test cases passed!')\nAll test cases passed!\n",
         "hidden": false,
         "locked": false
        }
       ],
       "scored": true,
       "setup": "",
       "teardown": "",
       "type": "doctest"
      }
     ]
    },
    "get_surface_gravity": {
     "name": "get_surface_gravity",
     "points": 0,
     "suites": [
      {
       "cases": [
        {
         "code": ">>> \n>>> public_tests.rubric_check('get_surface_gravity: function did not return `None` for missing data')\nAll test cases passed!\n",
         "hidden": false,
         "locked": false,
         "success_message": "Note that the Gradescope autograder will deduct points if your code fails the following rubric point - 'function did not return `None` for missing data (-1)'.The public tests cannot determine if your code satisfies these requirements. Verify your code manually."
        },
        {
         "code": ">>> \n>>> public_tests.rubric_check('get_surface_gravity: function logic is incorrect')\nAll test cases passed!\n",
         "hidden": false,
         "locked": false,
         "success_message": "Note that the Gradescope autograder will deduct points if your code fails the following rubric point - 'function logic is incorrect (-2)'.The public tests cannot determine if your code satisfies these requirements. Verify your code manually."
        }
       ],
       "scored": true,
       "setup": "",
       "teardown": "",
       "type": "doctest"
      }
     ]
    },
    "get_surface_temperatures": {
     "name": "get_surface_temperatures",
     "points": 0,
     "suites": [
      {
       "cases": [
        {
         "code": ">>> \n>>> public_tests.rubric_check('get_surface_temperatures: function did not return `None` for missing data')\nAll test cases passed!\n",
         "hidden": false,
         "locked": false,
         "success_message": "Note that the Gradescope autograder will deduct points if your code fails the following rubric point - 'function did not return `None` for missing data (-1)'.The public tests cannot determine if your code satisfies these requirements. Verify your code manually."
        },
        {
         "code": ">>> \n>>> public_tests.rubric_check('get_surface_temperatures: function logic is incorrect')\nAll test cases passed!\n",
         "hidden": false,
         "locked": false,
         "success_message": "Note that the Gradescope autograder will deduct points if your code fails the following rubric point - 'function logic is incorrect (-2)'.The public tests cannot determine if your code satisfies these requirements. Verify your code manually."
        }
       ],
       "scored": true,
       "setup": "",
       "teardown": "",
       "type": "doctest"
      }
     ]
    },
    "planet_cell": {
     "name": "planet_cell",
     "points": 0,
     "suites": [
      {
       "cases": [
        {
         "code": ">>> print('All test cases passed!')\nAll test cases passed!\n",
         "hidden": false,
         "locked": false
        }
       ],
       "scored": true,
       "setup": "",
       "teardown": "",
       "type": "doctest"
      }
     ]
    },
    "planets_list": {
     "name": "planets_list",
     "points": 0,
     "suites": [
      {
       "cases": [
        {
         "code": ">>> print('All test cases passed!')\nAll test cases passed!\n",
         "hidden": false,
         "locked": false
        }
       ],
       "scored": true,
       "setup": "",
       "teardown": "",
       "type": "doctest"
      }
     ]
    },
    "plot_scatter": {
     "name": "plot_scatter",
     "points": 0,
     "suites": [
      {
       "cases": [
        {
         "code": ">>> print('All test cases passed!')\nAll test cases passed!\n",
         "hidden": false,
         "locked": false
        }
       ],
       "scored": true,
       "setup": "",
       "teardown": "",
       "type": "doctest"
      }
     ]
    },
    "plot_scatter_multiple": {
     "name": "plot_scatter_multiple",
     "points": 0,
     "suites": [
      {
       "cases": [
        {
         "code": ">>> print('All test cases passed!')\nAll test cases passed!\n",
         "hidden": false,
         "locked": false
        }
       ],
       "scored": true,
       "setup": "",
       "teardown": "",
       "type": "doctest"
      }
     ]
    },
    "q1": {
     "name": "q1",
     "points": 0,
     "suites": [
      {
       "cases": [
        {
         "code": ">>> public_tests.check('q1', ratios_gj9827)\nAll test cases passed!\n",
         "hidden": false,
         "locked": false
        },
        {
         "code": ">>> \n>>> public_tests.rubric_check('q1: incorrect logic is used to answer')\nAll test cases passed!\n",
         "hidden": false,
         "locked": false,
         "success_message": "Note that the Gradescope autograder will deduct points if your code fails the following rubric point - 'incorrect logic is used to answer (-1)'.The public tests cannot determine if your code satisfies these requirements. Verify your code manually."
        },
        {
         "code": ">>> \n>>> public_tests.rubric_check('q1: `planets_list` data structure is not used to answer')\nAll test cases passed!\n",
         "hidden": false,
         "locked": false,
         "success_message": "Note that the Gradescope autograder will deduct points if your code fails the following rubric point - '`planets_list` data structure is not used to answer (-1)'.The public tests cannot determine if your code satisfies these requirements. Verify your code manually."
        },
        {
         "code": ">>> public_tests.rubric_check('q1: public tests')\nAll test cases passed!\n",
         "hidden": false,
         "locked": false
        }
       ],
       "scored": true,
       "setup": "",
       "teardown": "",
       "type": "doctest"
      }
     ]
    },
    "q10": {
     "name": "q10",
     "points": 0,
     "suites": [
      {
       "cases": [
        {
         "code": ">>> public_tests.check('q10', broken_data_toi)\nAll test cases passed!\n",
         "hidden": false,
         "locked": false
        },
        {
         "code": ">>> \n>>> public_tests.rubric_check('q10: `get_all_paths_in` function is not used to answer')\nAll test cases passed!\n",
         "hidden": false,
         "locked": false,
         "success_message": "Note that the Gradescope autograder will deduct points if your code fails the following rubric point - '`get_all_paths_in` function is not used to answer (-2)'.The public tests cannot determine if your code satisfies these requirements. Verify your code manually."
        },
        {
         "code": ">>> \n>>> public_tests.rubric_check('q10: paths are hardcoded using slashes')\nAll test cases passed!\n",
         "hidden": false,
         "locked": false,
         "success_message": "Note that the Gradescope autograder will deduct points if your code fails the following rubric point - 'paths are hardcoded using slashes (-1)'.The public tests cannot determine if your code satisfies these requirements. Verify your code manually."
        }
       ],
       "scored": true,
       "setup": "",
       "teardown": "",
       "type": "doctest"
      }
     ]
    },
    "q11": {
     "name": "q11",
     "points": 0,
     "suites": [
      {
       "cases": [
        {
         "code": ">>> public_tests.check('q11', broken_data_keplers_100s)\nAll test cases passed!\n",
         "hidden": false,
         "locked": false
        },
        {
         "code": ">>> \n>>> public_tests.rubric_check('q11: `get_all_paths_in` function is not used to answer')\nAll test cases passed!\n",
         "hidden": false,
         "locked": false,
         "success_message": "Note that the Gradescope autograder will deduct points if your code fails the following rubric point - '`get_all_paths_in` function is not used to answer (-2)'.The public tests cannot determine if your code satisfies these requirements. Verify your code manually."
        },
        {
         "code": ">>> \n>>> public_tests.rubric_check('q11: paths are hardcoded using slashes')\nAll test cases passed!\n",
         "hidden": false,
         "locked": false,
         "success_message": "Note that the Gradescope autograder will deduct points if your code fails the following rubric point - 'paths are hardcoded using slashes (-1)'.The public tests cannot determine if your code satisfies these requirements. Verify your code manually."
        }
       ],
       "scored": true,
       "setup": "",
       "teardown": "",
       "type": "doctest"
      }
     ]
    },
    "q12": {
     "name": "q12",
     "points": 0,
     "suites": [
      {
       "cases": [
        {
         "code": ">>> public_tests.check('q12', broken_data_kepler_100_others)\nAll test cases passed!\n",
         "hidden": false,
         "locked": false
        },
        {
         "code": ">>> \n>>> public_tests.rubric_check('q12: `get_all_paths_in` function is not used to answer')\nAll test cases passed!\n",
         "hidden": false,
         "locked": false,
         "success_message": "Note that the Gradescope autograder will deduct points if your code fails the following rubric point - '`get_all_paths_in` function is not used to answer (-2)'.The public tests cannot determine if your code satisfies these requirements. Verify your code manually."
        },
        {
         "code": ">>> \n>>> public_tests.rubric_check('q12: paths are hardcoded using slashes')\nAll test cases passed!\n",
         "hidden": false,
         "locked": false,
         "success_message": "Note that the Gradescope autograder will deduct points if your code fails the following rubric point - 'paths are hardcoded using slashes (-1)'.The public tests cannot determine if your code satisfies these requirements. Verify your code manually."
        }
       ],
       "scored": true,
       "setup": "",
       "teardown": "",
       "type": "doctest"
      }
     ]
    },
    "q13": {
     "name": "q13",
     "points": 0,
     "suites": [
      {
       "cases": [
        {
         "code": ">>> public_tests.check('q13', broken_data)\nAll test cases passed!\n",
         "hidden": false,
         "locked": false
        },
        {
         "code": ">>> \n>>> public_tests.rubric_check('q13: `get_all_paths_in` function is not used to answer')\nAll test cases passed!\n",
         "hidden": false,
         "locked": false,
         "success_message": "Note that the Gradescope autograder will deduct points if your code fails the following rubric point - '`get_all_paths_in` function is not used to answer (-2)'.The public tests cannot determine if your code satisfies these requirements. Verify your code manually."
        },
        {
         "code": ">>> public_tests.rubric_check('q13: public tests')\nAll test cases passed!\n",
         "hidden": false,
         "locked": false
        }
       ],
       "scored": true,
       "setup": "",
       "teardown": "",
       "type": "doctest"
      }
     ]
    },
    "q14": {
     "name": "q14",
     "points": 0,
     "suites": [
      {
       "cases": [
        {
         "code": ">>> public_tests.check('q14', gj_674_b_gravity)\nAll test cases passed!\n",
         "hidden": false,
         "locked": false
        },
        {
         "code": ">>> \n>>> public_tests.rubric_check('q14: `get_surface_gravity` function is not used to answer')\nAll test cases passed!\n",
         "hidden": false,
         "locked": false,
         "success_message": "Note that the Gradescope autograder will deduct points if your code fails the following rubric point - '`get_surface_gravity` function is not used to answer (-1)'.The public tests cannot determine if your code satisfies these requirements. Verify your code manually."
        },
        {
         "code": ">>> \n>>> public_tests.rubric_check('q14: `all_planets_list` data structure is not used to answer')\nAll test cases passed!\n",
         "hidden": false,
         "locked": false,
         "success_message": "Note that the Gradescope autograder will deduct points if your code fails the following rubric point - '`all_planets_list` data structure is not used to answer (-1)'.The public tests cannot determine if your code satisfies these requirements. Verify your code manually."
        },
        {
         "code": ">>> \n>>> public_tests.rubric_check('q14: did not exit loop and instead iterated further after finding the answer')\nAll test cases passed!\n",
         "hidden": false,
         "locked": false,
         "success_message": "Note that the Gradescope autograder will deduct points if your code fails the following rubric point - 'did not exit loop and instead iterated further after finding the answer (-1)'.The public tests cannot determine if your code satisfies these requirements. Verify your code manually."
        }
       ],
       "scored": true,
       "setup": "",
       "teardown": "",
       "type": "doctest"
      }
     ]
    },
    "q15": {
     "name": "q15",
     "points": 0,
     "suites": [
      {
       "cases": [
        {
         "code": ">>> public_tests.check('q15', distances_to_star_b_cen_ab_b)\nAll test cases passed!\n",
         "hidden": false,
         "locked": false
        },
        {
         "code": ">>> \n>>> public_tests.rubric_check('q15: `get_distances_to_star` function is not used to answer')\nAll test cases passed!\n",
         "hidden": false,
         "locked": false,
         "success_message": "Note that the Gradescope autograder will deduct points if your code fails the following rubric point - '`get_distances_to_star` function is not used to answer (-1)'.The public tests cannot determine if your code satisfies these requirements. Verify your code manually."
        },
        {
         "code": ">>> \n>>> public_tests.rubric_check('q15: `all_planets_list` data structure is not used to answer')\nAll test cases passed!\n",
         "hidden": false,
         "locked": false,
         "success_message": "Note that the Gradescope autograder will deduct points if your code fails the following rubric point - '`all_planets_list` data structure is not used to answer (-1)'.The public tests cannot determine if your code satisfies these requirements. Verify your code manually."
        },
        {
         "code": ">>> \n>>> public_tests.rubric_check('q15: did not exit loop and instead iterated further after finding the answer')\nAll test cases passed!\n",
         "hidden": false,
         "locked": false,
         "success_message": "Note that the Gradescope autograder will deduct points if your code fails the following rubric point - 'did not exit loop and instead iterated further after finding the answer (-1)'.The public tests cannot determine if your code satisfies these requirements. Verify your code manually."
        }
       ],
       "scored": true,
       "setup": "",
       "teardown": "",
       "type": "doctest"
      }
     ]
    },
    "q16": {
     "name": "q16",
     "points": 0,
     "suites": [
      {
       "cases": [
        {
         "code": ">>> public_tests.check('q16', liquid_water_distances_kepler_197_e)\nAll test cases passed!\n",
         "hidden": false,
         "locked": false
        },
        {
         "code": ">>> \n>>> public_tests.rubric_check('q16: `get_liquid_water_distances` function is not used to answer')\nAll test cases passed!\n",
         "hidden": false,
         "locked": false,
         "success_message": "Note that the Gradescope autograder will deduct points if your code fails the following rubric point - '`get_liquid_water_distances` function is not used to answer (-1)'.The public tests cannot determine if your code satisfies these requirements. Verify your code manually."
        },
        {
         "code": ">>> \n>>> public_tests.rubric_check('q16: `all_planets_list` data structure is not used to answer')\nAll test cases passed!\n",
         "hidden": false,
         "locked": false,
         "success_message": "Note that the Gradescope autograder will deduct points if your code fails the following rubric point - '`all_planets_list` data structure is not used to answer (-1)'.The public tests cannot determine if your code satisfies these requirements. Verify your code manually."
        },
        {
         "code": ">>> \n>>> public_tests.rubric_check('q16: did not exit loop and instead iterated further after finding the answer')\nAll test cases passed!\n",
         "hidden": false,
         "locked": false,
         "success_message": "Note that the Gradescope autograder will deduct points if your code fails the following rubric point - 'did not exit loop and instead iterated further after finding the answer (-1)'.The public tests cannot determine if your code satisfies these requirements. Verify your code manually."
        }
       ],
       "scored": true,
       "setup": "",
       "teardown": "",
       "type": "doctest"
      }
     ]
    },
    "q17": {
     "name": "q17",
     "points": 0,
     "suites": [
      {
       "cases": [
        {
         "code": ">>> public_tests.check('q17', planets_with_liquid_water)\nAll test cases passed!\n",
         "hidden": false,
         "locked": false
        },
        {
         "code": ">>> \n>>> public_tests.rubric_check('q17: incorrect logic is used to answer')\nAll test cases passed!\n",
         "hidden": false,
         "locked": false,
         "success_message": "Note that the Gradescope autograder will deduct points if your code fails the following rubric point - 'incorrect logic is used to answer (-1)'.The public tests cannot determine if your code satisfies these requirements. Verify your code manually."
        },
        {
         "code": ">>> \n>>> public_tests.rubric_check('q17: `get_liquid_water_distances` function is not used to answer')\nAll test cases passed!\n",
         "hidden": false,
         "locked": false,
         "success_message": "Note that the Gradescope autograder will deduct points if your code fails the following rubric point - '`get_liquid_water_distances` function is not used to answer (-1)'.The public tests cannot determine if your code satisfies these requirements. Verify your code manually."
        },
        {
         "code": ">>> \n>>> public_tests.rubric_check('q17: `all_planets_list` data structure is not used to answer')\nAll test cases passed!\n",
         "hidden": false,
         "locked": false,
         "success_message": "Note that the Gradescope autograder will deduct points if your code fails the following rubric point - '`all_planets_list` data structure is not used to answer (-1)'.The public tests cannot determine if your code satisfies these requirements. Verify your code manually."
        },
        {
         "code": ">>> public_tests.rubric_check('q17: public tests')\nAll test cases passed!\n",
         "hidden": false,
         "locked": false
        }
       ],
       "scored": true,
       "setup": "",
       "teardown": "",
       "type": "doctest"
      }
     ]
    },
    "q18": {
     "name": "q18",
     "points": 0,
     "suites": [
      {
       "cases": [
        {
         "code": ">>> public_tests.check('q18', surface_temp_hd_20794_d)\nAll test cases passed!\n",
         "hidden": false,
         "locked": false
        },
        {
         "code": ">>> \n>>> public_tests.rubric_check('q18: `get_surface_temperatures` function is not used to answer')\nAll test cases passed!\n",
         "hidden": false,
         "locked": false,
         "success_message": "Note that the Gradescope autograder will deduct points if your code fails the following rubric point - '`get_surface_temperatures` function is not used to answer (-1)'.The public tests cannot determine if your code satisfies these requirements. Verify your code manually."
        },
        {
         "code": ">>> \n>>> public_tests.rubric_check('q18: `all_planets_list` data structure is not used to answer')\nAll test cases passed!\n",
         "hidden": false,
         "locked": false,
         "success_message": "Note that the Gradescope autograder will deduct points if your code fails the following rubric point - '`all_planets_list` data structure is not used to answer (-1)'.The public tests cannot determine if your code satisfies these requirements. Verify your code manually."
        },
        {
         "code": ">>> \n>>> public_tests.rubric_check('q18: did not exit loop and instead iterated further after finding the answer')\nAll test cases passed!\n",
         "hidden": false,
         "locked": false,
         "success_message": "Note that the Gradescope autograder will deduct points if your code fails the following rubric point - 'did not exit loop and instead iterated further after finding the answer (-1)'.The public tests cannot determine if your code satisfies these requirements. Verify your code manually."
        }
       ],
       "scored": true,
       "setup": "",
       "teardown": "",
       "type": "doctest"
      }
     ]
    },
    "q19": {
     "name": "q19",
     "points": 0,
     "suites": [
      {
       "cases": [
        {
         "code": ">>> public_tests.check('q19', pleasant_planets)\nAll test cases passed!\n",
         "hidden": false,
         "locked": false
        },
        {
         "code": ">>> \n>>> public_tests.rubric_check('q19: incorrect comparison operators are used')\nAll test cases passed!\n",
         "hidden": false,
         "locked": false,
         "success_message": "Note that the Gradescope autograder will deduct points if your code fails the following rubric point - 'incorrect comparison operators are used (-1)'.The public tests cannot determine if your code satisfies these requirements. Verify your code manually."
        },
        {
         "code": ">>> \n>>> public_tests.rubric_check('q19: `get_surface_temperatures` function is not used to answer')\nAll test cases passed!\n",
         "hidden": false,
         "locked": false,
         "success_message": "Note that the Gradescope autograder will deduct points if your code fails the following rubric point - '`get_surface_temperatures` function is not used to answer (-1)'.The public tests cannot determine if your code satisfies these requirements. Verify your code manually."
        },
        {
         "code": ">>> \n>>> public_tests.rubric_check('q19: `all_planets_list` data structure is not used to answer')\nAll test cases passed!\n",
         "hidden": false,
         "locked": false,
         "success_message": "Note that the Gradescope autograder will deduct points if your code fails the following rubric point - '`all_planets_list` data structure is not used to answer (-1)'.The public tests cannot determine if your code satisfies these requirements. Verify your code manually."
        },
        {
         "code": ">>> public_tests.rubric_check('q19: public tests')\nAll test cases passed!\n",
         "hidden": false,
         "locked": false
        }
       ],
       "scored": true,
       "setup": "",
       "teardown": "",
       "type": "doctest"
      }
     ]
    },
    "q2": {
     "name": "q2",
     "points": 0,
     "suites": [
      {
       "cases": [
        {
         "code": ">>> public_tests.check('q2', coeff_gj9827)\nAll test cases passed!\n",
         "hidden": false,
         "locked": false
        },
        {
         "code": ">>> \n>>> public_tests.rubric_check('q2: incorrect logic is used to answer')\nAll test cases passed!\n",
         "hidden": false,
         "locked": false,
         "success_message": "Note that the Gradescope autograder will deduct points if your code fails the following rubric point - 'incorrect logic is used to answer (-1)'.The public tests cannot determine if your code satisfies these requirements. Verify your code manually."
        },
        {
         "code": ">>> \n>>> public_tests.rubric_check('q2: recomputed variable defined in Question 1')\nAll test cases passed!\n",
         "hidden": false,
         "locked": false,
         "success_message": "Note that the Gradescope autograder will deduct points if your code fails the following rubric point - 'recomputed variable defined in Question 1 (-1)'.The public tests cannot determine if your code satisfies these requirements. Verify your code manually."
        },
        {
         "code": ">>> public_tests.rubric_check('q2: public tests')\nAll test cases passed!\n",
         "hidden": false,
         "locked": false
        }
       ],
       "scored": true,
       "setup": "",
       "teardown": "",
       "type": "doctest"
      }
     ]
    },
    "q20": {
     "name": "q20",
     "points": 0,
     "suites": [
      {
       "cases": [
        {
         "code": ">>> public_tests.check('q20', habitable_planets)\nAll test cases passed!\n",
         "hidden": false,
         "locked": false
        },
        {
         "code": ">>> \n>>> public_tests.rubric_check('q20: incorrect logic is used to answer')\nAll test cases passed!\n",
         "hidden": false,
         "locked": false,
         "success_message": "Note that the Gradescope autograder will deduct points if your code fails the following rubric point - 'incorrect logic is used to answer (-2)'.The public tests cannot determine if your code satisfies these requirements. Verify your code manually."
        },
        {
         "code": ">>> \n>>> public_tests.rubric_check('q20: `get_surface_gravity`, `get_distances_to_star`, `get_liquid_water_distances`, and `get_surface_temperatures` functions are not used to answer')\nAll test cases passed!\n",
         "hidden": false,
         "locked": false,
         "success_message": "Note that the Gradescope autograder will deduct points if your code fails the following rubric point - '`get_surface_gravity`, `get_distances_to_star`, `get_liquid_water_distances`, and `get_surface_temperatures` functions are not used to answer (-1)'.The public tests cannot determine if your code satisfies these requirements. Verify your code manually."
        },
        {
         "code": ">>> \n>>> public_tests.rubric_check('q20: `all_planets_list` data structure is not used to answer')\nAll test cases passed!\n",
         "hidden": false,
         "locked": false,
         "success_message": "Note that the Gradescope autograder will deduct points if your code fails the following rubric point - '`all_planets_list` data structure is not used to answer (-1)'.The public tests cannot determine if your code satisfies these requirements. Verify your code manually."
        },
        {
         "code": ">>> public_tests.rubric_check('q20: public tests')\nAll test cases passed!\n",
         "hidden": false,
         "locked": false
        }
       ],
       "scored": true,
       "setup": "",
       "teardown": "",
       "type": "doctest"
      }
     ]
    },
    "q3": {
     "name": "q3",
     "points": 0,
     "suites": [
      {
       "cases": [
        {
         "code": ">>> public_tests.check('q3', percentage_change)\nAll test cases passed!\n",
         "hidden": false,
         "locked": false
        },
        {
         "code": ">>> \n>>> public_tests.rubric_check('q3: incorrect logic is used to answer')\nAll test cases passed!\n",
         "hidden": false,
         "locked": false,
         "success_message": "Note that the Gradescope autograder will deduct points if your code fails the following rubric point - 'incorrect logic is used to answer (-1)'.The public tests cannot determine if your code satisfies these requirements. Verify your code manually."
        },
        {
         "code": ">>> \n>>> public_tests.rubric_check('q3: recomputed variable defined in Question 1')\nAll test cases passed!\n",
         "hidden": false,
         "locked": false,
         "success_message": "Note that the Gradescope autograder will deduct points if your code fails the following rubric point - 'recomputed variable defined in Question 1 (-1)'.The public tests cannot determine if your code satisfies these requirements. Verify your code manually."
        },
        {
         "code": ">>> \n>>> public_tests.rubric_check('q3: `stars_dict` data structure is not used to answer')\nAll test cases passed!\n",
         "hidden": false,
         "locked": false,
         "success_message": "Note that the Gradescope autograder will deduct points if your code fails the following rubric point - '`stars_dict` data structure is not used to answer (-1)'.The public tests cannot determine if your code satisfies these requirements. Verify your code manually."
        }
       ],
       "scored": true,
       "setup": "",
       "teardown": "",
       "type": "doctest"
      }
     ]
    },
    "q4": {
     "name": "q4",
     "points": 0,
     "suites": [
      {
       "cases": [
        {
         "code": ">>> public_tests.check('q4', {'flux_list': flux_list, 'temp_4th_power_list': temp_4th_power_list})\nAll test cases passed!\n",
         "hidden": false,
         "locked": false
        },
        {
         "code": ">>> \n>>> public_tests.rubric_check('q4: incorrect logic is used to answer')\nAll test cases passed!\n",
         "hidden": false,
         "locked": false,
         "success_message": "Note that the Gradescope autograder will deduct points if your code fails the following rubric point - 'incorrect logic is used to answer (-1)'.The public tests cannot determine if your code satisfies these requirements. Verify your code manually."
        },
        {
         "code": ">>> \n>>> public_tests.rubric_check('q4: `planets_list` data structure is not used to answer')\nAll test cases passed!\n",
         "hidden": false,
         "locked": false,
         "success_message": "Note that the Gradescope autograder will deduct points if your code fails the following rubric point - '`planets_list` data structure is not used to answer (-1)'.The public tests cannot determine if your code satisfies these requirements. Verify your code manually."
        },
        {
         "code": ">>> \n>>> public_tests.rubric_check('q4: plot is incorrect')\nAll test cases passed!\n",
         "hidden": false,
         "locked": false,
         "success_message": "Note that the Gradescope autograder will deduct points if your code fails the following rubric point - 'plot is incorrect (-1)'.The public tests cannot determine if your code satisfies these requirements. Verify your code manually."
        },
        {
         "code": ">>> \n>>> public_tests.rubric_check('q4: plot is not properly labeled')\nAll test cases passed!\n",
         "hidden": false,
         "locked": false,
         "success_message": "Note that the Gradescope autograder will deduct points if your code fails the following rubric point - 'plot is not properly labeled (-1)'.The public tests cannot determine if your code satisfies these requirements. Verify your code manually."
        },
        {
         "code": ">>> public_tests.rubric_check('q4: public tests')\nAll test cases passed!\n",
         "hidden": false,
         "locked": false
        }
       ],
       "scored": true,
       "setup": "",
       "teardown": "",
       "type": "doctest"
      }
     ]
    },
    "q5": {
     "name": "q5",
     "points": 0,
     "suites": [
      {
       "cases": [
        {
         "code": ">>> public_tests.check('q5', {'flux_list_no_outliers': flux_list_no_outliers, 'temp_4th_power_list_no_outliers': temp_4th_power_list_no_outliers})\nAll test cases passed!\n",
         "hidden": false,
         "locked": false
        },
        {
         "code": ">>> \n>>> public_tests.rubric_check('q5: incorrect comparison operator is used')\nAll test cases passed!\n",
         "hidden": false,
         "locked": false,
         "success_message": "Note that the Gradescope autograder will deduct points if your code fails the following rubric point - 'incorrect comparison operator is used (-1)'.The public tests cannot determine if your code satisfies these requirements. Verify your code manually."
        },
        {
         "code": ">>> \n>>> public_tests.rubric_check('q5: `planets_list` data structure is not used to answer')\nAll test cases passed!\n",
         "hidden": false,
         "locked": false,
         "success_message": "Note that the Gradescope autograder will deduct points if your code fails the following rubric point - '`planets_list` data structure is not used to answer (-1)'.The public tests cannot determine if your code satisfies these requirements. Verify your code manually."
        },
        {
         "code": ">>> \n>>> public_tests.rubric_check('q5: plot is incorrect')\nAll test cases passed!\n",
         "hidden": false,
         "locked": false,
         "success_message": "Note that the Gradescope autograder will deduct points if your code fails the following rubric point - 'plot is incorrect (-1)'.The public tests cannot determine if your code satisfies these requirements. Verify your code manually."
        },
        {
         "code": ">>> \n>>> public_tests.rubric_check('q5: plot is not properly labeled')\nAll test cases passed!\n",
         "hidden": false,
         "locked": false,
         "success_message": "Note that the Gradescope autograder will deduct points if your code fails the following rubric point - 'plot is not properly labeled (-1)'.The public tests cannot determine if your code satisfies these requirements. Verify your code manually."
        },
        {
         "code": ">>> public_tests.rubric_check('q5: public tests')\nAll test cases passed!\n",
         "hidden": false,
         "locked": false
        }
       ],
       "scored": true,
       "setup": "",
       "teardown": "",
       "type": "doctest"
      }
     ]
    },
    "q6": {
     "name": "q6",
     "points": 0,
     "suites": [
      {
       "cases": [
        {
         "code": ">>> public_tests.check('q6', star_classes_avg_lum)\nAll test cases passed!\n",
         "hidden": false,
         "locked": false
        },
        {
         "code": ">>> \n>>> public_tests.rubric_check('q6: incorrect logic is used to answer')\nAll test cases passed!\n",
         "hidden": false,
         "locked": false,
         "success_message": "Note that the Gradescope autograder will deduct points if your code fails the following rubric point - 'incorrect logic is used to answer (-1)'.The public tests cannot determine if your code satisfies these requirements. Verify your code manually."
        },
        {
         "code": ">>> \n>>> public_tests.rubric_check('q6: did not ignore the `Star` objects with missing `stellar_luminosity` data')\nAll test cases passed!\n",
         "hidden": false,
         "locked": false,
         "success_message": "Note that the Gradescope autograder will deduct points if your code fails the following rubric point - 'did not ignore the `Star` objects with missing `stellar_luminosity` data (-1)'.The public tests cannot determine if your code satisfies these requirements. Verify your code manually."
        },
        {
         "code": ">>> \n>>> public_tests.rubric_check('q6: `star_classes` data structure is not used to answer')\nAll test cases passed!\n",
         "hidden": false,
         "locked": false,
         "success_message": "Note that the Gradescope autograder will deduct points if your code fails the following rubric point - '`star_classes` data structure is not used to answer (-1)'.The public tests cannot determine if your code satisfies these requirements. Verify your code manually."
        }
       ],
       "scored": true,
       "setup": "",
       "teardown": "",
       "type": "doctest"
      }
     ]
    },
    "q7": {
     "name": "q7",
     "points": 0,
     "suites": [
      {
       "cases": [
        {
         "code": ">>> public_tests.check('q7', {'density_dict': density_dict, 'lum_dict': lum_dict})\nAll test cases passed!\n",
         "hidden": false,
         "locked": false
        },
        {
         "code": ">>> \n>>> public_tests.rubric_check('q7: incorrect logic is used to answer')\nAll test cases passed!\n",
         "hidden": false,
         "locked": false,
         "success_message": "Note that the Gradescope autograder will deduct points if your code fails the following rubric point - 'incorrect logic is used to answer (-1)'.The public tests cannot determine if your code satisfies these requirements. Verify your code manually."
        },
        {
         "code": ">>> \n>>> public_tests.rubric_check('q7: `star_classes` data structure is not used to answer')\nAll test cases passed!\n",
         "hidden": false,
         "locked": false,
         "success_message": "Note that the Gradescope autograder will deduct points if your code fails the following rubric point - '`star_classes` data structure is not used to answer (-1)'.The public tests cannot determine if your code satisfies these requirements. Verify your code manually."
        },
        {
         "code": ">>> \n>>> public_tests.rubric_check('q7: plot is incorrect')\nAll test cases passed!\n",
         "hidden": false,
         "locked": false,
         "success_message": "Note that the Gradescope autograder will deduct points if your code fails the following rubric point - 'plot is incorrect (-1)'.The public tests cannot determine if your code satisfies these requirements. Verify your code manually."
        },
        {
         "code": ">>> \n>>> public_tests.rubric_check('q7: plot is not properly labeled')\nAll test cases passed!\n",
         "hidden": false,
         "locked": false,
         "success_message": "Note that the Gradescope autograder will deduct points if your code fails the following rubric point - 'plot is not properly labeled (-1)'.The public tests cannot determine if your code satisfies these requirements. Verify your code manually."
        },
        {
         "code": ">>> public_tests.rubric_check('q7: public tests')\nAll test cases passed!\n",
         "hidden": false,
         "locked": false
        }
       ],
       "scored": true,
       "setup": "",
       "teardown": "",
       "type": "doctest"
      }
     ]
    },
    "q8": {
     "name": "q8",
     "points": 0,
     "suites": [
      {
       "cases": [
        {
         "code": ">>> public_tests.check('q8', {'density_dict_no_outliers': density_dict_no_outliers, 'lum_dict_no_outliers': lum_dict_no_outliers})\nAll test cases passed!\n",
         "hidden": false,
         "locked": false
        },
        {
         "code": ">>> \n>>> public_tests.rubric_check('q8: incorrect comparison operator is used')\nAll test cases passed!\n",
         "hidden": false,
         "locked": false,
         "success_message": "Note that the Gradescope autograder will deduct points if your code fails the following rubric point - 'incorrect comparison operator is used (-1)'.The public tests cannot determine if your code satisfies these requirements. Verify your code manually."
        },
        {
         "code": ">>> \n>>> public_tests.rubric_check('q8: `star_classes` data structure is not used to answer')\nAll test cases passed!\n",
         "hidden": false,
         "locked": false,
         "success_message": "Note that the Gradescope autograder will deduct points if your code fails the following rubric point - '`star_classes` data structure is not used to answer (-1)'.The public tests cannot determine if your code satisfies these requirements. Verify your code manually."
        },
        {
         "code": ">>> \n>>> public_tests.rubric_check('q8: plot is incorrect')\nAll test cases passed!\n",
         "hidden": false,
         "locked": false,
         "success_message": "Note that the Gradescope autograder will deduct points if your code fails the following rubric point - 'plot is incorrect (-1)'.The public tests cannot determine if your code satisfies these requirements. Verify your code manually."
        },
        {
         "code": ">>> \n>>> public_tests.rubric_check('q8: plot is not properly labeled')\nAll test cases passed!\n",
         "hidden": false,
         "locked": false,
         "success_message": "Note that the Gradescope autograder will deduct points if your code fails the following rubric point - 'plot is not properly labeled (-1)'.The public tests cannot determine if your code satisfies these requirements. Verify your code manually."
        },
        {
         "code": ">>> public_tests.rubric_check('q8: public tests')\nAll test cases passed!\n",
         "hidden": false,
         "locked": false
        }
       ],
       "scored": true,
       "setup": "",
       "teardown": "",
       "type": "doctest"
      }
     ]
    },
    "q9": {
     "name": "q9",
     "points": 0,
     "suites": [
      {
       "cases": [
        {
         "code": ">>> public_tests.check('q9', {'temp_list': temp_list, 'lum_list': lum_list, 'age_list': age_list, 'mass_list': mass_list})\nAll test cases passed!\n",
         "hidden": false,
         "locked": false
        },
        {
         "code": ">>> \n>>> public_tests.rubric_check('q9: incorrect logic is used to answer')\nAll test cases passed!\n",
         "hidden": false,
         "locked": false,
         "success_message": "Note that the Gradescope autograder will deduct points if your code fails the following rubric point - 'incorrect logic is used to answer (-1)'.The public tests cannot determine if your code satisfies these requirements. Verify your code manually."
        },
        {
         "code": ">>> \n>>> public_tests.rubric_check('q9: `stars_dict` data structure is not used to answer')\nAll test cases passed!\n",
         "hidden": false,
         "locked": false,
         "success_message": "Note that the Gradescope autograder will deduct points if your code fails the following rubric point - '`stars_dict` data structure is not used to answer (-1)'.The public tests cannot determine if your code satisfies these requirements. Verify your code manually."
        },
        {
         "code": ">>> \n>>> public_tests.rubric_check('q9: plot is incorrect')\nAll test cases passed!\n",
         "hidden": false,
         "locked": false,
         "success_message": "Note that the Gradescope autograder will deduct points if your code fails the following rubric point - 'plot is incorrect (-1)'.The public tests cannot determine if your code satisfies these requirements. Verify your code manually."
        },
        {
         "code": ">>> \n>>> public_tests.rubric_check('q9: plot is not properly labeled')\nAll test cases passed!\n",
         "hidden": false,
         "locked": false,
         "success_message": "Note that the Gradescope autograder will deduct points if your code fails the following rubric point - 'plot is not properly labeled (-1)'.The public tests cannot determine if your code satisfies these requirements. Verify your code manually."
        },
        {
         "code": ">>> public_tests.rubric_check('q9: public tests')\nAll test cases passed!\n",
         "hidden": false,
         "locked": false
        }
       ],
       "scored": true,
       "setup": "",
       "teardown": "",
       "type": "doctest"
      }
     ]
    },
    "star_cell": {
     "name": "star_cell",
     "points": 0,
     "suites": [
      {
       "cases": [
        {
         "code": ">>> print('All test cases passed!')\nAll test cases passed!\n",
         "hidden": false,
         "locked": false
        }
       ],
       "scored": true,
       "setup": "",
       "teardown": "",
       "type": "doctest"
      }
     ]
    },
    "star_classes": {
     "name": "star_classes",
     "points": 0,
     "suites": [
      {
       "cases": [
        {
         "code": ">>> \n>>> public_tests.rubric_check('star_classes: data structure is defined incorrectly')\nAll test cases passed!\n",
         "hidden": false,
         "locked": false,
         "success_message": "Note that the Gradescope autograder will deduct points if your code fails the following rubric point - 'data structure is defined incorrectly (-1)'.The public tests cannot determine if your code satisfies these requirements. Verify your code manually."
        },
        {
         "code": ">>> \n>>> public_tests.rubric_check('star_classes: incorrect comparison operators are used')\nAll test cases passed!\n",
         "hidden": false,
         "locked": false,
         "success_message": "Note that the Gradescope autograder will deduct points if your code fails the following rubric point - 'incorrect comparison operators are used (-1)'.The public tests cannot determine if your code satisfies these requirements. Verify your code manually."
        },
        {
         "code": ">>> \n>>> public_tests.rubric_check('star_classes: `stars_dict` data structure is not used')\nAll test cases passed!\n",
         "hidden": false,
         "locked": false,
         "success_message": "Note that the Gradescope autograder will deduct points if your code fails the following rubric point - '`stars_dict` data structure is not used (-1)'.The public tests cannot determine if your code satisfies these requirements. Verify your code manually."
        }
       ],
       "scored": true,
       "setup": "",
       "teardown": "",
       "type": "doctest"
      }
     ]
    },
    "stars_dict": {
     "name": "stars_dict",
     "points": 0,
     "suites": [
      {
       "cases": [
        {
         "code": ">>> print('All test cases passed!')\nAll test cases passed!\n",
         "hidden": false,
         "locked": false
        }
       ],
       "scored": true,
       "setup": "",
       "teardown": "",
       "type": "doctest"
      }
     ]
    },
    "summary": {
     "name": "summary",
     "points": 127,
     "suites": [
      {
       "cases": [
        {
         "code": ">>> \n>>> public_tests.get_summary()\nTotal Score: 100/100\n",
         "hidden": false,
         "locked": false,
         "success_message": "Please submit your zip folder to Gradescope, and check your final score there. The Gradescope autograder will make deductions to your score based on the rubric."
        }
       ],
       "scored": true,
       "setup": "",
       "teardown": "",
       "type": "doctest"
      }
     ]
    }
   }
  },
  "vscode": {
   "interpreter": {
    "hash": "aee8b7b246df8f9039afb4144a1f6fd8d2ca17a180786b69acc140d282b71a49"
   }
  }
 },
 "nbformat": 4,
 "nbformat_minor": 5
}
